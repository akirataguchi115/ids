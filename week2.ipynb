{
 "cells": [
  {
   "cell_type": "markdown",
   "metadata": {
    "id": "Uc96HGV0pYkJ"
   },
   "source": [
    "# Introduction to Data Science 2025\n",
    "\n",
    "# Week 2"
   ]
  },
  {
   "cell_type": "markdown",
   "metadata": {
    "id": "zWh-qfRJpYkK"
   },
   "source": [
    "## Exercise 1 | Titanic: data preprocessing and imputation\n",
    "<span style=\"font-weight: bold\"> *Note: You can find tutorials for NumPy and Pandas under 'Useful tutorials' in the course material.*</span>"
   ]
  },
  {
   "cell_type": "markdown",
   "metadata": {
    "id": "OZy31vJxpYkK"
   },
   "source": [
    "Download the [Titanic dataset](https://www.kaggle.com/c/titanic) [train.csv] from Kaggle or <span style=\"font-weight: 500\">directly from the course material</span>, and complete the following exercises. If you choose to download the dataset from Kaggle, you will need to create a Kaggle account unless you already have one, but it is quite straightforward.\n",
    "\n",
    "The dataset consists of personal information of all the passengers on board the RMS Titanic, along with information about whether they survived the iceberg collision or not.\n",
    "\n",
    "1. Your first task is to read the data file and print the shape of the data.\n",
    "\n",
    "    <span style=\"font-weight: 500\"> *Hint 1: You can read them into a Pandas dataframe if you wish.*</span>\n",
    "    \n",
    "    <span style=\"font-weight: 500\"> *Hint 2: The shape of the data should be (891, 12).*</span>"
   ]
  },
  {
   "cell_type": "code",
   "execution_count": 1,
   "metadata": {},
   "outputs": [
    {
     "name": "stdout",
     "output_type": "stream",
     "text": [
      "Requirement already satisfied: pandas in /home/taguchi/.local/share/pipx/venvs/jupyterlab/lib/python3.12/site-packages (2.3.2)\n",
      "Requirement already satisfied: numpy>=1.26.0 in /home/taguchi/.local/share/pipx/venvs/jupyterlab/lib/python3.12/site-packages (from pandas) (2.3.2)\n",
      "Requirement already satisfied: python-dateutil>=2.8.2 in /home/taguchi/.local/share/pipx/venvs/jupyterlab/lib/python3.12/site-packages (from pandas) (2.9.0.post0)\n",
      "Requirement already satisfied: pytz>=2020.1 in /home/taguchi/.local/share/pipx/venvs/jupyterlab/lib/python3.12/site-packages (from pandas) (2025.2)\n",
      "Requirement already satisfied: tzdata>=2022.7 in /home/taguchi/.local/share/pipx/venvs/jupyterlab/lib/python3.12/site-packages (from pandas) (2025.2)\n",
      "Requirement already satisfied: six>=1.5 in /home/taguchi/.local/share/pipx/venvs/jupyterlab/lib/python3.12/site-packages (from python-dateutil>=2.8.2->pandas) (1.17.0)\n",
      "Note: you may need to restart the kernel to use updated packages.\n"
     ]
    }
   ],
   "source": [
    "%pip install pandas"
   ]
  },
  {
   "cell_type": "code",
   "execution_count": 2,
   "metadata": {
    "id": "l4kCNDespYkK"
   },
   "outputs": [
    {
     "data": {
      "text/plain": [
       "(891, 12)"
      ]
     },
     "execution_count": 2,
     "metadata": {},
     "output_type": "execute_result"
    }
   ],
   "source": [
    "import pandas as pd\n",
    "import numpy as np\n",
    "\n",
    "df = pd.read_csv('train.csv')\n",
    "np.shape(df)"
   ]
  },
  {
   "cell_type": "markdown",
   "metadata": {
    "id": "VCZoOS-wpYkL"
   },
   "source": [
    "2. Let's look at the data and get started with some preprocessing. Some of the columns, e.g <span style=\"font-weight: 500\"> *Name*</span>, simply identify a person and are not useful for prediction tasks. Try to identify these columns, and remove them.\n",
    "\n",
    "    <span style=\"font-weight: 500\"> *Hint: The shape of the data should now be (891, 9).*</span>"
   ]
  },
  {
   "cell_type": "code",
   "execution_count": 3,
   "metadata": {
    "id": "m18V-jpTpYkL"
   },
   "outputs": [
    {
     "data": {
      "text/plain": [
       "(891, 9)"
      ]
     },
     "execution_count": 3,
     "metadata": {},
     "output_type": "execute_result"
    }
   ],
   "source": [
    "df.drop(['Name', 'Ticket', 'PassengerId'], axis=1, inplace=True)\n",
    "np.shape(df)"
   ]
  },
  {
   "cell_type": "markdown",
   "metadata": {
    "id": "48AcPDOrpYkL"
   },
   "source": [
    "3. The column <span style=\"font-weight: 500\">*Cabin*</span> contains a letter and a number. A smart catch at this point would be to notice that the letter stands for the deck level on the ship. Keeping just the deck information would be more informative when developing, e.g. a classifier that predicts whether a passenger survived. The next step in our preprocessing will be to add a new column to the dataset, which consists simply of the deck letter. You can then remove the original <span style=\"font-weight: 500\">*Cabin*</span>-column.\n",
    "\n",
    "<span style=\"font-weight: 500\">*Hint: The deck letters should be ['A' 'B' 'C' 'D' 'E' 'F' 'G' 'T'].*</span>"
   ]
  },
  {
   "cell_type": "code",
   "execution_count": 4,
   "metadata": {
    "id": "OQX5LmWrpYkL"
   },
   "outputs": [],
   "source": [
    "df['Deck'] = df['Cabin'].str[0]\n",
    "df.drop('Cabin', axis=1, inplace=True)"
   ]
  },
  {
   "cell_type": "markdown",
   "metadata": {
    "id": "mupSH5tXpYkL"
   },
   "source": [
    "4. You’ll notice that some of the columns, such as the previously added deck number, are [categorical](https://en.wikipedia.org/wiki/Categorical_variable). To preprocess the categorical variables so that they're ready for further computation, we need to avoid the current string format of the values. This means the next step for each categorical variable is to transform the string values to numeric ones, that correspond to a unique integer ID representative of each distinct category. This process is called label encoding and you can read more about it [here](https://pandas.pydata.org/docs/user_guide/categorical.html).\n",
    "\n",
    "    <span style=\"font-weight: 500\">*Hint: Pandas can do this for you.*</span>"
   ]
  },
  {
   "cell_type": "code",
   "execution_count": 5,
   "metadata": {
    "id": "cfb0_uzRpYkL"
   },
   "outputs": [],
   "source": [
    "df['Deck'] = df['Deck'].astype('category')"
   ]
  },
  {
   "cell_type": "markdown",
   "metadata": {
    "id": "32_hHxGLpYkL"
   },
   "source": [
    "5. Next, let's look into missing value **imputation**. Some of the rows in the data have missing values, e.g when the cabin number of a person is unknown. Most machine learning algorithms have trouble with missing values, and they need to be handled during preprocessing:\n",
    "\n",
    "    a) For continuous variables, replace the missing values with the mean of the non-missing values of that column.\n",
    "\n",
    "    b) For categorical variables, replace the missing values with the mode of the column.\n",
    "\n",
    "    <span style=\"font-weight: 500\">*Remember: Even though in the previous step we transformed categorical variables into their numeric representation, they are still categorical.*</span>"
   ]
  },
  {
   "cell_type": "code",
   "execution_count": 6,
   "metadata": {
    "id": "e0kh2bbGpYkL"
   },
   "outputs": [],
   "source": [
    "df = df.fillna(df.mean(numeric_only=True))\n",
    "for col in df.select_dtypes(include=['object', 'category']):\n",
    "    if df[col].isnull().any():\n",
    "        df[col] = df[col].fillna(df[col].mode()[0])"
   ]
  },
  {
   "cell_type": "markdown",
   "metadata": {
    "id": "15Kbmgx9pYkM"
   },
   "source": [
    "6. At this point, all data is numeric. Write the data, with the modifications we made, to a  <span style=\"font-weight: 500\"> .csv</span> file. Then, write another file, this time in <span style=\"font-weight: 500\">JSON</span> format, with the following structure:"
   ]
  },
  {
   "cell_type": "code",
   "execution_count": 7,
   "metadata": {
    "id": "J_EhC78NpYkM"
   },
   "outputs": [],
   "source": [
    "#[\n",
    "#    {\n",
    "#        \"Deck\": 0,\n",
    "#        \"Age\": 20,\n",
    "#        \"Survived\", 0\n",
    "#        ...\n",
    "#    },\n",
    "#    {\n",
    "#        ...\n",
    "#    }\n",
    "#]"
   ]
  },
  {
   "cell_type": "code",
   "execution_count": 8,
   "metadata": {
    "id": "lxF-ehbapYkM"
   },
   "outputs": [],
   "source": [
    "df.to_json('train.json', orient='records', compression='infer')"
   ]
  },
  {
   "cell_type": "markdown",
   "metadata": {
    "id": "PnkAgzHjpYkM"
   },
   "source": [
    "Study the records and try to see if there is any evident pattern in terms of chances of survival."
   ]
  },
  {
   "cell_type": "markdown",
   "metadata": {
    "id": "ddqs0UqLpYkM"
   },
   "source": [
    "**Remember to submit your code on the MOOC platform. You can return this Jupyter notebook (.ipynb) or .py, .R, etc depending on your programming preferences.**"
   ]
  },
  {
   "cell_type": "markdown",
   "metadata": {
    "id": "PGnzPePKpYkM"
   },
   "source": [
    "## Exercise 2 | Titanic 2.0: exploratory data analysis\n",
    "\n",
    "In this exercise, we’ll continue to study the Titanic dataset from the last exercise. Now that we have done some preprocessing, it’s time to look at the data with some exploratory data analysis."
   ]
  },
  {
   "cell_type": "markdown",
   "metadata": {
    "id": "i5nTB9ExpYkM"
   },
   "source": [
    "1. First investigate each feature variable in turn. For each categorical variable, find out the mode, i.e., the most frequent value. For numerical variables, calculate the median value."
   ]
  },
  {
   "cell_type": "code",
   "execution_count": 9,
   "metadata": {
    "id": "hKdMpHZApYkM"
   },
   "outputs": [
    {
     "name": "stdout",
     "output_type": "stream",
     "text": [
      "Survived     0.383838\n",
      "Pclass       2.308642\n",
      "Age         29.699118\n",
      "SibSp        0.523008\n",
      "Parch        0.381594\n",
      "Fare        32.204208\n",
      "dtype: float64\n",
      "Sex         male\n",
      "Embarked       S\n",
      "Deck           C\n",
      "Name: 0, dtype: object\n"
     ]
    }
   ],
   "source": [
    "print(df.select_dtypes(include=\"number\").mean())\n",
    "print(df.select_dtypes(exclude=\"number\").mode().iloc[0])"
   ]
  },
  {
   "cell_type": "markdown",
   "metadata": {
    "id": "aOjLqfDkpYkM"
   },
   "source": [
    "2. Next, combine the modes of the categorical variables, and the medians of the numerical variables, to construct an imaginary “average survivor”. This \"average survivor\" should represent the typical passenger of the class of passengers who survived. Also following the same principle, construct the “average non-survivor”.\n",
    "\n",
    "    <span style=\"font-weight: 500\">*Hint 1: What are the average/most frequent variable values for a non-survivor?*</span>\n",
    "    \n",
    "    <span style=\"font-weight: 500\">*Hint 2: You can split the dataframe in two: one subset containing all the survivors and one consisting of all the non-survivor instances. Then, you can use the summary statistics of each of these dataframe to create a prototype \"average survivor\" and \"average non-survivor\", respectively.*</span>"
   ]
  },
  {
   "cell_type": "code",
   "execution_count": 10,
   "metadata": {
    "id": "OhUU2GIDpYkM"
   },
   "outputs": [
    {
     "name": "stdout",
     "output_type": "stream",
     "text": [
      "=== Average Survivor ===\n",
      "Sex            female\n",
      "Embarked            S\n",
      "Deck                C\n",
      "Survived          1.0\n",
      "Pclass            2.0\n",
      "Age         29.699118\n",
      "SibSp             0.0\n",
      "Parch             0.0\n",
      "Fare             26.0\n",
      "dtype: object \n",
      "\n",
      "=== Average Non-Survivor ===\n",
      "Sex              male\n",
      "Embarked            S\n",
      "Deck                C\n",
      "Survived          0.0\n",
      "Pclass            3.0\n",
      "Age         29.699118\n",
      "SibSp             0.0\n",
      "Parch             0.0\n",
      "Fare             10.5\n",
      "dtype: object\n"
     ]
    }
   ],
   "source": [
    "survivors = df[df[\"Survived\"] == 1]\n",
    "nonsurvivors = df[df[\"Survived\"] == 0]\n",
    "\n",
    "def average_passenger(group):\n",
    "    categorical = group[df.select_dtypes(include=[\"object\", \"category\"]).columns].mode().iloc[0]\n",
    "    numerical = group[df.select_dtypes(include=[\"int64\", \"float64\"]).columns].median()\n",
    "    return pd.concat([categorical, numerical])\n",
    "\n",
    "print(\"=== Average Survivor ===\")\n",
    "print(average_passenger(survivors), \"\\n\")\n",
    "\n",
    "print(\"=== Average Non-Survivor ===\")\n",
    "print(average_passenger(nonsurvivors))"
   ]
  },
  {
   "cell_type": "markdown",
   "metadata": {
    "id": "e3Bax_hlpYkM"
   },
   "source": [
    "3. Next, let's study the distributions of the variables in the two groups (survivor/non-survivor). How well do the average cases represent the respective groups? Can you find actual passengers that are very similar to the (average) representative of their own group? Can you find passengers that are very similar to the (average) representative of the other group?\n",
    "\n",
    "    <span style=\"font-weight: 500\">*Note: Feel free to choose EDA methods according to your preference: non-graphical/graphical, static/interactive - anything goes.*</span>"
   ]
  },
  {
   "cell_type": "code",
   "execution_count": null,
   "metadata": {},
   "outputs": [],
   "source": [
    "%pip install plotly"
   ]
  },
  {
   "cell_type": "code",
   "execution_count": 18,
   "metadata": {
    "id": "mNsSMXRMpYkM"
   },
   "outputs": [
    {
     "data": {
      "application/vnd.plotly.v1+json": {
       "config": {
        "plotlyServerURL": "https://plot.ly"
       },
       "data": [
        {
         "alignmentgroup": "True",
         "bingroup": "x",
         "hovertemplate": "Survived=0<br>Sex=%{x}<br>count=%{y}<extra></extra>",
         "legendgroup": "0",
         "marker": {
          "color": "#636efa",
          "pattern": {
           "shape": ""
          }
         },
         "name": "0",
         "offsetgroup": "0",
         "orientation": "v",
         "showlegend": true,
         "type": "histogram",
         "x": [
          "male",
          "male",
          "male",
          "male",
          "male",
          "male",
          "male",
          "female",
          "male",
          "female",
          "male",
          "female",
          "male",
          "male",
          "male",
          "male",
          "male",
          "male",
          "male",
          "male",
          "female",
          "female",
          "female",
          "male",
          "male",
          "male",
          "male",
          "female",
          "male",
          "male",
          "male",
          "male",
          "male",
          "male",
          "male",
          "male",
          "male",
          "male",
          "male",
          "male",
          "female",
          "male",
          "male",
          "male",
          "male",
          "male",
          "male",
          "male",
          "male",
          "male",
          "male",
          "male",
          "male",
          "male",
          "male",
          "male",
          "male",
          "male",
          "male",
          "female",
          "male",
          "male",
          "male",
          "male",
          "male",
          "male",
          "male",
          "female",
          "male",
          "female",
          "female",
          "male",
          "male",
          "male",
          "male",
          "female",
          "male",
          "male",
          "male",
          "male",
          "male",
          "male",
          "male",
          "male",
          "female",
          "male",
          "male",
          "male",
          "male",
          "male",
          "female",
          "male",
          "male",
          "male",
          "female",
          "male",
          "male",
          "male",
          "male",
          "male",
          "male",
          "male",
          "male",
          "male",
          "male",
          "male",
          "male",
          "male",
          "male",
          "female",
          "male",
          "male",
          "male",
          "male",
          "male",
          "male",
          "male",
          "male",
          "female",
          "male",
          "male",
          "female",
          "male",
          "male",
          "male",
          "male",
          "male",
          "male",
          "male",
          "male",
          "female",
          "male",
          "male",
          "male",
          "male",
          "female",
          "male",
          "male",
          "male",
          "male",
          "male",
          "male",
          "male",
          "male",
          "male",
          "male",
          "male",
          "male",
          "male",
          "female",
          "male",
          "male",
          "male",
          "female",
          "male",
          "male",
          "male",
          "female",
          "male",
          "male",
          "male",
          "male",
          "female",
          "male",
          "male",
          "female",
          "male",
          "male",
          "female",
          "male",
          "male",
          "male",
          "female",
          "male",
          "male",
          "male",
          "male",
          "female",
          "male",
          "male",
          "male",
          "male",
          "male",
          "male",
          "male",
          "male",
          "male",
          "female",
          "male",
          "male",
          "male",
          "female",
          "male",
          "male",
          "male",
          "female",
          "male",
          "male",
          "male",
          "male",
          "male",
          "male",
          "male",
          "male",
          "male",
          "male",
          "male",
          "male",
          "male",
          "male",
          "male",
          "male",
          "male",
          "male",
          "male",
          "male",
          "male",
          "male",
          "male",
          "female",
          "male",
          "male",
          "female",
          "male",
          "male",
          "male",
          "male",
          "male",
          "male",
          "female",
          "male",
          "male",
          "male",
          "male",
          "male",
          "male",
          "male",
          "male",
          "male",
          "male",
          "female",
          "male",
          "male",
          "male",
          "female",
          "male",
          "female",
          "male",
          "male",
          "male",
          "female",
          "male",
          "male",
          "male",
          "female",
          "male",
          "female",
          "male",
          "male",
          "male",
          "female",
          "male",
          "male",
          "male",
          "male",
          "male",
          "female",
          "male",
          "male",
          "male",
          "male",
          "male",
          "male",
          "male",
          "male",
          "male",
          "male",
          "male",
          "male",
          "male",
          "male",
          "male",
          "male",
          "male",
          "male",
          "male",
          "male",
          "female",
          "male",
          "male",
          "male",
          "male",
          "male",
          "male",
          "male",
          "female",
          "male",
          "male",
          "male",
          "male",
          "male",
          "male",
          "male",
          "male",
          "male",
          "female",
          "male",
          "male",
          "female",
          "female",
          "female",
          "male",
          "male",
          "male",
          "male",
          "male",
          "male",
          "male",
          "male",
          "male",
          "male",
          "male",
          "male",
          "male",
          "male",
          "male",
          "male",
          "female",
          "male",
          "male",
          "female",
          "female",
          "male",
          "male",
          "male",
          "male",
          "male",
          "male",
          "male",
          "male",
          "male",
          "male",
          "male",
          "female",
          "male",
          "male",
          "female",
          "male",
          "male",
          "male",
          "female",
          "male",
          "male",
          "male",
          "male",
          "male",
          "male",
          "male",
          "male",
          "female",
          "male",
          "male",
          "male",
          "male",
          "male",
          "male",
          "male",
          "male",
          "male",
          "female",
          "male",
          "male",
          "male",
          "male",
          "female",
          "male",
          "male",
          "male",
          "male",
          "male",
          "male",
          "male",
          "male",
          "male",
          "male",
          "female",
          "male",
          "male",
          "female",
          "male",
          "male",
          "female",
          "male",
          "male",
          "male",
          "male",
          "female",
          "male",
          "male",
          "female",
          "male",
          "male",
          "male",
          "male",
          "male",
          "male",
          "male",
          "male",
          "male",
          "male",
          "male",
          "male",
          "male",
          "male",
          "female",
          "female",
          "male",
          "male",
          "male",
          "male",
          "male",
          "male",
          "male",
          "male",
          "male",
          "male",
          "male",
          "male",
          "male",
          "female",
          "male",
          "male",
          "male",
          "male",
          "male",
          "male",
          "male",
          "male",
          "male",
          "male",
          "male",
          "male",
          "male",
          "male",
          "female",
          "male",
          "male",
          "male",
          "male",
          "male",
          "female",
          "male",
          "male",
          "male",
          "male",
          "male",
          "male",
          "male",
          "male",
          "male",
          "male",
          "male",
          "male",
          "male",
          "male",
          "male",
          "male",
          "male",
          "female",
          "male",
          "male",
          "male",
          "male",
          "female",
          "male",
          "male",
          "male",
          "male",
          "male",
          "male",
          "male",
          "male",
          "male",
          "male",
          "male",
          "male",
          "female",
          "male",
          "male",
          "male",
          "male",
          "female",
          "male",
          "male",
          "male",
          "female",
          "male",
          "male",
          "male",
          "male",
          "female",
          "male",
          "male",
          "female",
          "male",
          "male",
          "male",
          "male",
          "male",
          "male",
          "male",
          "male",
          "male",
          "male",
          "male",
          "male",
          "male",
          "male",
          "male",
          "male",
          "male",
          "male",
          "male",
          "male",
          "male",
          "male",
          "female",
          "female",
          "male",
          "male",
          "male",
          "female",
          "male",
          "male",
          "male",
          "male",
          "male",
          "male",
          "male",
          "male",
          "male",
          "male",
          "female",
          "male",
          "male",
          "female",
          "male",
          "female",
          "male"
         ],
         "xaxis": "x",
         "yaxis": "y"
        },
        {
         "alignmentgroup": "True",
         "bingroup": "x",
         "hovertemplate": "Survived=1<br>Sex=%{x}<br>count=%{y}<extra></extra>",
         "legendgroup": "1",
         "marker": {
          "color": "#EF553B",
          "pattern": {
           "shape": ""
          }
         },
         "name": "1",
         "offsetgroup": "1",
         "orientation": "v",
         "showlegend": true,
         "type": "histogram",
         "x": [
          "female",
          "female",
          "female",
          "female",
          "female",
          "female",
          "female",
          "female",
          "male",
          "female",
          "male",
          "female",
          "male",
          "female",
          "female",
          "female",
          "female",
          "male",
          "female",
          "female",
          "female",
          "female",
          "female",
          "female",
          "male",
          "female",
          "female",
          "female",
          "male",
          "female",
          "female",
          "male",
          "male",
          "female",
          "male",
          "female",
          "female",
          "female",
          "female",
          "male",
          "female",
          "female",
          "male",
          "female",
          "female",
          "male",
          "male",
          "female",
          "female",
          "female",
          "female",
          "female",
          "male",
          "female",
          "female",
          "female",
          "male",
          "female",
          "female",
          "male",
          "female",
          "female",
          "male",
          "female",
          "female",
          "male",
          "female",
          "female",
          "female",
          "male",
          "male",
          "female",
          "male",
          "female",
          "female",
          "female",
          "female",
          "male",
          "male",
          "male",
          "female",
          "female",
          "female",
          "female",
          "female",
          "male",
          "female",
          "female",
          "female",
          "female",
          "female",
          "male",
          "male",
          "female",
          "female",
          "male",
          "female",
          "female",
          "female",
          "female",
          "male",
          "male",
          "male",
          "female",
          "female",
          "female",
          "male",
          "female",
          "female",
          "male",
          "female",
          "male",
          "female",
          "female",
          "female",
          "female",
          "female",
          "female",
          "female",
          "female",
          "female",
          "female",
          "female",
          "female",
          "female",
          "female",
          "female",
          "female",
          "female",
          "female",
          "male",
          "male",
          "female",
          "female",
          "female",
          "female",
          "male",
          "female",
          "female",
          "female",
          "female",
          "female",
          "female",
          "female",
          "male",
          "female",
          "female",
          "female",
          "female",
          "female",
          "female",
          "female",
          "male",
          "male",
          "female",
          "female",
          "female",
          "male",
          "male",
          "female",
          "male",
          "female",
          "female",
          "female",
          "female",
          "male",
          "male",
          "female",
          "female",
          "female",
          "female",
          "female",
          "female",
          "male",
          "male",
          "female",
          "male",
          "female",
          "male",
          "male",
          "male",
          "female",
          "female",
          "male",
          "female",
          "female",
          "female",
          "female",
          "female",
          "male",
          "female",
          "male",
          "female",
          "female",
          "female",
          "male",
          "male",
          "male",
          "male",
          "female",
          "female",
          "female",
          "female",
          "female",
          "female",
          "female",
          "female",
          "female",
          "female",
          "female",
          "female",
          "male",
          "female",
          "male",
          "male",
          "male",
          "male",
          "female",
          "female",
          "female",
          "female",
          "male",
          "male",
          "female",
          "male",
          "female",
          "female",
          "female",
          "male",
          "female",
          "female",
          "female",
          "male",
          "female",
          "female",
          "male",
          "female",
          "male",
          "male",
          "female",
          "female",
          "female",
          "female",
          "female",
          "male",
          "male",
          "female",
          "male",
          "male",
          "female",
          "female",
          "male",
          "female",
          "male",
          "male",
          "female",
          "female",
          "female",
          "male",
          "male",
          "female",
          "female",
          "male",
          "female",
          "male",
          "male",
          "female",
          "male",
          "female",
          "male",
          "female",
          "female",
          "male",
          "female",
          "male",
          "female",
          "male",
          "female",
          "male",
          "female",
          "female",
          "female",
          "male",
          "female",
          "female",
          "female",
          "male",
          "male",
          "female",
          "male",
          "female",
          "female",
          "male",
          "female",
          "male",
          "female",
          "male",
          "female",
          "female",
          "female",
          "female",
          "female",
          "female",
          "female",
          "female",
          "male",
          "female",
          "female",
          "female",
          "male",
          "male",
          "male",
          "female",
          "female",
          "male",
          "female",
          "male",
          "male",
          "female",
          "female",
          "male",
          "female",
          "male",
          "male",
          "female",
          "female",
          "female",
          "female",
          "female",
          "male",
          "female",
          "female",
          "female",
          "female",
          "male",
          "female",
          "female",
          "female",
          "female",
          "female",
          "female",
          "male"
         ],
         "xaxis": "x",
         "yaxis": "y"
        }
       ],
       "layout": {
        "barmode": "group",
        "legend": {
         "title": {
          "text": "Survived"
         },
         "tracegroupgap": 0
        },
        "template": {
         "data": {
          "bar": [
           {
            "error_x": {
             "color": "#2a3f5f"
            },
            "error_y": {
             "color": "#2a3f5f"
            },
            "marker": {
             "line": {
              "color": "#E5ECF6",
              "width": 0.5
             },
             "pattern": {
              "fillmode": "overlay",
              "size": 10,
              "solidity": 0.2
             }
            },
            "type": "bar"
           }
          ],
          "barpolar": [
           {
            "marker": {
             "line": {
              "color": "#E5ECF6",
              "width": 0.5
             },
             "pattern": {
              "fillmode": "overlay",
              "size": 10,
              "solidity": 0.2
             }
            },
            "type": "barpolar"
           }
          ],
          "carpet": [
           {
            "aaxis": {
             "endlinecolor": "#2a3f5f",
             "gridcolor": "white",
             "linecolor": "white",
             "minorgridcolor": "white",
             "startlinecolor": "#2a3f5f"
            },
            "baxis": {
             "endlinecolor": "#2a3f5f",
             "gridcolor": "white",
             "linecolor": "white",
             "minorgridcolor": "white",
             "startlinecolor": "#2a3f5f"
            },
            "type": "carpet"
           }
          ],
          "choropleth": [
           {
            "colorbar": {
             "outlinewidth": 0,
             "ticks": ""
            },
            "type": "choropleth"
           }
          ],
          "contour": [
           {
            "colorbar": {
             "outlinewidth": 0,
             "ticks": ""
            },
            "colorscale": [
             [
              0,
              "#0d0887"
             ],
             [
              0.1111111111111111,
              "#46039f"
             ],
             [
              0.2222222222222222,
              "#7201a8"
             ],
             [
              0.3333333333333333,
              "#9c179e"
             ],
             [
              0.4444444444444444,
              "#bd3786"
             ],
             [
              0.5555555555555556,
              "#d8576b"
             ],
             [
              0.6666666666666666,
              "#ed7953"
             ],
             [
              0.7777777777777778,
              "#fb9f3a"
             ],
             [
              0.8888888888888888,
              "#fdca26"
             ],
             [
              1,
              "#f0f921"
             ]
            ],
            "type": "contour"
           }
          ],
          "contourcarpet": [
           {
            "colorbar": {
             "outlinewidth": 0,
             "ticks": ""
            },
            "type": "contourcarpet"
           }
          ],
          "heatmap": [
           {
            "colorbar": {
             "outlinewidth": 0,
             "ticks": ""
            },
            "colorscale": [
             [
              0,
              "#0d0887"
             ],
             [
              0.1111111111111111,
              "#46039f"
             ],
             [
              0.2222222222222222,
              "#7201a8"
             ],
             [
              0.3333333333333333,
              "#9c179e"
             ],
             [
              0.4444444444444444,
              "#bd3786"
             ],
             [
              0.5555555555555556,
              "#d8576b"
             ],
             [
              0.6666666666666666,
              "#ed7953"
             ],
             [
              0.7777777777777778,
              "#fb9f3a"
             ],
             [
              0.8888888888888888,
              "#fdca26"
             ],
             [
              1,
              "#f0f921"
             ]
            ],
            "type": "heatmap"
           }
          ],
          "histogram": [
           {
            "marker": {
             "pattern": {
              "fillmode": "overlay",
              "size": 10,
              "solidity": 0.2
             }
            },
            "type": "histogram"
           }
          ],
          "histogram2d": [
           {
            "colorbar": {
             "outlinewidth": 0,
             "ticks": ""
            },
            "colorscale": [
             [
              0,
              "#0d0887"
             ],
             [
              0.1111111111111111,
              "#46039f"
             ],
             [
              0.2222222222222222,
              "#7201a8"
             ],
             [
              0.3333333333333333,
              "#9c179e"
             ],
             [
              0.4444444444444444,
              "#bd3786"
             ],
             [
              0.5555555555555556,
              "#d8576b"
             ],
             [
              0.6666666666666666,
              "#ed7953"
             ],
             [
              0.7777777777777778,
              "#fb9f3a"
             ],
             [
              0.8888888888888888,
              "#fdca26"
             ],
             [
              1,
              "#f0f921"
             ]
            ],
            "type": "histogram2d"
           }
          ],
          "histogram2dcontour": [
           {
            "colorbar": {
             "outlinewidth": 0,
             "ticks": ""
            },
            "colorscale": [
             [
              0,
              "#0d0887"
             ],
             [
              0.1111111111111111,
              "#46039f"
             ],
             [
              0.2222222222222222,
              "#7201a8"
             ],
             [
              0.3333333333333333,
              "#9c179e"
             ],
             [
              0.4444444444444444,
              "#bd3786"
             ],
             [
              0.5555555555555556,
              "#d8576b"
             ],
             [
              0.6666666666666666,
              "#ed7953"
             ],
             [
              0.7777777777777778,
              "#fb9f3a"
             ],
             [
              0.8888888888888888,
              "#fdca26"
             ],
             [
              1,
              "#f0f921"
             ]
            ],
            "type": "histogram2dcontour"
           }
          ],
          "mesh3d": [
           {
            "colorbar": {
             "outlinewidth": 0,
             "ticks": ""
            },
            "type": "mesh3d"
           }
          ],
          "parcoords": [
           {
            "line": {
             "colorbar": {
              "outlinewidth": 0,
              "ticks": ""
             }
            },
            "type": "parcoords"
           }
          ],
          "pie": [
           {
            "automargin": true,
            "type": "pie"
           }
          ],
          "scatter": [
           {
            "fillpattern": {
             "fillmode": "overlay",
             "size": 10,
             "solidity": 0.2
            },
            "type": "scatter"
           }
          ],
          "scatter3d": [
           {
            "line": {
             "colorbar": {
              "outlinewidth": 0,
              "ticks": ""
             }
            },
            "marker": {
             "colorbar": {
              "outlinewidth": 0,
              "ticks": ""
             }
            },
            "type": "scatter3d"
           }
          ],
          "scattercarpet": [
           {
            "marker": {
             "colorbar": {
              "outlinewidth": 0,
              "ticks": ""
             }
            },
            "type": "scattercarpet"
           }
          ],
          "scattergeo": [
           {
            "marker": {
             "colorbar": {
              "outlinewidth": 0,
              "ticks": ""
             }
            },
            "type": "scattergeo"
           }
          ],
          "scattergl": [
           {
            "marker": {
             "colorbar": {
              "outlinewidth": 0,
              "ticks": ""
             }
            },
            "type": "scattergl"
           }
          ],
          "scattermap": [
           {
            "marker": {
             "colorbar": {
              "outlinewidth": 0,
              "ticks": ""
             }
            },
            "type": "scattermap"
           }
          ],
          "scattermapbox": [
           {
            "marker": {
             "colorbar": {
              "outlinewidth": 0,
              "ticks": ""
             }
            },
            "type": "scattermapbox"
           }
          ],
          "scatterpolar": [
           {
            "marker": {
             "colorbar": {
              "outlinewidth": 0,
              "ticks": ""
             }
            },
            "type": "scatterpolar"
           }
          ],
          "scatterpolargl": [
           {
            "marker": {
             "colorbar": {
              "outlinewidth": 0,
              "ticks": ""
             }
            },
            "type": "scatterpolargl"
           }
          ],
          "scatterternary": [
           {
            "marker": {
             "colorbar": {
              "outlinewidth": 0,
              "ticks": ""
             }
            },
            "type": "scatterternary"
           }
          ],
          "surface": [
           {
            "colorbar": {
             "outlinewidth": 0,
             "ticks": ""
            },
            "colorscale": [
             [
              0,
              "#0d0887"
             ],
             [
              0.1111111111111111,
              "#46039f"
             ],
             [
              0.2222222222222222,
              "#7201a8"
             ],
             [
              0.3333333333333333,
              "#9c179e"
             ],
             [
              0.4444444444444444,
              "#bd3786"
             ],
             [
              0.5555555555555556,
              "#d8576b"
             ],
             [
              0.6666666666666666,
              "#ed7953"
             ],
             [
              0.7777777777777778,
              "#fb9f3a"
             ],
             [
              0.8888888888888888,
              "#fdca26"
             ],
             [
              1,
              "#f0f921"
             ]
            ],
            "type": "surface"
           }
          ],
          "table": [
           {
            "cells": {
             "fill": {
              "color": "#EBF0F8"
             },
             "line": {
              "color": "white"
             }
            },
            "header": {
             "fill": {
              "color": "#C8D4E3"
             },
             "line": {
              "color": "white"
             }
            },
            "type": "table"
           }
          ]
         },
         "layout": {
          "annotationdefaults": {
           "arrowcolor": "#2a3f5f",
           "arrowhead": 0,
           "arrowwidth": 1
          },
          "autotypenumbers": "strict",
          "coloraxis": {
           "colorbar": {
            "outlinewidth": 0,
            "ticks": ""
           }
          },
          "colorscale": {
           "diverging": [
            [
             0,
             "#8e0152"
            ],
            [
             0.1,
             "#c51b7d"
            ],
            [
             0.2,
             "#de77ae"
            ],
            [
             0.3,
             "#f1b6da"
            ],
            [
             0.4,
             "#fde0ef"
            ],
            [
             0.5,
             "#f7f7f7"
            ],
            [
             0.6,
             "#e6f5d0"
            ],
            [
             0.7,
             "#b8e186"
            ],
            [
             0.8,
             "#7fbc41"
            ],
            [
             0.9,
             "#4d9221"
            ],
            [
             1,
             "#276419"
            ]
           ],
           "sequential": [
            [
             0,
             "#0d0887"
            ],
            [
             0.1111111111111111,
             "#46039f"
            ],
            [
             0.2222222222222222,
             "#7201a8"
            ],
            [
             0.3333333333333333,
             "#9c179e"
            ],
            [
             0.4444444444444444,
             "#bd3786"
            ],
            [
             0.5555555555555556,
             "#d8576b"
            ],
            [
             0.6666666666666666,
             "#ed7953"
            ],
            [
             0.7777777777777778,
             "#fb9f3a"
            ],
            [
             0.8888888888888888,
             "#fdca26"
            ],
            [
             1,
             "#f0f921"
            ]
           ],
           "sequentialminus": [
            [
             0,
             "#0d0887"
            ],
            [
             0.1111111111111111,
             "#46039f"
            ],
            [
             0.2222222222222222,
             "#7201a8"
            ],
            [
             0.3333333333333333,
             "#9c179e"
            ],
            [
             0.4444444444444444,
             "#bd3786"
            ],
            [
             0.5555555555555556,
             "#d8576b"
            ],
            [
             0.6666666666666666,
             "#ed7953"
            ],
            [
             0.7777777777777778,
             "#fb9f3a"
            ],
            [
             0.8888888888888888,
             "#fdca26"
            ],
            [
             1,
             "#f0f921"
            ]
           ]
          },
          "colorway": [
           "#636efa",
           "#EF553B",
           "#00cc96",
           "#ab63fa",
           "#FFA15A",
           "#19d3f3",
           "#FF6692",
           "#B6E880",
           "#FF97FF",
           "#FECB52"
          ],
          "font": {
           "color": "#2a3f5f"
          },
          "geo": {
           "bgcolor": "white",
           "lakecolor": "white",
           "landcolor": "#E5ECF6",
           "showlakes": true,
           "showland": true,
           "subunitcolor": "white"
          },
          "hoverlabel": {
           "align": "left"
          },
          "hovermode": "closest",
          "mapbox": {
           "style": "light"
          },
          "paper_bgcolor": "white",
          "plot_bgcolor": "#E5ECF6",
          "polar": {
           "angularaxis": {
            "gridcolor": "white",
            "linecolor": "white",
            "ticks": ""
           },
           "bgcolor": "#E5ECF6",
           "radialaxis": {
            "gridcolor": "white",
            "linecolor": "white",
            "ticks": ""
           }
          },
          "scene": {
           "xaxis": {
            "backgroundcolor": "#E5ECF6",
            "gridcolor": "white",
            "gridwidth": 2,
            "linecolor": "white",
            "showbackground": true,
            "ticks": "",
            "zerolinecolor": "white"
           },
           "yaxis": {
            "backgroundcolor": "#E5ECF6",
            "gridcolor": "white",
            "gridwidth": 2,
            "linecolor": "white",
            "showbackground": true,
            "ticks": "",
            "zerolinecolor": "white"
           },
           "zaxis": {
            "backgroundcolor": "#E5ECF6",
            "gridcolor": "white",
            "gridwidth": 2,
            "linecolor": "white",
            "showbackground": true,
            "ticks": "",
            "zerolinecolor": "white"
           }
          },
          "shapedefaults": {
           "line": {
            "color": "#2a3f5f"
           }
          },
          "ternary": {
           "aaxis": {
            "gridcolor": "white",
            "linecolor": "white",
            "ticks": ""
           },
           "baxis": {
            "gridcolor": "white",
            "linecolor": "white",
            "ticks": ""
           },
           "bgcolor": "#E5ECF6",
           "caxis": {
            "gridcolor": "white",
            "linecolor": "white",
            "ticks": ""
           }
          },
          "title": {
           "x": 0.05
          },
          "xaxis": {
           "automargin": true,
           "gridcolor": "white",
           "linecolor": "white",
           "ticks": "",
           "title": {
            "standoff": 15
           },
           "zerolinecolor": "white",
           "zerolinewidth": 2
          },
          "yaxis": {
           "automargin": true,
           "gridcolor": "white",
           "linecolor": "white",
           "ticks": "",
           "title": {
            "standoff": 15
           },
           "zerolinecolor": "white",
           "zerolinewidth": 2
          }
         }
        },
        "title": {
         "text": "Survival by Sex"
        },
        "xaxis": {
         "anchor": "y",
         "domain": [
          0,
          1
         ],
         "title": {
          "text": "Sex"
         }
        },
        "yaxis": {
         "anchor": "x",
         "domain": [
          0,
          1
         ],
         "title": {
          "text": "count"
         }
        }
       }
      }
     },
     "metadata": {},
     "output_type": "display_data"
    },
    {
     "data": {
      "application/vnd.plotly.v1+json": {
       "config": {
        "plotlyServerURL": "https://plot.ly"
       },
       "data": [
        {
         "bingroup": "x",
         "hovertemplate": "Survived=0<br>Age=%{x}<br>count=%{y}<extra></extra>",
         "legendgroup": "0",
         "marker": {
          "color": "#636efa",
          "opacity": 0.7,
          "pattern": {
           "shape": ""
          }
         },
         "name": "0",
         "nbinsx": 30,
         "orientation": "v",
         "showlegend": true,
         "type": "histogram",
         "x": {
          "bdata": "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",
          "dtype": "f8"
         },
         "xaxis": "x",
         "yaxis": "y"
        },
        {
         "bingroup": "x",
         "hovertemplate": "Survived=1<br>Age=%{x}<br>count=%{y}<extra></extra>",
         "legendgroup": "1",
         "marker": {
          "color": "#EF553B",
          "opacity": 0.7,
          "pattern": {
           "shape": ""
          }
         },
         "name": "1",
         "nbinsx": 30,
         "orientation": "v",
         "showlegend": true,
         "type": "histogram",
         "x": {
          "bdata": "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",
          "dtype": "f8"
         },
         "xaxis": "x",
         "yaxis": "y"
        }
       ],
       "layout": {
        "barmode": "relative",
        "legend": {
         "title": {
          "text": "Survived"
         },
         "tracegroupgap": 0
        },
        "template": {
         "data": {
          "bar": [
           {
            "error_x": {
             "color": "#2a3f5f"
            },
            "error_y": {
             "color": "#2a3f5f"
            },
            "marker": {
             "line": {
              "color": "#E5ECF6",
              "width": 0.5
             },
             "pattern": {
              "fillmode": "overlay",
              "size": 10,
              "solidity": 0.2
             }
            },
            "type": "bar"
           }
          ],
          "barpolar": [
           {
            "marker": {
             "line": {
              "color": "#E5ECF6",
              "width": 0.5
             },
             "pattern": {
              "fillmode": "overlay",
              "size": 10,
              "solidity": 0.2
             }
            },
            "type": "barpolar"
           }
          ],
          "carpet": [
           {
            "aaxis": {
             "endlinecolor": "#2a3f5f",
             "gridcolor": "white",
             "linecolor": "white",
             "minorgridcolor": "white",
             "startlinecolor": "#2a3f5f"
            },
            "baxis": {
             "endlinecolor": "#2a3f5f",
             "gridcolor": "white",
             "linecolor": "white",
             "minorgridcolor": "white",
             "startlinecolor": "#2a3f5f"
            },
            "type": "carpet"
           }
          ],
          "choropleth": [
           {
            "colorbar": {
             "outlinewidth": 0,
             "ticks": ""
            },
            "type": "choropleth"
           }
          ],
          "contour": [
           {
            "colorbar": {
             "outlinewidth": 0,
             "ticks": ""
            },
            "colorscale": [
             [
              0,
              "#0d0887"
             ],
             [
              0.1111111111111111,
              "#46039f"
             ],
             [
              0.2222222222222222,
              "#7201a8"
             ],
             [
              0.3333333333333333,
              "#9c179e"
             ],
             [
              0.4444444444444444,
              "#bd3786"
             ],
             [
              0.5555555555555556,
              "#d8576b"
             ],
             [
              0.6666666666666666,
              "#ed7953"
             ],
             [
              0.7777777777777778,
              "#fb9f3a"
             ],
             [
              0.8888888888888888,
              "#fdca26"
             ],
             [
              1,
              "#f0f921"
             ]
            ],
            "type": "contour"
           }
          ],
          "contourcarpet": [
           {
            "colorbar": {
             "outlinewidth": 0,
             "ticks": ""
            },
            "type": "contourcarpet"
           }
          ],
          "heatmap": [
           {
            "colorbar": {
             "outlinewidth": 0,
             "ticks": ""
            },
            "colorscale": [
             [
              0,
              "#0d0887"
             ],
             [
              0.1111111111111111,
              "#46039f"
             ],
             [
              0.2222222222222222,
              "#7201a8"
             ],
             [
              0.3333333333333333,
              "#9c179e"
             ],
             [
              0.4444444444444444,
              "#bd3786"
             ],
             [
              0.5555555555555556,
              "#d8576b"
             ],
             [
              0.6666666666666666,
              "#ed7953"
             ],
             [
              0.7777777777777778,
              "#fb9f3a"
             ],
             [
              0.8888888888888888,
              "#fdca26"
             ],
             [
              1,
              "#f0f921"
             ]
            ],
            "type": "heatmap"
           }
          ],
          "histogram": [
           {
            "marker": {
             "pattern": {
              "fillmode": "overlay",
              "size": 10,
              "solidity": 0.2
             }
            },
            "type": "histogram"
           }
          ],
          "histogram2d": [
           {
            "colorbar": {
             "outlinewidth": 0,
             "ticks": ""
            },
            "colorscale": [
             [
              0,
              "#0d0887"
             ],
             [
              0.1111111111111111,
              "#46039f"
             ],
             [
              0.2222222222222222,
              "#7201a8"
             ],
             [
              0.3333333333333333,
              "#9c179e"
             ],
             [
              0.4444444444444444,
              "#bd3786"
             ],
             [
              0.5555555555555556,
              "#d8576b"
             ],
             [
              0.6666666666666666,
              "#ed7953"
             ],
             [
              0.7777777777777778,
              "#fb9f3a"
             ],
             [
              0.8888888888888888,
              "#fdca26"
             ],
             [
              1,
              "#f0f921"
             ]
            ],
            "type": "histogram2d"
           }
          ],
          "histogram2dcontour": [
           {
            "colorbar": {
             "outlinewidth": 0,
             "ticks": ""
            },
            "colorscale": [
             [
              0,
              "#0d0887"
             ],
             [
              0.1111111111111111,
              "#46039f"
             ],
             [
              0.2222222222222222,
              "#7201a8"
             ],
             [
              0.3333333333333333,
              "#9c179e"
             ],
             [
              0.4444444444444444,
              "#bd3786"
             ],
             [
              0.5555555555555556,
              "#d8576b"
             ],
             [
              0.6666666666666666,
              "#ed7953"
             ],
             [
              0.7777777777777778,
              "#fb9f3a"
             ],
             [
              0.8888888888888888,
              "#fdca26"
             ],
             [
              1,
              "#f0f921"
             ]
            ],
            "type": "histogram2dcontour"
           }
          ],
          "mesh3d": [
           {
            "colorbar": {
             "outlinewidth": 0,
             "ticks": ""
            },
            "type": "mesh3d"
           }
          ],
          "parcoords": [
           {
            "line": {
             "colorbar": {
              "outlinewidth": 0,
              "ticks": ""
             }
            },
            "type": "parcoords"
           }
          ],
          "pie": [
           {
            "automargin": true,
            "type": "pie"
           }
          ],
          "scatter": [
           {
            "fillpattern": {
             "fillmode": "overlay",
             "size": 10,
             "solidity": 0.2
            },
            "type": "scatter"
           }
          ],
          "scatter3d": [
           {
            "line": {
             "colorbar": {
              "outlinewidth": 0,
              "ticks": ""
             }
            },
            "marker": {
             "colorbar": {
              "outlinewidth": 0,
              "ticks": ""
             }
            },
            "type": "scatter3d"
           }
          ],
          "scattercarpet": [
           {
            "marker": {
             "colorbar": {
              "outlinewidth": 0,
              "ticks": ""
             }
            },
            "type": "scattercarpet"
           }
          ],
          "scattergeo": [
           {
            "marker": {
             "colorbar": {
              "outlinewidth": 0,
              "ticks": ""
             }
            },
            "type": "scattergeo"
           }
          ],
          "scattergl": [
           {
            "marker": {
             "colorbar": {
              "outlinewidth": 0,
              "ticks": ""
             }
            },
            "type": "scattergl"
           }
          ],
          "scattermap": [
           {
            "marker": {
             "colorbar": {
              "outlinewidth": 0,
              "ticks": ""
             }
            },
            "type": "scattermap"
           }
          ],
          "scattermapbox": [
           {
            "marker": {
             "colorbar": {
              "outlinewidth": 0,
              "ticks": ""
             }
            },
            "type": "scattermapbox"
           }
          ],
          "scatterpolar": [
           {
            "marker": {
             "colorbar": {
              "outlinewidth": 0,
              "ticks": ""
             }
            },
            "type": "scatterpolar"
           }
          ],
          "scatterpolargl": [
           {
            "marker": {
             "colorbar": {
              "outlinewidth": 0,
              "ticks": ""
             }
            },
            "type": "scatterpolargl"
           }
          ],
          "scatterternary": [
           {
            "marker": {
             "colorbar": {
              "outlinewidth": 0,
              "ticks": ""
             }
            },
            "type": "scatterternary"
           }
          ],
          "surface": [
           {
            "colorbar": {
             "outlinewidth": 0,
             "ticks": ""
            },
            "colorscale": [
             [
              0,
              "#0d0887"
             ],
             [
              0.1111111111111111,
              "#46039f"
             ],
             [
              0.2222222222222222,
              "#7201a8"
             ],
             [
              0.3333333333333333,
              "#9c179e"
             ],
             [
              0.4444444444444444,
              "#bd3786"
             ],
             [
              0.5555555555555556,
              "#d8576b"
             ],
             [
              0.6666666666666666,
              "#ed7953"
             ],
             [
              0.7777777777777778,
              "#fb9f3a"
             ],
             [
              0.8888888888888888,
              "#fdca26"
             ],
             [
              1,
              "#f0f921"
             ]
            ],
            "type": "surface"
           }
          ],
          "table": [
           {
            "cells": {
             "fill": {
              "color": "#EBF0F8"
             },
             "line": {
              "color": "white"
             }
            },
            "header": {
             "fill": {
              "color": "#C8D4E3"
             },
             "line": {
              "color": "white"
             }
            },
            "type": "table"
           }
          ]
         },
         "layout": {
          "annotationdefaults": {
           "arrowcolor": "#2a3f5f",
           "arrowhead": 0,
           "arrowwidth": 1
          },
          "autotypenumbers": "strict",
          "coloraxis": {
           "colorbar": {
            "outlinewidth": 0,
            "ticks": ""
           }
          },
          "colorscale": {
           "diverging": [
            [
             0,
             "#8e0152"
            ],
            [
             0.1,
             "#c51b7d"
            ],
            [
             0.2,
             "#de77ae"
            ],
            [
             0.3,
             "#f1b6da"
            ],
            [
             0.4,
             "#fde0ef"
            ],
            [
             0.5,
             "#f7f7f7"
            ],
            [
             0.6,
             "#e6f5d0"
            ],
            [
             0.7,
             "#b8e186"
            ],
            [
             0.8,
             "#7fbc41"
            ],
            [
             0.9,
             "#4d9221"
            ],
            [
             1,
             "#276419"
            ]
           ],
           "sequential": [
            [
             0,
             "#0d0887"
            ],
            [
             0.1111111111111111,
             "#46039f"
            ],
            [
             0.2222222222222222,
             "#7201a8"
            ],
            [
             0.3333333333333333,
             "#9c179e"
            ],
            [
             0.4444444444444444,
             "#bd3786"
            ],
            [
             0.5555555555555556,
             "#d8576b"
            ],
            [
             0.6666666666666666,
             "#ed7953"
            ],
            [
             0.7777777777777778,
             "#fb9f3a"
            ],
            [
             0.8888888888888888,
             "#fdca26"
            ],
            [
             1,
             "#f0f921"
            ]
           ],
           "sequentialminus": [
            [
             0,
             "#0d0887"
            ],
            [
             0.1111111111111111,
             "#46039f"
            ],
            [
             0.2222222222222222,
             "#7201a8"
            ],
            [
             0.3333333333333333,
             "#9c179e"
            ],
            [
             0.4444444444444444,
             "#bd3786"
            ],
            [
             0.5555555555555556,
             "#d8576b"
            ],
            [
             0.6666666666666666,
             "#ed7953"
            ],
            [
             0.7777777777777778,
             "#fb9f3a"
            ],
            [
             0.8888888888888888,
             "#fdca26"
            ],
            [
             1,
             "#f0f921"
            ]
           ]
          },
          "colorway": [
           "#636efa",
           "#EF553B",
           "#00cc96",
           "#ab63fa",
           "#FFA15A",
           "#19d3f3",
           "#FF6692",
           "#B6E880",
           "#FF97FF",
           "#FECB52"
          ],
          "font": {
           "color": "#2a3f5f"
          },
          "geo": {
           "bgcolor": "white",
           "lakecolor": "white",
           "landcolor": "#E5ECF6",
           "showlakes": true,
           "showland": true,
           "subunitcolor": "white"
          },
          "hoverlabel": {
           "align": "left"
          },
          "hovermode": "closest",
          "mapbox": {
           "style": "light"
          },
          "paper_bgcolor": "white",
          "plot_bgcolor": "#E5ECF6",
          "polar": {
           "angularaxis": {
            "gridcolor": "white",
            "linecolor": "white",
            "ticks": ""
           },
           "bgcolor": "#E5ECF6",
           "radialaxis": {
            "gridcolor": "white",
            "linecolor": "white",
            "ticks": ""
           }
          },
          "scene": {
           "xaxis": {
            "backgroundcolor": "#E5ECF6",
            "gridcolor": "white",
            "gridwidth": 2,
            "linecolor": "white",
            "showbackground": true,
            "ticks": "",
            "zerolinecolor": "white"
           },
           "yaxis": {
            "backgroundcolor": "#E5ECF6",
            "gridcolor": "white",
            "gridwidth": 2,
            "linecolor": "white",
            "showbackground": true,
            "ticks": "",
            "zerolinecolor": "white"
           },
           "zaxis": {
            "backgroundcolor": "#E5ECF6",
            "gridcolor": "white",
            "gridwidth": 2,
            "linecolor": "white",
            "showbackground": true,
            "ticks": "",
            "zerolinecolor": "white"
           }
          },
          "shapedefaults": {
           "line": {
            "color": "#2a3f5f"
           }
          },
          "ternary": {
           "aaxis": {
            "gridcolor": "white",
            "linecolor": "white",
            "ticks": ""
           },
           "baxis": {
            "gridcolor": "white",
            "linecolor": "white",
            "ticks": ""
           },
           "bgcolor": "#E5ECF6",
           "caxis": {
            "gridcolor": "white",
            "linecolor": "white",
            "ticks": ""
           }
          },
          "title": {
           "x": 0.05
          },
          "xaxis": {
           "automargin": true,
           "gridcolor": "white",
           "linecolor": "white",
           "ticks": "",
           "title": {
            "standoff": 15
           },
           "zerolinecolor": "white",
           "zerolinewidth": 2
          },
          "yaxis": {
           "automargin": true,
           "gridcolor": "white",
           "linecolor": "white",
           "ticks": "",
           "title": {
            "standoff": 15
           },
           "zerolinecolor": "white",
           "zerolinewidth": 2
          }
         }
        },
        "title": {
         "text": "Age Distribution (Survivors vs Non-Survivors)"
        },
        "xaxis": {
         "anchor": "y",
         "domain": [
          0,
          1
         ],
         "title": {
          "text": "Age"
         }
        },
        "yaxis": {
         "anchor": "x",
         "domain": [
          0,
          1
         ],
         "title": {
          "text": "count"
         }
        }
       }
      }
     },
     "metadata": {},
     "output_type": "display_data"
    },
    {
     "data": {
      "application/vnd.plotly.v1+json": {
       "config": {
        "plotlyServerURL": "https://plot.ly"
       },
       "data": [
        {
         "alignmentgroup": "True",
         "bingroup": "x",
         "hovertemplate": "Survived=0<br>Pclass=%{x}<br>count=%{y}<extra></extra>",
         "legendgroup": "0",
         "marker": {
          "color": "#636efa",
          "pattern": {
           "shape": ""
          }
         },
         "name": "0",
         "offsetgroup": "0",
         "orientation": "v",
         "showlegend": true,
         "type": "histogram",
         "x": {
          "bdata": "AwMDAQMDAwMDAwIDAwEDAQIBAQMDAwIDAwMDAwMDAQMDAwEDAQMDAgMCAwMDAwMBAwMDAwMBAwMDAQIDAwEDAwMDAQMDAwMDAwIBAwIDAgEDAwMDAwICAQMBAwMCAgMCAgIDAwMBAwMDAwMDAwMBAwEDAwEDAwECAwMCAwEDAwIDAwIDAwMDAwMDAwIDAgICAwMDAwIDAwICAwICAgMCAwMBAwIDAwEDAwMBAQMCAwEBAwIDAwMDAQMDAgMDAQMBAwMCAgMCAgMDAwMBAQMDAQECAgIDAwEDAwMDAgMCAwMDAwMDAQMBAwMDAwIDAwMDAwICAwMDAwIDAwMDAwIDAgMDAwMDAwMDAwEDAQIDAwIDAQMBAwMBAgMDAgEDAwMDAQIDAwMCAwMBAwMDAQEDAwMBAwMDAwMBAwMDAQMDAwMDAwEDAgMDAwEDAwMBAQMCAwEBAwMCAwMDAwMDAwMDAgEDAgMDAwMDAgMDAwMBAwMDAwMDAwMDAgMDAwECAwMDAQMDAgMDAwMDAwMDAwIDAwIBAwEDAgIDAwECAgMDAwMDAwICAwMDAwECAwEDAwMDAgEDAgMDAwMCAgMCAwMCAgIDAwMDAQMBAwEDAwMDAgMDAwMBAwMDAwMCAwMDAwEDAwMDAQMCAwEDAgMDAgMBAwIDAwIDAwEDAgMDAQMDAwMDAwMDAwIDAwMDAwIDAwMCAwMCAwIBAwMBAwMDAwMDAgMDAgMD",
          "dtype": "i1"
         },
         "xaxis": "x",
         "yaxis": "y"
        },
        {
         "alignmentgroup": "True",
         "bingroup": "x",
         "hovertemplate": "Survived=1<br>Pclass=%{x}<br>count=%{y}<extra></extra>",
         "legendgroup": "1",
         "marker": {
          "color": "#EF553B",
          "pattern": {
           "shape": ""
          }
         },
         "name": "1",
         "offsetgroup": "1",
         "orientation": "v",
         "showlegend": true,
         "type": "histogram",
         "x": {
          "bdata": "AQMBAwIDAQICAwIDAQMDAQMDAwIDAwECAQICAQMCAwMCAwMDAgMBAQIDAwMCAwMDAgEDAwMBAwIDAQMCAwMBAgMCAQEDAwMDAQIBAwEDAQIBAwIDAgEDAQEBAgMDAQEDAgMBAwMDAgMBAQEBAwMCAQEBAQEBAwIBAQICAQIDAQMBAQMCAQICAwMBAwMBAwMBAQEDAQMBAgIBAwEDAgMCAQMCAgICAwEDAgECAgIDAQIBAwEBAwECAQMCAgMDAQEDAQECAQMDAQECAgEBAgIDAgEBAQICAgIBAwMBAQMDAgEBAwIBAwIBAQEBAgECAQECAQMCAgEDAQEBAgEDAwEBAwIDAQMBAgIDAQEBAQMDAwEBAgEBAwEBAQICAQIDAQEBAQMCAgMCAgEDAQECAwEDAQMDAQMCAQMDAQEDAwIDAQMCAQMBAQEBAwEBAwECAgMBAgMBAgEB",
          "dtype": "i1"
         },
         "xaxis": "x",
         "yaxis": "y"
        }
       ],
       "layout": {
        "barmode": "group",
        "legend": {
         "title": {
          "text": "Survived"
         },
         "tracegroupgap": 0
        },
        "template": {
         "data": {
          "bar": [
           {
            "error_x": {
             "color": "#2a3f5f"
            },
            "error_y": {
             "color": "#2a3f5f"
            },
            "marker": {
             "line": {
              "color": "#E5ECF6",
              "width": 0.5
             },
             "pattern": {
              "fillmode": "overlay",
              "size": 10,
              "solidity": 0.2
             }
            },
            "type": "bar"
           }
          ],
          "barpolar": [
           {
            "marker": {
             "line": {
              "color": "#E5ECF6",
              "width": 0.5
             },
             "pattern": {
              "fillmode": "overlay",
              "size": 10,
              "solidity": 0.2
             }
            },
            "type": "barpolar"
           }
          ],
          "carpet": [
           {
            "aaxis": {
             "endlinecolor": "#2a3f5f",
             "gridcolor": "white",
             "linecolor": "white",
             "minorgridcolor": "white",
             "startlinecolor": "#2a3f5f"
            },
            "baxis": {
             "endlinecolor": "#2a3f5f",
             "gridcolor": "white",
             "linecolor": "white",
             "minorgridcolor": "white",
             "startlinecolor": "#2a3f5f"
            },
            "type": "carpet"
           }
          ],
          "choropleth": [
           {
            "colorbar": {
             "outlinewidth": 0,
             "ticks": ""
            },
            "type": "choropleth"
           }
          ],
          "contour": [
           {
            "colorbar": {
             "outlinewidth": 0,
             "ticks": ""
            },
            "colorscale": [
             [
              0,
              "#0d0887"
             ],
             [
              0.1111111111111111,
              "#46039f"
             ],
             [
              0.2222222222222222,
              "#7201a8"
             ],
             [
              0.3333333333333333,
              "#9c179e"
             ],
             [
              0.4444444444444444,
              "#bd3786"
             ],
             [
              0.5555555555555556,
              "#d8576b"
             ],
             [
              0.6666666666666666,
              "#ed7953"
             ],
             [
              0.7777777777777778,
              "#fb9f3a"
             ],
             [
              0.8888888888888888,
              "#fdca26"
             ],
             [
              1,
              "#f0f921"
             ]
            ],
            "type": "contour"
           }
          ],
          "contourcarpet": [
           {
            "colorbar": {
             "outlinewidth": 0,
             "ticks": ""
            },
            "type": "contourcarpet"
           }
          ],
          "heatmap": [
           {
            "colorbar": {
             "outlinewidth": 0,
             "ticks": ""
            },
            "colorscale": [
             [
              0,
              "#0d0887"
             ],
             [
              0.1111111111111111,
              "#46039f"
             ],
             [
              0.2222222222222222,
              "#7201a8"
             ],
             [
              0.3333333333333333,
              "#9c179e"
             ],
             [
              0.4444444444444444,
              "#bd3786"
             ],
             [
              0.5555555555555556,
              "#d8576b"
             ],
             [
              0.6666666666666666,
              "#ed7953"
             ],
             [
              0.7777777777777778,
              "#fb9f3a"
             ],
             [
              0.8888888888888888,
              "#fdca26"
             ],
             [
              1,
              "#f0f921"
             ]
            ],
            "type": "heatmap"
           }
          ],
          "histogram": [
           {
            "marker": {
             "pattern": {
              "fillmode": "overlay",
              "size": 10,
              "solidity": 0.2
             }
            },
            "type": "histogram"
           }
          ],
          "histogram2d": [
           {
            "colorbar": {
             "outlinewidth": 0,
             "ticks": ""
            },
            "colorscale": [
             [
              0,
              "#0d0887"
             ],
             [
              0.1111111111111111,
              "#46039f"
             ],
             [
              0.2222222222222222,
              "#7201a8"
             ],
             [
              0.3333333333333333,
              "#9c179e"
             ],
             [
              0.4444444444444444,
              "#bd3786"
             ],
             [
              0.5555555555555556,
              "#d8576b"
             ],
             [
              0.6666666666666666,
              "#ed7953"
             ],
             [
              0.7777777777777778,
              "#fb9f3a"
             ],
             [
              0.8888888888888888,
              "#fdca26"
             ],
             [
              1,
              "#f0f921"
             ]
            ],
            "type": "histogram2d"
           }
          ],
          "histogram2dcontour": [
           {
            "colorbar": {
             "outlinewidth": 0,
             "ticks": ""
            },
            "colorscale": [
             [
              0,
              "#0d0887"
             ],
             [
              0.1111111111111111,
              "#46039f"
             ],
             [
              0.2222222222222222,
              "#7201a8"
             ],
             [
              0.3333333333333333,
              "#9c179e"
             ],
             [
              0.4444444444444444,
              "#bd3786"
             ],
             [
              0.5555555555555556,
              "#d8576b"
             ],
             [
              0.6666666666666666,
              "#ed7953"
             ],
             [
              0.7777777777777778,
              "#fb9f3a"
             ],
             [
              0.8888888888888888,
              "#fdca26"
             ],
             [
              1,
              "#f0f921"
             ]
            ],
            "type": "histogram2dcontour"
           }
          ],
          "mesh3d": [
           {
            "colorbar": {
             "outlinewidth": 0,
             "ticks": ""
            },
            "type": "mesh3d"
           }
          ],
          "parcoords": [
           {
            "line": {
             "colorbar": {
              "outlinewidth": 0,
              "ticks": ""
             }
            },
            "type": "parcoords"
           }
          ],
          "pie": [
           {
            "automargin": true,
            "type": "pie"
           }
          ],
          "scatter": [
           {
            "fillpattern": {
             "fillmode": "overlay",
             "size": 10,
             "solidity": 0.2
            },
            "type": "scatter"
           }
          ],
          "scatter3d": [
           {
            "line": {
             "colorbar": {
              "outlinewidth": 0,
              "ticks": ""
             }
            },
            "marker": {
             "colorbar": {
              "outlinewidth": 0,
              "ticks": ""
             }
            },
            "type": "scatter3d"
           }
          ],
          "scattercarpet": [
           {
            "marker": {
             "colorbar": {
              "outlinewidth": 0,
              "ticks": ""
             }
            },
            "type": "scattercarpet"
           }
          ],
          "scattergeo": [
           {
            "marker": {
             "colorbar": {
              "outlinewidth": 0,
              "ticks": ""
             }
            },
            "type": "scattergeo"
           }
          ],
          "scattergl": [
           {
            "marker": {
             "colorbar": {
              "outlinewidth": 0,
              "ticks": ""
             }
            },
            "type": "scattergl"
           }
          ],
          "scattermap": [
           {
            "marker": {
             "colorbar": {
              "outlinewidth": 0,
              "ticks": ""
             }
            },
            "type": "scattermap"
           }
          ],
          "scattermapbox": [
           {
            "marker": {
             "colorbar": {
              "outlinewidth": 0,
              "ticks": ""
             }
            },
            "type": "scattermapbox"
           }
          ],
          "scatterpolar": [
           {
            "marker": {
             "colorbar": {
              "outlinewidth": 0,
              "ticks": ""
             }
            },
            "type": "scatterpolar"
           }
          ],
          "scatterpolargl": [
           {
            "marker": {
             "colorbar": {
              "outlinewidth": 0,
              "ticks": ""
             }
            },
            "type": "scatterpolargl"
           }
          ],
          "scatterternary": [
           {
            "marker": {
             "colorbar": {
              "outlinewidth": 0,
              "ticks": ""
             }
            },
            "type": "scatterternary"
           }
          ],
          "surface": [
           {
            "colorbar": {
             "outlinewidth": 0,
             "ticks": ""
            },
            "colorscale": [
             [
              0,
              "#0d0887"
             ],
             [
              0.1111111111111111,
              "#46039f"
             ],
             [
              0.2222222222222222,
              "#7201a8"
             ],
             [
              0.3333333333333333,
              "#9c179e"
             ],
             [
              0.4444444444444444,
              "#bd3786"
             ],
             [
              0.5555555555555556,
              "#d8576b"
             ],
             [
              0.6666666666666666,
              "#ed7953"
             ],
             [
              0.7777777777777778,
              "#fb9f3a"
             ],
             [
              0.8888888888888888,
              "#fdca26"
             ],
             [
              1,
              "#f0f921"
             ]
            ],
            "type": "surface"
           }
          ],
          "table": [
           {
            "cells": {
             "fill": {
              "color": "#EBF0F8"
             },
             "line": {
              "color": "white"
             }
            },
            "header": {
             "fill": {
              "color": "#C8D4E3"
             },
             "line": {
              "color": "white"
             }
            },
            "type": "table"
           }
          ]
         },
         "layout": {
          "annotationdefaults": {
           "arrowcolor": "#2a3f5f",
           "arrowhead": 0,
           "arrowwidth": 1
          },
          "autotypenumbers": "strict",
          "coloraxis": {
           "colorbar": {
            "outlinewidth": 0,
            "ticks": ""
           }
          },
          "colorscale": {
           "diverging": [
            [
             0,
             "#8e0152"
            ],
            [
             0.1,
             "#c51b7d"
            ],
            [
             0.2,
             "#de77ae"
            ],
            [
             0.3,
             "#f1b6da"
            ],
            [
             0.4,
             "#fde0ef"
            ],
            [
             0.5,
             "#f7f7f7"
            ],
            [
             0.6,
             "#e6f5d0"
            ],
            [
             0.7,
             "#b8e186"
            ],
            [
             0.8,
             "#7fbc41"
            ],
            [
             0.9,
             "#4d9221"
            ],
            [
             1,
             "#276419"
            ]
           ],
           "sequential": [
            [
             0,
             "#0d0887"
            ],
            [
             0.1111111111111111,
             "#46039f"
            ],
            [
             0.2222222222222222,
             "#7201a8"
            ],
            [
             0.3333333333333333,
             "#9c179e"
            ],
            [
             0.4444444444444444,
             "#bd3786"
            ],
            [
             0.5555555555555556,
             "#d8576b"
            ],
            [
             0.6666666666666666,
             "#ed7953"
            ],
            [
             0.7777777777777778,
             "#fb9f3a"
            ],
            [
             0.8888888888888888,
             "#fdca26"
            ],
            [
             1,
             "#f0f921"
            ]
           ],
           "sequentialminus": [
            [
             0,
             "#0d0887"
            ],
            [
             0.1111111111111111,
             "#46039f"
            ],
            [
             0.2222222222222222,
             "#7201a8"
            ],
            [
             0.3333333333333333,
             "#9c179e"
            ],
            [
             0.4444444444444444,
             "#bd3786"
            ],
            [
             0.5555555555555556,
             "#d8576b"
            ],
            [
             0.6666666666666666,
             "#ed7953"
            ],
            [
             0.7777777777777778,
             "#fb9f3a"
            ],
            [
             0.8888888888888888,
             "#fdca26"
            ],
            [
             1,
             "#f0f921"
            ]
           ]
          },
          "colorway": [
           "#636efa",
           "#EF553B",
           "#00cc96",
           "#ab63fa",
           "#FFA15A",
           "#19d3f3",
           "#FF6692",
           "#B6E880",
           "#FF97FF",
           "#FECB52"
          ],
          "font": {
           "color": "#2a3f5f"
          },
          "geo": {
           "bgcolor": "white",
           "lakecolor": "white",
           "landcolor": "#E5ECF6",
           "showlakes": true,
           "showland": true,
           "subunitcolor": "white"
          },
          "hoverlabel": {
           "align": "left"
          },
          "hovermode": "closest",
          "mapbox": {
           "style": "light"
          },
          "paper_bgcolor": "white",
          "plot_bgcolor": "#E5ECF6",
          "polar": {
           "angularaxis": {
            "gridcolor": "white",
            "linecolor": "white",
            "ticks": ""
           },
           "bgcolor": "#E5ECF6",
           "radialaxis": {
            "gridcolor": "white",
            "linecolor": "white",
            "ticks": ""
           }
          },
          "scene": {
           "xaxis": {
            "backgroundcolor": "#E5ECF6",
            "gridcolor": "white",
            "gridwidth": 2,
            "linecolor": "white",
            "showbackground": true,
            "ticks": "",
            "zerolinecolor": "white"
           },
           "yaxis": {
            "backgroundcolor": "#E5ECF6",
            "gridcolor": "white",
            "gridwidth": 2,
            "linecolor": "white",
            "showbackground": true,
            "ticks": "",
            "zerolinecolor": "white"
           },
           "zaxis": {
            "backgroundcolor": "#E5ECF6",
            "gridcolor": "white",
            "gridwidth": 2,
            "linecolor": "white",
            "showbackground": true,
            "ticks": "",
            "zerolinecolor": "white"
           }
          },
          "shapedefaults": {
           "line": {
            "color": "#2a3f5f"
           }
          },
          "ternary": {
           "aaxis": {
            "gridcolor": "white",
            "linecolor": "white",
            "ticks": ""
           },
           "baxis": {
            "gridcolor": "white",
            "linecolor": "white",
            "ticks": ""
           },
           "bgcolor": "#E5ECF6",
           "caxis": {
            "gridcolor": "white",
            "linecolor": "white",
            "ticks": ""
           }
          },
          "title": {
           "x": 0.05
          },
          "xaxis": {
           "automargin": true,
           "gridcolor": "white",
           "linecolor": "white",
           "ticks": "",
           "title": {
            "standoff": 15
           },
           "zerolinecolor": "white",
           "zerolinewidth": 2
          },
          "yaxis": {
           "automargin": true,
           "gridcolor": "white",
           "linecolor": "white",
           "ticks": "",
           "title": {
            "standoff": 15
           },
           "zerolinecolor": "white",
           "zerolinewidth": 2
          }
         }
        },
        "title": {
         "text": "Survival by Passenger Class"
        },
        "xaxis": {
         "anchor": "y",
         "domain": [
          0,
          1
         ],
         "title": {
          "text": "Pclass"
         }
        },
        "yaxis": {
         "anchor": "x",
         "domain": [
          0,
          1
         ],
         "title": {
          "text": "count"
         }
        }
       }
      }
     },
     "metadata": {},
     "output_type": "display_data"
    },
    {
     "data": {
      "application/vnd.plotly.v1+json": {
       "config": {
        "plotlyServerURL": "https://plot.ly"
       },
       "data": [
        {
         "customdata": [
          [
           3,
           "S"
          ],
          [
           3,
           "S"
          ],
          [
           3,
           "Q"
          ],
          [
           1,
           "S"
          ],
          [
           3,
           "S"
          ],
          [
           3,
           "S"
          ],
          [
           3,
           "S"
          ],
          [
           3,
           "Q"
          ],
          [
           2,
           "S"
          ],
          [
           2,
           "S"
          ],
          [
           2,
           "S"
          ],
          [
           1,
           "S"
          ],
          [
           3,
           "C"
          ],
          [
           1,
           "S"
          ],
          [
           3,
           "S"
          ],
          [
           1,
           "C"
          ],
          [
           2,
           "S"
          ],
          [
           1,
           "C"
          ],
          [
           1,
           "S"
          ],
          [
           3,
           "C"
          ],
          [
           3,
           "S"
          ],
          [
           3,
           "C"
          ],
          [
           3,
           "S"
          ],
          [
           3,
           "Q"
          ],
          [
           3,
           "C"
          ],
          [
           3,
           "S"
          ],
          [
           3,
           "S"
          ],
          [
           1,
           "C"
          ],
          [
           1,
           "S"
          ],
          [
           3,
           "C"
          ],
          [
           3,
           "S"
          ],
          [
           3,
           "C"
          ],
          [
           1,
           "S"
          ],
          [
           3,
           "S"
          ],
          [
           1,
           "C"
          ],
          [
           3,
           "C"
          ],
          [
           3,
           "S"
          ],
          [
           3,
           "S"
          ],
          [
           2,
           "S"
          ],
          [
           2,
           "S"
          ],
          [
           3,
           "C"
          ],
          [
           3,
           "S"
          ],
          [
           3,
           "S"
          ],
          [
           3,
           "S"
          ],
          [
           3,
           "S"
          ],
          [
           2,
           "S"
          ],
          [
           3,
           "S"
          ],
          [
           3,
           "S"
          ],
          [
           1,
           "S"
          ],
          [
           3,
           "S"
          ],
          [
           3,
           "S"
          ],
          [
           3,
           "S"
          ],
          [
           3,
           "S"
          ],
          [
           3,
           "S"
          ],
          [
           1,
           "S"
          ],
          [
           3,
           "S"
          ],
          [
           3,
           "S"
          ],
          [
           3,
           "S"
          ],
          [
           1,
           "C"
          ],
          [
           1,
           "C"
          ],
          [
           2,
           "S"
          ],
          [
           3,
           "S"
          ],
          [
           1,
           "S"
          ],
          [
           3,
           "S"
          ],
          [
           3,
           "S"
          ],
          [
           3,
           "S"
          ],
          [
           3,
           "S"
          ],
          [
           3,
           "S"
          ],
          [
           1,
           "S"
          ],
          [
           3,
           "S"
          ],
          [
           3,
           "S"
          ],
          [
           3,
           "Q"
          ],
          [
           2,
           "S"
          ],
          [
           1,
           "C"
          ],
          [
           2,
           "S"
          ],
          [
           3,
           "S"
          ],
          [
           2,
           "C"
          ],
          [
           1,
           "S"
          ],
          [
           3,
           "C"
          ],
          [
           3,
           "Q"
          ],
          [
           3,
           "S"
          ],
          [
           3,
           "S"
          ],
          [
           3,
           "C"
          ],
          [
           3,
           "S"
          ],
          [
           2,
           "S"
          ],
          [
           2,
           "C"
          ],
          [
           1,
           "S"
          ],
          [
           3,
           "S"
          ],
          [
           1,
           "C"
          ],
          [
           3,
           "Q"
          ],
          [
           2,
           "S"
          ],
          [
           2,
           "S"
          ],
          [
           3,
           "S"
          ],
          [
           2,
           "S"
          ],
          [
           2,
           "S"
          ],
          [
           2,
           "S"
          ],
          [
           3,
           "S"
          ],
          [
           3,
           "S"
          ],
          [
           3,
           "S"
          ],
          [
           1,
           "C"
          ],
          [
           3,
           "S"
          ],
          [
           3,
           "S"
          ],
          [
           3,
           "S"
          ],
          [
           3,
           "S"
          ],
          [
           3,
           "S"
          ],
          [
           3,
           "S"
          ],
          [
           3,
           "S"
          ],
          [
           3,
           "S"
          ],
          [
           1,
           "S"
          ],
          [
           3,
           "S"
          ],
          [
           1,
           "S"
          ],
          [
           3,
           "Q"
          ],
          [
           3,
           "S"
          ],
          [
           1,
           "C"
          ],
          [
           3,
           "S"
          ],
          [
           3,
           "S"
          ],
          [
           2,
           "S"
          ],
          [
           3,
           "S"
          ],
          [
           2,
           "C"
          ],
          [
           3,
           "S"
          ],
          [
           2,
           "S"
          ],
          [
           1,
           "S"
          ],
          [
           1,
           "S"
          ],
          [
           3,
           "Q"
          ],
          [
           3,
           "S"
          ],
          [
           2,
           "S"
          ],
          [
           2,
           "S"
          ],
          [
           3,
           "Q"
          ],
          [
           3,
           "S"
          ],
          [
           3,
           "S"
          ],
          [
           3,
           "S"
          ],
          [
           3,
           "S"
          ],
          [
           3,
           "C"
          ],
          [
           3,
           "S"
          ],
          [
           3,
           "S"
          ],
          [
           3,
           "C"
          ],
          [
           1,
           "C"
          ],
          [
           3,
           "S"
          ],
          [
           3,
           "S"
          ],
          [
           2,
           "S"
          ],
          [
           3,
           "Q"
          ],
          [
           2,
           "S"
          ],
          [
           2,
           "S"
          ],
          [
           3,
           "S"
          ],
          [
           2,
           "S"
          ],
          [
           3,
           "S"
          ],
          [
           3,
           "S"
          ],
          [
           1,
           "S"
          ],
          [
           3,
           "S"
          ],
          [
           2,
           "S"
          ],
          [
           3,
           "S"
          ],
          [
           2,
           "S"
          ],
          [
           3,
           "S"
          ],
          [
           2,
           "S"
          ],
          [
           2,
           "S"
          ],
          [
           2,
           "S"
          ],
          [
           2,
           "S"
          ],
          [
           2,
           "S"
          ],
          [
           2,
           "S"
          ],
          [
           3,
           "S"
          ],
          [
           3,
           "C"
          ],
          [
           1,
           "Q"
          ],
          [
           1,
           "S"
          ],
          [
           2,
           "S"
          ],
          [
           3,
           "S"
          ],
          [
           1,
           "S"
          ],
          [
           3,
           "S"
          ],
          [
           3,
           "Q"
          ],
          [
           3,
           "S"
          ],
          [
           1,
           "S"
          ],
          [
           1,
           "S"
          ],
          [
           2,
           "S"
          ],
          [
           3,
           "S"
          ],
          [
           3,
           "S"
          ],
          [
           1,
           "S"
          ],
          [
           3,
           "S"
          ],
          [
           1,
           "C"
          ],
          [
           2,
           "S"
          ],
          [
           3,
           "Q"
          ],
          [
           3,
           "Q"
          ],
          [
           3,
           "S"
          ],
          [
           3,
           "S"
          ],
          [
           3,
           "S"
          ],
          [
           1,
           "S"
          ],
          [
           3,
           "C"
          ],
          [
           3,
           "S"
          ],
          [
           3,
           "S"
          ],
          [
           2,
           "S"
          ],
          [
           2,
           "C"
          ],
          [
           3,
           "S"
          ],
          [
           1,
           "C"
          ],
          [
           3,
           "C"
          ],
          [
           1,
           "S"
          ],
          [
           3,
           "Q"
          ],
          [
           3,
           "S"
          ],
          [
           3,
           "S"
          ],
          [
           1,
           "S"
          ],
          [
           2,
           "C"
          ],
          [
           3,
           "S"
          ],
          [
           2,
           "S"
          ],
          [
           2,
           "S"
          ],
          [
           3,
           "S"
          ],
          [
           3,
           "S"
          ],
          [
           3,
           "S"
          ],
          [
           3,
           "S"
          ],
          [
           1,
           "S"
          ],
          [
           1,
           "S"
          ],
          [
           3,
           "S"
          ],
          [
           3,
           "S"
          ],
          [
           1,
           "S"
          ],
          [
           3,
           "S"
          ],
          [
           1,
           "S"
          ],
          [
           2,
           "S"
          ],
          [
           2,
           "S"
          ],
          [
           2,
           "S"
          ],
          [
           2,
           "S"
          ],
          [
           3,
           "S"
          ],
          [
           3,
           "S"
          ],
          [
           3,
           "S"
          ],
          [
           1,
           "S"
          ],
          [
           3,
           "C"
          ],
          [
           3,
           "S"
          ],
          [
           3,
           "C"
          ],
          [
           3,
           "S"
          ],
          [
           3,
           "S"
          ],
          [
           2,
           "C"
          ],
          [
           3,
           "S"
          ],
          [
           3,
           "Q"
          ],
          [
           3,
           "S"
          ],
          [
           1,
           "C"
          ],
          [
           3,
           "S"
          ],
          [
           3,
           "S"
          ],
          [
           1,
           "C"
          ],
          [
           1,
           "C"
          ],
          [
           3,
           "C"
          ],
          [
           3,
           "S"
          ],
          [
           3,
           "S"
          ],
          [
           3,
           "S"
          ],
          [
           2,
           "S"
          ],
          [
           3,
           "S"
          ],
          [
           3,
           "Q"
          ],
          [
           1,
           "S"
          ],
          [
           3,
           "S"
          ],
          [
           3,
           "S"
          ],
          [
           3,
           "S"
          ],
          [
           2,
           "S"
          ],
          [
           2,
           "S"
          ],
          [
           3,
           "S"
          ],
          [
           3,
           "S"
          ],
          [
           3,
           "S"
          ],
          [
           2,
           "S"
          ],
          [
           3,
           "S"
          ],
          [
           2,
           "S"
          ],
          [
           3,
           "S"
          ],
          [
           3,
           "S"
          ],
          [
           3,
           "Q"
          ],
          [
           2,
           "S"
          ],
          [
           3,
           "S"
          ],
          [
           2,
           "S"
          ],
          [
           3,
           "C"
          ],
          [
           3,
           "Q"
          ],
          [
           3,
           "S"
          ],
          [
           3,
           "S"
          ],
          [
           3,
           "S"
          ],
          [
           3,
           "Q"
          ],
          [
           3,
           "S"
          ],
          [
           1,
           "S"
          ],
          [
           3,
           "S"
          ],
          [
           1,
           "S"
          ],
          [
           1,
           "S"
          ],
          [
           2,
           "S"
          ],
          [
           3,
           "S"
          ],
          [
           3,
           "S"
          ],
          [
           3,
           "S"
          ],
          [
           1,
           "S"
          ],
          [
           1,
           "S"
          ],
          [
           1,
           "S"
          ],
          [
           2,
           "S"
          ],
          [
           3,
           "S"
          ],
          [
           1,
           "C"
          ],
          [
           1,
           "C"
          ],
          [
           3,
           "S"
          ],
          [
           3,
           "C"
          ],
          [
           1,
           "S"
          ],
          [
           3,
           "Q"
          ],
          [
           1,
           "S"
          ],
          [
           3,
           "S"
          ],
          [
           1,
           "S"
          ],
          [
           2,
           "S"
          ],
          [
           3,
           "S"
          ],
          [
           3,
           "S"
          ],
          [
           2,
           "S"
          ],
          [
           1,
           "S"
          ],
          [
           3,
           "Q"
          ],
          [
           3,
           "S"
          ],
          [
           3,
           "S"
          ],
          [
           1,
           "S"
          ],
          [
           2,
           "S"
          ],
          [
           3,
           "S"
          ],
          [
           3,
           "S"
          ],
          [
           3,
           "S"
          ],
          [
           2,
           "S"
          ],
          [
           3,
           "S"
          ],
          [
           1,
           "C"
          ],
          [
           1,
           "C"
          ],
          [
           3,
           "S"
          ],
          [
           3,
           "S"
          ],
          [
           3,
           "S"
          ],
          [
           3,
           "S"
          ],
          [
           1,
           "S"
          ],
          [
           1,
           "C"
          ],
          [
           3,
           "S"
          ],
          [
           3,
           "C"
          ],
          [
           3,
           "S"
          ],
          [
           3,
           "S"
          ],
          [
           3,
           "S"
          ],
          [
           1,
           "C"
          ],
          [
           1,
           "S"
          ],
          [
           3,
           "S"
          ],
          [
           3,
           "S"
          ],
          [
           3,
           "Q"
          ],
          [
           3,
           "S"
          ],
          [
           1,
           "S"
          ],
          [
           3,
           "S"
          ],
          [
           1,
           "S"
          ],
          [
           3,
           "Q"
          ],
          [
           3,
           "S"
          ],
          [
           3,
           "S"
          ],
          [
           3,
           "C"
          ],
          [
           3,
           "C"
          ],
          [
           3,
           "Q"
          ],
          [
           1,
           "S"
          ],
          [
           3,
           "S"
          ],
          [
           2,
           "S"
          ],
          [
           3,
           "C"
          ],
          [
           3,
           "C"
          ],
          [
           1,
           "S"
          ],
          [
           3,
           "S"
          ],
          [
           2,
           "S"
          ],
          [
           1,
           "C"
          ],
          [
           1,
           "S"
          ],
          [
           2,
           "C"
          ],
          [
           3,
           "S"
          ],
          [
           2,
           "S"
          ],
          [
           1,
           "C"
          ],
          [
           2,
           "S"
          ],
          [
           3,
           "Q"
          ],
          [
           3,
           "C"
          ],
          [
           1,
           "S"
          ],
          [
           1,
           "C"
          ],
          [
           3,
           "Q"
          ],
          [
           3,
           "S"
          ],
          [
           2,
           "S"
          ],
          [
           3,
           "S"
          ],
          [
           3,
           "S"
          ],
          [
           3,
           "S"
          ],
          [
           3,
           "C"
          ],
          [
           3,
           "S"
          ],
          [
           2,
           "S"
          ],
          [
           1,
           "S"
          ],
          [
           3,
           "S"
          ],
          [
           3,
           "S"
          ],
          [
           3,
           "S"
          ],
          [
           2,
           "S"
          ],
          [
           1,
           "C"
          ],
          [
           3,
           "C"
          ],
          [
           2,
           "S"
          ],
          [
           1,
           "C"
          ],
          [
           3,
           "S"
          ],
          [
           3,
           "S"
          ],
          [
           3,
           "S"
          ],
          [
           3,
           "S"
          ],
          [
           2,
           "S"
          ],
          [
           3,
           "S"
          ],
          [
           3,
           "S"
          ],
          [
           3,
           "C"
          ],
          [
           1,
           "C"
          ],
          [
           3,
           "S"
          ],
          [
           1,
           "S"
          ],
          [
           3,
           "S"
          ],
          [
           1,
           "C"
          ],
          [
           3,
           "S"
          ],
          [
           3,
           "S"
          ],
          [
           1,
           "S"
          ],
          [
           3,
           "S"
          ],
          [
           3,
           "Q"
          ],
          [
           3,
           "S"
          ],
          [
           3,
           "S"
          ],
          [
           2,
           "S"
          ],
          [
           3,
           "C"
          ],
          [
           1,
           "S"
          ],
          [
           3,
           "C"
          ],
          [
           3,
           "S"
          ],
          [
           3,
           "S"
          ],
          [
           1,
           "S"
          ],
          [
           2,
           "Q"
          ],
          [
           3,
           "S"
          ],
          [
           3,
           "Q"
          ],
          [
           1,
           "S"
          ],
          [
           3,
           "S"
          ],
          [
           1,
           "C"
          ],
          [
           1,
           "S"
          ],
          [
           3,
           "S"
          ],
          [
           2,
           "S"
          ],
          [
           3,
           "S"
          ],
          [
           3,
           "S"
          ],
          [
           3,
           "S"
          ],
          [
           1,
           "C"
          ],
          [
           3,
           "S"
          ],
          [
           1,
           "C"
          ],
          [
           3,
           "S"
          ],
          [
           3,
           "S"
          ],
          [
           3,
           "S"
          ],
          [
           2,
           "S"
          ],
          [
           3,
           "S"
          ],
          [
           2,
           "S"
          ],
          [
           1,
           "C"
          ],
          [
           1,
           "S"
          ],
          [
           3,
           "C"
          ],
          [
           1,
           "S"
          ],
          [
           3,
           "S"
          ],
          [
           3,
           "S"
          ],
          [
           2,
           "S"
          ],
          [
           2,
           "S"
          ],
          [
           3,
           "S"
          ],
          [
           3,
           "S"
          ],
          [
           1,
           "S"
          ],
          [
           2,
           "S"
          ],
          [
           2,
           "S"
          ],
          [
           2,
           "S"
          ],
          [
           3,
           "S"
          ],
          [
           3,
           "S"
          ],
          [
           1,
           "C"
          ],
          [
           1,
           "C"
          ],
          [
           3,
           "S"
          ],
          [
           3,
           "S"
          ],
          [
           2,
           "S"
          ],
          [
           2,
           "C"
          ],
          [
           3,
           "S"
          ],
          [
           3,
           "S"
          ],
          [
           3,
           "S"
          ],
          [
           1,
           "S"
          ],
          [
           3,
           "S"
          ],
          [
           3,
           "C"
          ],
          [
           1,
           "S"
          ],
          [
           2,
           "S"
          ],
          [
           3,
           "S"
          ],
          [
           1,
           "C"
          ],
          [
           3,
           "S"
          ],
          [
           1,
           "S"
          ],
          [
           3,
           "Q"
          ],
          [
           3,
           "S"
          ],
          [
           2,
           "S"
          ],
          [
           1,
           "S"
          ],
          [
           3,
           "C"
          ],
          [
           1,
           "S"
          ],
          [
           1,
           "S"
          ],
          [
           3,
           "S"
          ],
          [
           2,
           "S"
          ],
          [
           3,
           "S"
          ],
          [
           3,
           "Q"
          ],
          [
           3,
           "S"
          ],
          [
           3,
           "S"
          ],
          [
           2,
           "S"
          ],
          [
           2,
           "S"
          ],
          [
           1,
           "S"
          ],
          [
           3,
           "S"
          ],
          [
           2,
           "S"
          ],
          [
           3,
           "C"
          ],
          [
           2,
           "S"
          ],
          [
           2,
           "S"
          ],
          [
           2,
           "S"
          ],
          [
           3,
           "S"
          ],
          [
           1,
           "C"
          ],
          [
           3,
           "S"
          ],
          [
           3,
           "S"
          ],
          [
           1,
           "S"
          ],
          [
           1,
           "S"
          ],
          [
           3,
           "S"
          ],
          [
           3,
           "S"
          ],
          [
           1,
           "S"
          ],
          [
           3,
           "S"
          ],
          [
           1,
           "S"
          ],
          [
           3,
           "Q"
          ],
          [
           3,
           "S"
          ],
          [
           3,
           "S"
          ],
          [
           3,
           "S"
          ],
          [
           2,
           "S"
          ],
          [
           3,
           "S"
          ],
          [
           2,
           "S"
          ],
          [
           3,
           "S"
          ],
          [
           3,
           "S"
          ],
          [
           3,
           "S"
          ],
          [
           3,
           "C"
          ],
          [
           3,
           "S"
          ],
          [
           1,
           "C"
          ],
          [
           3,
           "Q"
          ],
          [
           3,
           "S"
          ],
          [
           3,
           "S"
          ],
          [
           3,
           "S"
          ],
          [
           3,
           "C"
          ],
          [
           3,
           "S"
          ],
          [
           3,
           "Q"
          ],
          [
           3,
           "Q"
          ],
          [
           1,
           "S"
          ],
          [
           3,
           "S"
          ],
          [
           3,
           "S"
          ],
          [
           3,
           "S"
          ],
          [
           3,
           "Q"
          ],
          [
           3,
           "S"
          ],
          [
           1,
           "C"
          ],
          [
           3,
           "Q"
          ],
          [
           2,
           "S"
          ],
          [
           1,
           "C"
          ],
          [
           3,
           "S"
          ],
          [
           2,
           "S"
          ],
          [
           3,
           "C"
          ],
          [
           2,
           "S"
          ],
          [
           1,
           "S"
          ],
          [
           3,
           "C"
          ],
          [
           3,
           "S"
          ],
          [
           3,
           "S"
          ],
          [
           1,
           "S"
          ],
          [
           2,
           "S"
          ],
          [
           3,
           "S"
          ],
          [
           3,
           "S"
          ],
          [
           2,
           "S"
          ],
          [
           3,
           "S"
          ],
          [
           1,
           "S"
          ],
          [
           2,
           "C"
          ],
          [
           3,
           "S"
          ],
          [
           3,
           "S"
          ],
          [
           3,
           "S"
          ],
          [
           1,
           "S"
          ],
          [
           3,
           "S"
          ],
          [
           3,
           "Q"
          ],
          [
           3,
           "S"
          ],
          [
           2,
           "C"
          ],
          [
           3,
           "Q"
          ],
          [
           2,
           "S"
          ],
          [
           3,
           "C"
          ],
          [
           3,
           "S"
          ],
          [
           3,
           "S"
          ],
          [
           3,
           "S"
          ],
          [
           3,
           "S"
          ],
          [
           3,
           "S"
          ],
          [
           1,
           "C"
          ],
          [
           3,
           "S"
          ],
          [
           2,
           "S"
          ],
          [
           3,
           "C"
          ],
          [
           3,
           "S"
          ],
          [
           3,
           "S"
          ],
          [
           3,
           "S"
          ],
          [
           3,
           "C"
          ],
          [
           2,
           "S"
          ],
          [
           3,
           "S"
          ],
          [
           3,
           "S"
          ],
          [
           1,
           "S"
          ],
          [
           3,
           "C"
          ],
          [
           3,
           "S"
          ],
          [
           2,
           "S"
          ],
          [
           2,
           "S"
          ],
          [
           1,
           "S"
          ],
          [
           3,
           "S"
          ],
          [
           3,
           "S"
          ],
          [
           3,
           "S"
          ],
          [
           1,
           "S"
          ],
          [
           3,
           "S"
          ],
          [
           3,
           "S"
          ],
          [
           3,
           "S"
          ],
          [
           3,
           "S"
          ],
          [
           3,
           "S"
          ],
          [
           2,
           "S"
          ],
          [
           3,
           "S"
          ],
          [
           2,
           "S"
          ],
          [
           1,
           "C"
          ],
          [
           3,
           "Q"
          ]
         ],
         "hovertemplate": "Sex=male<br>Age=%{x}<br>Fare=%{y}<br>Pclass=%{customdata[0]}<br>Embarked=%{customdata[1]}<br>Survived=%{marker.color}<extra></extra>",
         "legendgroup": "male",
         "marker": {
          "color": {
           "bdata": "AAAAAAAAAAABAAEBAAAAAAAAAAEAAAAAAAAAAAEAAAAAAAABAAAAAAABAAAAAQABAAAAAAAAAAAAAAABAAAAAAAAAQAAAAAAAAAAAAAAAQABAAAAAAAAAAAAAAABAAAAAAAAAAAAAAAAAAABAAAAAAAAAAAAAAAAAQABAAAAAQAAAAAAAAEAAQEAAAAAAAABAAAAAQABAAAAAAAAAAAAAAAAAQAAAAAAAQAAAAABAAEAAAAAAAABAAABAAEAAAAAAQEAAAEAAAAAAAAAAAAAAAAAAQABAAAAAQAAAAAAAAAAAAAAAAEAAAAAAAAAAAAAAAEBAAAAAAEAAAAAAQAAAAABAAAAAAAAAAEBAAAAAAAAAQEBAQAAAAEAAQAAAQAAAAAAAAAAAAAAAAAAAAAAAQAAAQAAAAAAAAAAAAABAAEBAAEAAAAAAAAAAAAAAAAAAAABAAABAAEBAAABAAAAAAAAAAAAAQEBAAABAAAAAAEAAAAAAAAAAAEAAAABAAABAAAAAAAAAQEAAAAAAAABAAEAAAAAAAEBAAEAAAAAAAAAAQAAAAEAAAAAAAABAAAAAQEAAAAAAAAAAQEAAAAAAAABAAAAAQEAAQAAAAAAAAAAAQAAAAAAAAABAAABAAABAAAAAAEAAAEAAAAAAAEAAAAAAAAAAAAAAAAAAAABAAAAAAAAAAABAQEAAAAAAAAAAAAAAAEAAAAAAQEBAAAAAAABAQAAAAAAAAAAAAABAAAAAAAAAQAAAAAAAAAAAAABAA==",
           "dtype": "i1"
          },
          "coloraxis": "coloraxis",
          "symbol": "circle"
         },
         "mode": "markers",
         "name": "male",
         "orientation": "v",
         "showlegend": true,
         "type": "scatter",
         "x": {
          "bdata": "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",
          "dtype": "f8"
         },
         "xaxis": "x",
         "y": {
          "bdata": "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",
          "dtype": "f8"
         },
         "yaxis": "y"
        },
        {
         "customdata": [
          [
           1,
           "C"
          ],
          [
           3,
           "S"
          ],
          [
           1,
           "S"
          ],
          [
           3,
           "S"
          ],
          [
           2,
           "C"
          ],
          [
           3,
           "S"
          ],
          [
           1,
           "S"
          ],
          [
           3,
           "S"
          ],
          [
           2,
           "S"
          ],
          [
           3,
           "S"
          ],
          [
           3,
           "C"
          ],
          [
           3,
           "Q"
          ],
          [
           3,
           "S"
          ],
          [
           3,
           "S"
          ],
          [
           3,
           "Q"
          ],
          [
           1,
           "C"
          ],
          [
           3,
           "Q"
          ],
          [
           3,
           "S"
          ],
          [
           3,
           "C"
          ],
          [
           3,
           "S"
          ],
          [
           2,
           "S"
          ],
          [
           2,
           "C"
          ],
          [
           3,
           "Q"
          ],
          [
           3,
           "Q"
          ],
          [
           3,
           "S"
          ],
          [
           1,
           "C"
          ],
          [
           2,
           "S"
          ],
          [
           2,
           "S"
          ],
          [
           2,
           "S"
          ],
          [
           1,
           "S"
          ],
          [
           2,
           "S"
          ],
          [
           3,
           "S"
          ],
          [
           3,
           "S"
          ],
          [
           3,
           "S"
          ],
          [
           3,
           "Q"
          ],
          [
           2,
           "S"
          ],
          [
           3,
           "S"
          ],
          [
           1,
           "S"
          ],
          [
           2,
           "S"
          ],
          [
           3,
           "S"
          ],
          [
           3,
           "S"
          ],
          [
           3,
           "Q"
          ],
          [
           3,
           "C"
          ],
          [
           3,
           "S"
          ],
          [
           3,
           "C"
          ],
          [
           3,
           "S"
          ],
          [
           2,
           "S"
          ],
          [
           3,
           "C"
          ],
          [
           3,
           "S"
          ],
          [
           2,
           "S"
          ],
          [
           1,
           "S"
          ],
          [
           3,
           "C"
          ],
          [
           3,
           "S"
          ],
          [
           3,
           "S"
          ],
          [
           3,
           "S"
          ],
          [
           1,
           "S"
          ],
          [
           3,
           "Q"
          ],
          [
           2,
           "S"
          ],
          [
           1,
           "S"
          ],
          [
           3,
           "S"
          ],
          [
           3,
           "S"
          ],
          [
           1,
           "C"
          ],
          [
           3,
           "S"
          ],
          [
           3,
           "S"
          ],
          [
           3,
           "Q"
          ],
          [
           2,
           "S"
          ],
          [
           3,
           "S"
          ],
          [
           1,
           "C"
          ],
          [
           1,
           "C"
          ],
          [
           3,
           "Q"
          ],
          [
           2,
           "S"
          ],
          [
           3,
           "S"
          ],
          [
           3,
           "Q"
          ],
          [
           2,
           "S"
          ],
          [
           1,
           "C"
          ],
          [
           3,
           "S"
          ],
          [
           1,
           "C"
          ],
          [
           3,
           "S"
          ],
          [
           1,
           "S"
          ],
          [
           3,
           "S"
          ],
          [
           3,
           "S"
          ],
          [
           2,
           "S"
          ],
          [
           3,
           "C"
          ],
          [
           3,
           "Q"
          ],
          [
           3,
           "S"
          ],
          [
           2,
           "S"
          ],
          [
           3,
           "S"
          ],
          [
           3,
           "S"
          ],
          [
           3,
           "C"
          ],
          [
           1,
           "C"
          ],
          [
           1,
           "S"
          ],
          [
           1,
           "C"
          ],
          [
           2,
           "S"
          ],
          [
           3,
           "Q"
          ],
          [
           1,
           "S"
          ],
          [
           1,
           "S"
          ],
          [
           2,
           "S"
          ],
          [
           3,
           "Q"
          ],
          [
           1,
           "S"
          ],
          [
           3,
           "S"
          ],
          [
           3,
           "S"
          ],
          [
           3,
           "Q"
          ],
          [
           1,
           "S"
          ],
          [
           1,
           "C"
          ],
          [
           3,
           "S"
          ],
          [
           1,
           "S"
          ],
          [
           1,
           "C"
          ],
          [
           3,
           "Q"
          ],
          [
           2,
           "Q"
          ],
          [
           1,
           "C"
          ],
          [
           1,
           "C"
          ],
          [
           1,
           "C"
          ],
          [
           1,
           "C"
          ],
          [
           1,
           "C"
          ],
          [
           2,
           "S"
          ],
          [
           3,
           "S"
          ],
          [
           2,
           "S"
          ],
          [
           1,
           "S"
          ],
          [
           1,
           "C"
          ],
          [
           2,
           "Q"
          ],
          [
           2,
           "S"
          ],
          [
           1,
           "C"
          ],
          [
           2,
           "S"
          ],
          [
           3,
           "S"
          ],
          [
           1,
           "C"
          ],
          [
           3,
           "Q"
          ],
          [
           1,
           "S"
          ],
          [
           1,
           "C"
          ],
          [
           1,
           "S"
          ],
          [
           2,
           "S"
          ],
          [
           2,
           "S"
          ],
          [
           3,
           "S"
          ],
          [
           1,
           "S"
          ],
          [
           2,
           "S"
          ],
          [
           3,
           "Q"
          ],
          [
           3,
           "Q"
          ],
          [
           3,
           "C"
          ],
          [
           1,
           "C"
          ],
          [
           3,
           "C"
          ],
          [
           3,
           "Q"
          ],
          [
           1,
           "C"
          ],
          [
           3,
           "S"
          ],
          [
           1,
           "C"
          ],
          [
           3,
           "S"
          ],
          [
           1,
           "C"
          ],
          [
           3,
           "C"
          ],
          [
           1,
           "S"
          ],
          [
           2,
           "S"
          ],
          [
           2,
           "C"
          ],
          [
           1,
           "C"
          ],
          [
           3,
           "S"
          ],
          [
           3,
           "S"
          ],
          [
           2,
           "S"
          ],
          [
           3,
           "S"
          ],
          [
           3,
           "S"
          ],
          [
           3,
           "S"
          ],
          [
           1,
           "Q"
          ],
          [
           3,
           "S"
          ],
          [
           2,
           "S"
          ],
          [
           2,
           "S"
          ],
          [
           3,
           "S"
          ],
          [
           3,
           "S"
          ],
          [
           2,
           "S"
          ],
          [
           2,
           "S"
          ],
          [
           3,
           "S"
          ],
          [
           2,
           "S"
          ],
          [
           1,
           "S"
          ],
          [
           3,
           "S"
          ],
          [
           2,
           "S"
          ],
          [
           2,
           "S"
          ],
          [
           2,
           "S"
          ],
          [
           2,
           "S"
          ],
          [
           3,
           "C"
          ],
          [
           1,
           "S"
          ],
          [
           2,
           "S"
          ],
          [
           3,
           "C"
          ],
          [
           2,
           "S"
          ],
          [
           2,
           "C"
          ],
          [
           3,
           "S"
          ],
          [
           3,
           "S"
          ],
          [
           3,
           "S"
          ],
          [
           3,
           "S"
          ],
          [
           1,
           "S"
          ],
          [
           1,
           "C"
          ],
          [
           1,
           "S"
          ],
          [
           3,
           "Q"
          ],
          [
           3,
           "Q"
          ],
          [
           3,
           "S"
          ],
          [
           1,
           "S"
          ],
          [
           2,
           "S"
          ],
          [
           1,
           "C"
          ],
          [
           2,
           "S"
          ],
          [
           2,
           "S"
          ],
          [
           1,
           "S"
          ],
          [
           1,
           "C"
          ],
          [
           2,
           "S"
          ],
          [
           2,
           "S"
          ],
          [
           3,
           "C"
          ],
          [
           3,
           "S"
          ],
          [
           2,
           "S"
          ],
          [
           1,
           "C"
          ],
          [
           1,
           "C"
          ],
          [
           1,
           "S"
          ],
          [
           3,
           "S"
          ],
          [
           3,
           "S"
          ],
          [
           2,
           "S"
          ],
          [
           3,
           "S"
          ],
          [
           1,
           "C"
          ],
          [
           1,
           "S"
          ],
          [
           3,
           "S"
          ],
          [
           3,
           "S"
          ],
          [
           3,
           "S"
          ],
          [
           1,
           "S"
          ],
          [
           3,
           "Q"
          ],
          [
           2,
           "S"
          ],
          [
           1,
           "S"
          ],
          [
           3,
           "C"
          ],
          [
           2,
           "S"
          ],
          [
           1,
           "C"
          ],
          [
           1,
           "S"
          ],
          [
           1,
           "C"
          ],
          [
           3,
           "Q"
          ],
          [
           2,
           "S"
          ],
          [
           2,
           "S"
          ],
          [
           2,
           "C"
          ],
          [
           1,
           "S"
          ],
          [
           3,
           "S"
          ],
          [
           3,
           "Q"
          ],
          [
           2,
           "S"
          ],
          [
           3,
           "S"
          ],
          [
           2,
           "S"
          ],
          [
           1,
           "S"
          ],
          [
           3,
           "S"
          ],
          [
           2,
           "S"
          ],
          [
           3,
           "S"
          ],
          [
           1,
           "C"
          ],
          [
           3,
           "S"
          ],
          [
           3,
           "C"
          ],
          [
           3,
           "S"
          ],
          [
           2,
           "S"
          ],
          [
           3,
           "Q"
          ],
          [
           3,
           "Q"
          ],
          [
           3,
           "Q"
          ],
          [
           1,
           "S"
          ],
          [
           2,
           "S"
          ],
          [
           3,
           "S"
          ],
          [
           3,
           "S"
          ],
          [
           3,
           "Q"
          ],
          [
           1,
           "S"
          ],
          [
           3,
           "C"
          ],
          [
           3,
           "Q"
          ],
          [
           1,
           "C"
          ],
          [
           3,
           "C"
          ],
          [
           2,
           "S"
          ],
          [
           1,
           "S"
          ],
          [
           1,
           "C"
          ],
          [
           1,
           "C"
          ],
          [
           2,
           "S"
          ],
          [
           2,
           "S"
          ],
          [
           2,
           "S"
          ],
          [
           3,
           "Q"
          ],
          [
           3,
           "S"
          ],
          [
           1,
           "S"
          ],
          [
           3,
           "S"
          ],
          [
           1,
           "C"
          ],
          [
           2,
           "S"
          ],
          [
           2,
           "S"
          ],
          [
           2,
           "S"
          ],
          [
           1,
           "S"
          ],
          [
           1,
           "S"
          ],
          [
           1,
           "S"
          ],
          [
           3,
           "Q"
          ],
          [
           2,
           "S"
          ],
          [
           2,
           "S"
          ],
          [
           3,
           "S"
          ],
          [
           1,
           "S"
          ],
          [
           3,
           "C"
          ],
          [
           1,
           "S"
          ],
          [
           3,
           "S"
          ],
          [
           3,
           "S"
          ],
          [
           1,
           "S"
          ],
          [
           3,
           "S"
          ],
          [
           3,
           "S"
          ],
          [
           2,
           "S"
          ],
          [
           3,
           "S"
          ],
          [
           1,
           "S"
          ],
          [
           3,
           "S"
          ],
          [
           3,
           "S"
          ],
          [
           1,
           "S"
          ],
          [
           3,
           "S"
          ],
          [
           1,
           "S"
          ],
          [
           3,
           "C"
          ],
          [
           1,
           "C"
          ],
          [
           1,
           "C"
          ],
          [
           1,
           "C"
          ],
          [
           3,
           "C"
          ],
          [
           1,
           "S"
          ],
          [
           2,
           "S"
          ],
          [
           3,
           "S"
          ],
          [
           1,
           "S"
          ],
          [
           3,
           "C"
          ],
          [
           1,
           "S"
          ],
          [
           3,
           "S"
          ],
          [
           2,
           "S"
          ],
          [
           2,
           "C"
          ],
          [
           1,
           "S"
          ],
          [
           2,
           "C"
          ],
          [
           3,
           "C"
          ],
          [
           1,
           "C"
          ],
          [
           2,
           "S"
          ],
          [
           3,
           "S"
          ],
          [
           3,
           "Q"
          ],
          [
           1,
           "S"
          ],
          [
           3,
           "S"
          ]
         ],
         "hovertemplate": "Sex=female<br>Age=%{x}<br>Fare=%{y}<br>Pclass=%{customdata[0]}<br>Embarked=%{customdata[1]}<br>Survived=%{marker.color}<extra></extra>",
         "legendgroup": "female",
         "marker": {
          "color": {
           "bdata": "AQEBAQEBAQABAAEBAAEBAQEAAQAAAQEBAAEBAQEBAQEAAQEBAQEBAAEBAAAAAAEBAAEBAAEBAAEBAQEAAQAAAQEBAQEBAQAAAQEBAQEAAQEAAQABAAEAAAEBAQEBAAEBAQEBAAEBAQEAAAEBAQEBAQEBAAEBAQEBAQEBAQEBAQEBAQEBAQABAQABAQEBAAEBAQEBAQEBAQABAAAAAQABAQAAAQEBAQEAAQEBAQEBAQEBAQABAQABAQAAAAABAQEBAQEBAQEBAAEBAQEAAAEBAQEBAAABAQEBAAEBAQEAAQEBAQABAQABAQABAAEAAQEBAQAAAQEBAAABAQEBAAEBAQEBAQEBAAEAAQEBAQEBAQAAAQEBAQEBAAEBAAEAAQAAAQEBAQEBAQABAAEBAQEAAQEBAQEBAQAAAQA=",
           "dtype": "i1"
          },
          "coloraxis": "coloraxis",
          "symbol": "diamond"
         },
         "mode": "markers",
         "name": "female",
         "orientation": "v",
         "showlegend": true,
         "type": "scatter",
         "x": {
          "bdata": "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",
          "dtype": "f8"
         },
         "xaxis": "x",
         "y": {
          "bdata": "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",
          "dtype": "f8"
         },
         "yaxis": "y"
        }
       ],
       "layout": {
        "coloraxis": {
         "colorbar": {
          "title": {
           "text": "Survived"
          }
         },
         "colorscale": [
          [
           0,
           "#0d0887"
          ],
          [
           0.1111111111111111,
           "#46039f"
          ],
          [
           0.2222222222222222,
           "#7201a8"
          ],
          [
           0.3333333333333333,
           "#9c179e"
          ],
          [
           0.4444444444444444,
           "#bd3786"
          ],
          [
           0.5555555555555556,
           "#d8576b"
          ],
          [
           0.6666666666666666,
           "#ed7953"
          ],
          [
           0.7777777777777778,
           "#fb9f3a"
          ],
          [
           0.8888888888888888,
           "#fdca26"
          ],
          [
           1,
           "#f0f921"
          ]
         ]
        },
        "legend": {
         "title": {
          "text": "Sex"
         },
         "tracegroupgap": 0
        },
        "template": {
         "data": {
          "bar": [
           {
            "error_x": {
             "color": "#2a3f5f"
            },
            "error_y": {
             "color": "#2a3f5f"
            },
            "marker": {
             "line": {
              "color": "#E5ECF6",
              "width": 0.5
             },
             "pattern": {
              "fillmode": "overlay",
              "size": 10,
              "solidity": 0.2
             }
            },
            "type": "bar"
           }
          ],
          "barpolar": [
           {
            "marker": {
             "line": {
              "color": "#E5ECF6",
              "width": 0.5
             },
             "pattern": {
              "fillmode": "overlay",
              "size": 10,
              "solidity": 0.2
             }
            },
            "type": "barpolar"
           }
          ],
          "carpet": [
           {
            "aaxis": {
             "endlinecolor": "#2a3f5f",
             "gridcolor": "white",
             "linecolor": "white",
             "minorgridcolor": "white",
             "startlinecolor": "#2a3f5f"
            },
            "baxis": {
             "endlinecolor": "#2a3f5f",
             "gridcolor": "white",
             "linecolor": "white",
             "minorgridcolor": "white",
             "startlinecolor": "#2a3f5f"
            },
            "type": "carpet"
           }
          ],
          "choropleth": [
           {
            "colorbar": {
             "outlinewidth": 0,
             "ticks": ""
            },
            "type": "choropleth"
           }
          ],
          "contour": [
           {
            "colorbar": {
             "outlinewidth": 0,
             "ticks": ""
            },
            "colorscale": [
             [
              0,
              "#0d0887"
             ],
             [
              0.1111111111111111,
              "#46039f"
             ],
             [
              0.2222222222222222,
              "#7201a8"
             ],
             [
              0.3333333333333333,
              "#9c179e"
             ],
             [
              0.4444444444444444,
              "#bd3786"
             ],
             [
              0.5555555555555556,
              "#d8576b"
             ],
             [
              0.6666666666666666,
              "#ed7953"
             ],
             [
              0.7777777777777778,
              "#fb9f3a"
             ],
             [
              0.8888888888888888,
              "#fdca26"
             ],
             [
              1,
              "#f0f921"
             ]
            ],
            "type": "contour"
           }
          ],
          "contourcarpet": [
           {
            "colorbar": {
             "outlinewidth": 0,
             "ticks": ""
            },
            "type": "contourcarpet"
           }
          ],
          "heatmap": [
           {
            "colorbar": {
             "outlinewidth": 0,
             "ticks": ""
            },
            "colorscale": [
             [
              0,
              "#0d0887"
             ],
             [
              0.1111111111111111,
              "#46039f"
             ],
             [
              0.2222222222222222,
              "#7201a8"
             ],
             [
              0.3333333333333333,
              "#9c179e"
             ],
             [
              0.4444444444444444,
              "#bd3786"
             ],
             [
              0.5555555555555556,
              "#d8576b"
             ],
             [
              0.6666666666666666,
              "#ed7953"
             ],
             [
              0.7777777777777778,
              "#fb9f3a"
             ],
             [
              0.8888888888888888,
              "#fdca26"
             ],
             [
              1,
              "#f0f921"
             ]
            ],
            "type": "heatmap"
           }
          ],
          "histogram": [
           {
            "marker": {
             "pattern": {
              "fillmode": "overlay",
              "size": 10,
              "solidity": 0.2
             }
            },
            "type": "histogram"
           }
          ],
          "histogram2d": [
           {
            "colorbar": {
             "outlinewidth": 0,
             "ticks": ""
            },
            "colorscale": [
             [
              0,
              "#0d0887"
             ],
             [
              0.1111111111111111,
              "#46039f"
             ],
             [
              0.2222222222222222,
              "#7201a8"
             ],
             [
              0.3333333333333333,
              "#9c179e"
             ],
             [
              0.4444444444444444,
              "#bd3786"
             ],
             [
              0.5555555555555556,
              "#d8576b"
             ],
             [
              0.6666666666666666,
              "#ed7953"
             ],
             [
              0.7777777777777778,
              "#fb9f3a"
             ],
             [
              0.8888888888888888,
              "#fdca26"
             ],
             [
              1,
              "#f0f921"
             ]
            ],
            "type": "histogram2d"
           }
          ],
          "histogram2dcontour": [
           {
            "colorbar": {
             "outlinewidth": 0,
             "ticks": ""
            },
            "colorscale": [
             [
              0,
              "#0d0887"
             ],
             [
              0.1111111111111111,
              "#46039f"
             ],
             [
              0.2222222222222222,
              "#7201a8"
             ],
             [
              0.3333333333333333,
              "#9c179e"
             ],
             [
              0.4444444444444444,
              "#bd3786"
             ],
             [
              0.5555555555555556,
              "#d8576b"
             ],
             [
              0.6666666666666666,
              "#ed7953"
             ],
             [
              0.7777777777777778,
              "#fb9f3a"
             ],
             [
              0.8888888888888888,
              "#fdca26"
             ],
             [
              1,
              "#f0f921"
             ]
            ],
            "type": "histogram2dcontour"
           }
          ],
          "mesh3d": [
           {
            "colorbar": {
             "outlinewidth": 0,
             "ticks": ""
            },
            "type": "mesh3d"
           }
          ],
          "parcoords": [
           {
            "line": {
             "colorbar": {
              "outlinewidth": 0,
              "ticks": ""
             }
            },
            "type": "parcoords"
           }
          ],
          "pie": [
           {
            "automargin": true,
            "type": "pie"
           }
          ],
          "scatter": [
           {
            "fillpattern": {
             "fillmode": "overlay",
             "size": 10,
             "solidity": 0.2
            },
            "type": "scatter"
           }
          ],
          "scatter3d": [
           {
            "line": {
             "colorbar": {
              "outlinewidth": 0,
              "ticks": ""
             }
            },
            "marker": {
             "colorbar": {
              "outlinewidth": 0,
              "ticks": ""
             }
            },
            "type": "scatter3d"
           }
          ],
          "scattercarpet": [
           {
            "marker": {
             "colorbar": {
              "outlinewidth": 0,
              "ticks": ""
             }
            },
            "type": "scattercarpet"
           }
          ],
          "scattergeo": [
           {
            "marker": {
             "colorbar": {
              "outlinewidth": 0,
              "ticks": ""
             }
            },
            "type": "scattergeo"
           }
          ],
          "scattergl": [
           {
            "marker": {
             "colorbar": {
              "outlinewidth": 0,
              "ticks": ""
             }
            },
            "type": "scattergl"
           }
          ],
          "scattermap": [
           {
            "marker": {
             "colorbar": {
              "outlinewidth": 0,
              "ticks": ""
             }
            },
            "type": "scattermap"
           }
          ],
          "scattermapbox": [
           {
            "marker": {
             "colorbar": {
              "outlinewidth": 0,
              "ticks": ""
             }
            },
            "type": "scattermapbox"
           }
          ],
          "scatterpolar": [
           {
            "marker": {
             "colorbar": {
              "outlinewidth": 0,
              "ticks": ""
             }
            },
            "type": "scatterpolar"
           }
          ],
          "scatterpolargl": [
           {
            "marker": {
             "colorbar": {
              "outlinewidth": 0,
              "ticks": ""
             }
            },
            "type": "scatterpolargl"
           }
          ],
          "scatterternary": [
           {
            "marker": {
             "colorbar": {
              "outlinewidth": 0,
              "ticks": ""
             }
            },
            "type": "scatterternary"
           }
          ],
          "surface": [
           {
            "colorbar": {
             "outlinewidth": 0,
             "ticks": ""
            },
            "colorscale": [
             [
              0,
              "#0d0887"
             ],
             [
              0.1111111111111111,
              "#46039f"
             ],
             [
              0.2222222222222222,
              "#7201a8"
             ],
             [
              0.3333333333333333,
              "#9c179e"
             ],
             [
              0.4444444444444444,
              "#bd3786"
             ],
             [
              0.5555555555555556,
              "#d8576b"
             ],
             [
              0.6666666666666666,
              "#ed7953"
             ],
             [
              0.7777777777777778,
              "#fb9f3a"
             ],
             [
              0.8888888888888888,
              "#fdca26"
             ],
             [
              1,
              "#f0f921"
             ]
            ],
            "type": "surface"
           }
          ],
          "table": [
           {
            "cells": {
             "fill": {
              "color": "#EBF0F8"
             },
             "line": {
              "color": "white"
             }
            },
            "header": {
             "fill": {
              "color": "#C8D4E3"
             },
             "line": {
              "color": "white"
             }
            },
            "type": "table"
           }
          ]
         },
         "layout": {
          "annotationdefaults": {
           "arrowcolor": "#2a3f5f",
           "arrowhead": 0,
           "arrowwidth": 1
          },
          "autotypenumbers": "strict",
          "coloraxis": {
           "colorbar": {
            "outlinewidth": 0,
            "ticks": ""
           }
          },
          "colorscale": {
           "diverging": [
            [
             0,
             "#8e0152"
            ],
            [
             0.1,
             "#c51b7d"
            ],
            [
             0.2,
             "#de77ae"
            ],
            [
             0.3,
             "#f1b6da"
            ],
            [
             0.4,
             "#fde0ef"
            ],
            [
             0.5,
             "#f7f7f7"
            ],
            [
             0.6,
             "#e6f5d0"
            ],
            [
             0.7,
             "#b8e186"
            ],
            [
             0.8,
             "#7fbc41"
            ],
            [
             0.9,
             "#4d9221"
            ],
            [
             1,
             "#276419"
            ]
           ],
           "sequential": [
            [
             0,
             "#0d0887"
            ],
            [
             0.1111111111111111,
             "#46039f"
            ],
            [
             0.2222222222222222,
             "#7201a8"
            ],
            [
             0.3333333333333333,
             "#9c179e"
            ],
            [
             0.4444444444444444,
             "#bd3786"
            ],
            [
             0.5555555555555556,
             "#d8576b"
            ],
            [
             0.6666666666666666,
             "#ed7953"
            ],
            [
             0.7777777777777778,
             "#fb9f3a"
            ],
            [
             0.8888888888888888,
             "#fdca26"
            ],
            [
             1,
             "#f0f921"
            ]
           ],
           "sequentialminus": [
            [
             0,
             "#0d0887"
            ],
            [
             0.1111111111111111,
             "#46039f"
            ],
            [
             0.2222222222222222,
             "#7201a8"
            ],
            [
             0.3333333333333333,
             "#9c179e"
            ],
            [
             0.4444444444444444,
             "#bd3786"
            ],
            [
             0.5555555555555556,
             "#d8576b"
            ],
            [
             0.6666666666666666,
             "#ed7953"
            ],
            [
             0.7777777777777778,
             "#fb9f3a"
            ],
            [
             0.8888888888888888,
             "#fdca26"
            ],
            [
             1,
             "#f0f921"
            ]
           ]
          },
          "colorway": [
           "#636efa",
           "#EF553B",
           "#00cc96",
           "#ab63fa",
           "#FFA15A",
           "#19d3f3",
           "#FF6692",
           "#B6E880",
           "#FF97FF",
           "#FECB52"
          ],
          "font": {
           "color": "#2a3f5f"
          },
          "geo": {
           "bgcolor": "white",
           "lakecolor": "white",
           "landcolor": "#E5ECF6",
           "showlakes": true,
           "showland": true,
           "subunitcolor": "white"
          },
          "hoverlabel": {
           "align": "left"
          },
          "hovermode": "closest",
          "mapbox": {
           "style": "light"
          },
          "paper_bgcolor": "white",
          "plot_bgcolor": "#E5ECF6",
          "polar": {
           "angularaxis": {
            "gridcolor": "white",
            "linecolor": "white",
            "ticks": ""
           },
           "bgcolor": "#E5ECF6",
           "radialaxis": {
            "gridcolor": "white",
            "linecolor": "white",
            "ticks": ""
           }
          },
          "scene": {
           "xaxis": {
            "backgroundcolor": "#E5ECF6",
            "gridcolor": "white",
            "gridwidth": 2,
            "linecolor": "white",
            "showbackground": true,
            "ticks": "",
            "zerolinecolor": "white"
           },
           "yaxis": {
            "backgroundcolor": "#E5ECF6",
            "gridcolor": "white",
            "gridwidth": 2,
            "linecolor": "white",
            "showbackground": true,
            "ticks": "",
            "zerolinecolor": "white"
           },
           "zaxis": {
            "backgroundcolor": "#E5ECF6",
            "gridcolor": "white",
            "gridwidth": 2,
            "linecolor": "white",
            "showbackground": true,
            "ticks": "",
            "zerolinecolor": "white"
           }
          },
          "shapedefaults": {
           "line": {
            "color": "#2a3f5f"
           }
          },
          "ternary": {
           "aaxis": {
            "gridcolor": "white",
            "linecolor": "white",
            "ticks": ""
           },
           "baxis": {
            "gridcolor": "white",
            "linecolor": "white",
            "ticks": ""
           },
           "bgcolor": "#E5ECF6",
           "caxis": {
            "gridcolor": "white",
            "linecolor": "white",
            "ticks": ""
           }
          },
          "title": {
           "x": 0.05
          },
          "xaxis": {
           "automargin": true,
           "gridcolor": "white",
           "linecolor": "white",
           "ticks": "",
           "title": {
            "standoff": 15
           },
           "zerolinecolor": "white",
           "zerolinewidth": 2
          },
          "yaxis": {
           "automargin": true,
           "gridcolor": "white",
           "linecolor": "white",
           "ticks": "",
           "title": {
            "standoff": 15
           },
           "zerolinecolor": "white",
           "zerolinewidth": 2
          }
         }
        },
        "title": {
         "text": "Age vs Fare by Survival"
        },
        "xaxis": {
         "anchor": "y",
         "domain": [
          0,
          1
         ],
         "title": {
          "text": "Age"
         }
        },
        "yaxis": {
         "anchor": "x",
         "domain": [
          0,
          1
         ],
         "title": {
          "text": "Fare"
         }
        }
       }
      }
     },
     "metadata": {},
     "output_type": "display_data"
    }
   ],
   "source": [
    "import plotly.express as px\n",
    "\n",
    "# 1. Survival rate by sex\n",
    "fig1 = px.histogram(\n",
    "    df, \n",
    "    x=\"Sex\", \n",
    "    color=\"Survived\", \n",
    "    barmode=\"group\",\n",
    "    title=\"Survival by Sex\"\n",
    ")\n",
    "fig1.show()\n",
    "\n",
    "# 2. Age distribution split by survival\n",
    "fig2 = px.histogram(\n",
    "    df, \n",
    "    x=\"Age\", \n",
    "    color=\"Survived\",\n",
    "    nbins=30,\n",
    "    opacity=0.7,\n",
    "    title=\"Age Distribution (Survivors vs Non-Survivors)\"\n",
    ")\n",
    "fig2.show()\n",
    "\n",
    "# 3. Survival by passenger class\n",
    "fig3 = px.histogram(\n",
    "    df, \n",
    "    x=\"Pclass\", \n",
    "    color=\"Survived\", \n",
    "    barmode=\"group\",\n",
    "    title=\"Survival by Passenger Class\"\n",
    ")\n",
    "fig3.show()\n",
    "\n",
    "# 4. Interactive scatterplot Age vs Fare\n",
    "fig4 = px.scatter(\n",
    "    df, \n",
    "    x=\"Age\", \n",
    "    y=\"Fare\", \n",
    "    color=\"Survived\",\n",
    "    symbol=\"Sex\",\n",
    "    hover_data=[\"Pclass\", \"Embarked\"],\n",
    "    title=\"Age vs Fare by Survival\"\n",
    ")\n",
    "fig4.show()"
   ]
  },
  {
   "cell_type": "markdown",
   "metadata": {
    "id": "Cc96MC9CpYkM"
   },
   "source": [
    "4. Next, let's continue the analysis by looking into pairwise and multivariate relationships between the variables in the two groups. Try to visualize two variables at a time using, e.g., scatter plots and use a different color to encode the survival status.\n",
    "\n",
    "    <span style=\"font-weight: 500\">*Hint 1: You can also check out Seaborn's pairplot function, if you wish.*</span>\n",
    "\n",
    "    <span style=\"font-weight: 500\">*Hint 2: To better show many data points with the same value for a given variable, you can use either transparency or ‘jitter’.*</span>"
   ]
  },
  {
   "cell_type": "code",
   "execution_count": null,
   "metadata": {},
   "outputs": [],
   "source": [
    "%pip install seaborn"
   ]
  },
  {
   "cell_type": "code",
   "execution_count": 24,
   "metadata": {
    "id": "fexBqTMQpYkM"
   },
   "outputs": [
    {
     "data": {
      "image/png": "[encoded data removed]",
      "text/plain": [
       "<Figure size 1572.11x1500 with 42 Axes>"
      ]
     },
     "metadata": {},
     "output_type": "display_data"
    }
   ],
   "source": [
    "# Make a copy to avoid modifying original df\n",
    "df_jitter = df.copy()\n",
    "\n",
    "# Add jitter to categorical numeric columns\n",
    "df_jitter[\"Pclass_jitter\"] = df_jitter[\"Pclass\"] + np.random.uniform(-0.2, 0.2, size=len(df_jitter))\n",
    "# If Deck is encoded numerically:\n",
    "# df_jitter[\"Deck_jitter\"] = df_jitter[\"Deck\"] + np.random.uniform(-0.2, 0.2, size=len(df_jitter))\n",
    "\n",
    "# Select numeric columns for pairplot (use jittered versions where appropriate)\n",
    "numeric_cols = [\"Age\", \"Fare\", \"SibSp\", \"Parch\", \"Pclass_jitter\"]  # add Deck_jitter if needed\n",
    "\n",
    "sns.pairplot(\n",
    "    df_jitter,\n",
    "    vars=df.select_dtypes(include=[\"int64\", \"float64\"]).columns,\n",
    "    hue=\"Survived\",\n",
    "    kind=\"scatter\",\n",
    "    diag_kind=\"hist\",\n",
    "    plot_kws={\"alpha\": 0.6}  # transparency\n",
    ")\n",
    "plt.suptitle(\"Pairwise relationships with jitter & transparency\", y=1.02)\n",
    "plt.show()"
   ]
  },
  {
   "cell_type": "markdown",
   "metadata": {
    "id": "pNOrCjKzpYkM"
   },
   "source": [
    "5. Finally, recall the preprocessing we did in the first exercise. What can you say about the effect of the choices that were made to use the mode and mean to impute missing values, instead of, for example, ignoring passengers with missing data?"
   ]
  },
  {
   "cell_type": "markdown",
   "metadata": {
    "id": "e8TeRhWapYkM"
   },
   "source": [
    "The age mean is at least on my end the same on survivors and nonsurvivors. I guess it makes sense to include all passengers with imputed modes and means but in the future I should probably somehow note in the visualizations whether a variable has been imputed or not. Definitely better than if we didn't include these missing data passengers at all."
   ]
  },
  {
   "cell_type": "markdown",
   "metadata": {
    "id": "IsrhB5wvpYkM"
   },
   "source": [
    "**Remember to submit your code on the MOOC platform. You can return this Jupyter notebook (.ipynb) or .py, .R, etc depending on your programming preferences.**"
   ]
  },
  {
   "cell_type": "markdown",
   "metadata": {
    "id": "HqgXjyklpYkM"
   },
   "source": [
    "## Exercise 3 | Working with text data 2.0\n",
    "\n",
    "This exercise is related to the second exercise from last week. Find the saved <span style=\"font-weight: 500\">pos.txt</span> and <span style=\"font-weight: 500\">neg.txt</span> files, or, alternatively, you can find the week 1 example solutions on the MOOC platform after Tuesday."
   ]
  },
  {
   "cell_type": "markdown",
   "metadata": {
    "id": "u-DfVlSWpYkM"
   },
   "source": [
    "1. Find the most common words in each file (positive and negative). Examine the results. Do they tend to be general terms relating to the nature of the data? How well do they indicate positive/negative sentiment?"
   ]
  },
  {
   "cell_type": "code",
   "execution_count": 25,
   "metadata": {
    "id": "GDsK6jXMpYkM"
   },
   "outputs": [
    {
     "name": "stdout",
     "output_type": "stream",
     "text": [
      "Top 20 positive words:\n",
      "[('great', 435906), ('work', 427780), ('use', 345233), ('good', 291448), ('fit', 273505), ('instal', 229408), ('product', 210084), ('look', 181401), ('just', 180420), ('like', 175725), ('easi', 162864), ('light', 147321), ('car', 147195), ('price', 144891), ('need', 136519), ('perfect', 124405), ('time', 123938), ('replac', 122261), ('qualiti', 119732), ('nice', 119314)]\n",
      "\n",
      "Top 20 negative words:\n",
      "[('work', 39998), ('use', 37244), ('fit', 31293), ('product', 24394), ('just', 23580), ('light', 22907), ('like', 20685), ('time', 19665), ('look', 18824), ('instal', 18709), ('did', 18446), ('good', 17295), ('dont', 17136), ('buy', 16885), ('car', 16694), ('return', 15227), ('tri', 14957), ('doe', 14201), ('replac', 13509), ('didnt', 13045)]\n"
     ]
    }
   ],
   "source": [
    "from collections import Counter\n",
    "import re\n",
    "\n",
    "# Load text files\n",
    "with open(\"pos.txt\", \"r\", encoding=\"utf-8\") as f:\n",
    "    pos_text = f.read()\n",
    "\n",
    "with open(\"neg.txt\", \"r\", encoding=\"utf-8\") as f:\n",
    "    neg_text = f.read()\n",
    "\n",
    "def tokenize(text):\n",
    "    # Lowercase, remove non-alphanumeric characters, split by whitespace\n",
    "    words = re.findall(r'\\b\\w+\\b', text.lower())\n",
    "    return words\n",
    "\n",
    "pos_words = tokenize(pos_text)\n",
    "neg_words = tokenize(neg_text)\n",
    "\n",
    "# Count occurrences\n",
    "pos_counter = Counter(pos_words)\n",
    "neg_counter = Counter(neg_words)\n",
    "\n",
    "# Most common words\n",
    "print(\"Top 20 positive words:\")\n",
    "print(pos_counter.most_common(20))\n",
    "\n",
    "print(\"\\nTop 20 negative words:\")\n",
    "print(neg_counter.most_common(20))"
   ]
  },
  {
   "cell_type": "markdown",
   "metadata": {
    "id": "LlU_trsrpYkM"
   },
   "source": [
    "2. Compute a [TF/IDF](https://en.wikipedia.org/wiki/Tf–idf) vector for each of the two text files, and make them into a <span style=\"font-weight: 500\">2 x m</span> matrix, where <span style=\"font-weight: 500\">m</span> is the number of unique words in the data. The problem with using the most common words in a review to analyze its contents is that words that are common overall will be common in all reviews (both positive and negative). This means that they probably are not good indicators about the sentiment of a specific review. TF/IDF stands for Term Frequency / Inverse Document Frequency (here the reviews are the documents), and is designed to help by taking into consideration not just the number of times a term occurs (term frequency), but also how many times a word exists in other reviews as well (inverse document frequency). You can use any variant of the formula, as well as off-the-shelf implementations. <span style=\"font-weight: 500\">*Hint: You can use [sklearn](http://scikit-learn.org/).*</span>"
   ]
  },
  {
   "cell_type": "code",
   "execution_count": 26,
   "metadata": {
    "id": "Tt_t-Lx8pYkM"
   },
   "outputs": [
    {
     "name": "stdout",
     "output_type": "stream",
     "text": [
      "Requirement already satisfied: scikit-learn in /home/taguchi/.local/share/pipx/venvs/jupyterlab/lib/python3.12/site-packages (1.7.1)\n",
      "Requirement already satisfied: numpy>=1.22.0 in /home/taguchi/.local/share/pipx/venvs/jupyterlab/lib/python3.12/site-packages (from scikit-learn) (2.3.2)\n",
      "Requirement already satisfied: scipy>=1.8.0 in /home/taguchi/.local/share/pipx/venvs/jupyterlab/lib/python3.12/site-packages (from scikit-learn) (1.16.1)\n",
      "Requirement already satisfied: joblib>=1.2.0 in /home/taguchi/.local/share/pipx/venvs/jupyterlab/lib/python3.12/site-packages (from scikit-learn) (1.5.2)\n",
      "Requirement already satisfied: threadpoolctl>=3.1.0 in /home/taguchi/.local/share/pipx/venvs/jupyterlab/lib/python3.12/site-packages (from scikit-learn) (3.6.0)\n",
      "Note: you may need to restart the kernel to use updated packages.\n"
     ]
    }
   ],
   "source": [
    "%pip install scikit-learn"
   ]
  },
  {
   "cell_type": "code",
   "execution_count": 37,
   "metadata": {},
   "outputs": [
    {
     "name": "stdout",
     "output_type": "stream",
     "text": [
      "TF/IDF matrix shape: (1608870, 235581)\n",
      "Number of unique words: 235581\n"
     ]
    }
   ],
   "source": [
    "from sklearn.feature_extraction.text import TfidfVectorizer\n",
    "\n",
    "# --- Read reviews ---\n",
    "with open(\"pos.txt\", \"r\", encoding=\"utf-8\") as f:\n",
    "    pos_reviews = f.read().splitlines()  # each line = one review\n",
    "\n",
    "with open(\"neg.txt\", \"r\", encoding=\"utf-8\") as f:\n",
    "    neg_reviews = f.read().splitlines()\n",
    "\n",
    "# --- Create corpus ---\n",
    "corpus = pos_reviews + neg_reviews\n",
    "\n",
    "# --- Create TF/IDF vectorizer ---\n",
    "vectorizer = TfidfVectorizer()  # optional: remove stopwords\n",
    "X = vectorizer.fit_transform(corpus)  # shape = (#reviews, #unique words)\n",
    "feature_names = vectorizer.get_feature_names_out()\n",
    "\n",
    "print(\"TF/IDF matrix shape:\", X.shape)\n",
    "print(\"Number of unique words:\", len(feature_names))"
   ]
  },
  {
   "cell_type": "markdown",
   "metadata": {
    "id": "5lsOuLeOpYkM"
   },
   "source": [
    "3. List the words with the highest TF/IDF score in each class (positive | negative), and compare them to the most common words. What do you notice? Did TF/IDF work as expected?"
   ]
  },
  {
   "cell_type": "code",
   "execution_count": 38,
   "metadata": {
    "id": "h1tkcbH5pYkM"
   },
   "outputs": [
    {
     "name": "stdout",
     "output_type": "stream",
     "text": [
      "Top 20 positive TF/IDF words:\n",
      "great 0.0672\n",
      "work 0.0587\n",
      "good 0.0502\n",
      "fit 0.0343\n",
      "product 0.0319\n",
      "perfect 0.0257\n",
      "use 0.0224\n",
      "price 0.0221\n",
      "instal 0.0219\n",
      "easi 0.0208\n",
      "look 0.0202\n",
      "nice 0.0199\n",
      "qualiti 0.0183\n",
      "like 0.0163\n",
      "just 0.0162\n",
      "light 0.0135\n",
      "need 0.0133\n",
      "excel 0.0130\n",
      "love 0.0126\n",
      "replac 0.0124\n",
      "\n",
      "Top 20 negative TF/IDF words:\n",
      "work 0.0287\n",
      "fit 0.0275\n",
      "did 0.0235\n",
      "return 0.0225\n",
      "use 0.0223\n",
      "didnt 0.0199\n",
      "light 0.0192\n",
      "dont 0.0177\n",
      "product 0.0170\n",
      "month 0.0161\n",
      "doe 0.0160\n",
      "buy 0.0160\n",
      "just 0.0152\n",
      "time 0.0147\n",
      "like 0.0146\n",
      "money 0.0145\n",
      "cheap 0.0139\n",
      "look 0.0138\n",
      "good 0.0135\n",
      "bulb 0.0130\n"
     ]
    }
   ],
   "source": [
    "import numpy as np\n",
    "\n",
    "# --- Create labels ---\n",
    "labels = [1]*len(pos_reviews) + [0]*len(neg_reviews)  # 1=positive, 0=negative\n",
    "\n",
    "# --- Separate indices per class ---\n",
    "pos_indices = np.where(np.array(labels) == 1)[0]\n",
    "neg_indices = np.where(np.array(labels) == 0)[0]\n",
    "\n",
    "# --- Compute average TF/IDF per word for each class ---\n",
    "pos_tfidf = X[pos_indices].mean(axis=0).A1\n",
    "neg_tfidf = X[neg_indices].mean(axis=0).A1\n",
    "\n",
    "# --- Get top 20 words per class ---\n",
    "top_pos_indices = pos_tfidf.argsort()[::-1][:20]\n",
    "top_neg_indices = neg_tfidf.argsort()[::-1][:20]\n",
    "\n",
    "# --- Print results ---\n",
    "print(\"Top 20 positive TF/IDF words:\")\n",
    "for i in top_pos_indices:\n",
    "    print(feature_names[i], f\"{pos_tfidf[i]:.4f}\")\n",
    "\n",
    "print(\"\\nTop 20 negative TF/IDF words:\")\n",
    "for i in top_neg_indices:\n",
    "    print(feature_names[i], f\"{neg_tfidf[i]:.4f}\")"
   ]
  },
  {
   "cell_type": "markdown",
   "metadata": {
    "id": "9z_vWhnXpYkM"
   },
   "source": [
    "4. Plot the words in each class with their corresponding TF/IDF scores. Note that there will be a lot of words, so you’ll have to think carefully to make your chart clear! If you can’t plot them all, plot a subset – think about how you should choose this subset.\n",
    "\n",
    "    <span style=\"font-weight: 500\">*Hint: you can use word clouds. But feel free to challenge yourselves to think of any other meaningful way to visualize this information!*</span>"
   ]
  },
  {
   "cell_type": "code",
   "execution_count": 40,
   "metadata": {},
   "outputs": [
    {
     "name": "stdout",
     "output_type": "stream",
     "text": [
      "Collecting wordcloud\n",
      "  Downloading wordcloud-1.9.4-cp312-cp312-manylinux_2_17_x86_64.manylinux2014_x86_64.whl.metadata (3.4 kB)\n",
      "Requirement already satisfied: numpy>=1.6.1 in /home/taguchi/.local/share/pipx/venvs/jupyterlab/lib/python3.12/site-packages (from wordcloud) (2.3.2)\n",
      "Requirement already satisfied: pillow in /home/taguchi/.local/share/pipx/venvs/jupyterlab/lib/python3.12/site-packages (from wordcloud) (11.3.0)\n",
      "Requirement already satisfied: matplotlib in /home/taguchi/.local/share/pipx/venvs/jupyterlab/lib/python3.12/site-packages (from wordcloud) (3.10.6)\n",
      "Requirement already satisfied: contourpy>=1.0.1 in /home/taguchi/.local/share/pipx/venvs/jupyterlab/lib/python3.12/site-packages (from matplotlib->wordcloud) (1.3.3)\n",
      "Requirement already satisfied: cycler>=0.10 in /home/taguchi/.local/share/pipx/venvs/jupyterlab/lib/python3.12/site-packages (from matplotlib->wordcloud) (0.12.1)\n",
      "Requirement already satisfied: fonttools>=4.22.0 in /home/taguchi/.local/share/pipx/venvs/jupyterlab/lib/python3.12/site-packages (from matplotlib->wordcloud) (4.59.2)\n",
      "Requirement already satisfied: kiwisolver>=1.3.1 in /home/taguchi/.local/share/pipx/venvs/jupyterlab/lib/python3.12/site-packages (from matplotlib->wordcloud) (1.4.9)\n",
      "Requirement already satisfied: packaging>=20.0 in /home/taguchi/.local/share/pipx/venvs/jupyterlab/lib/python3.12/site-packages (from matplotlib->wordcloud) (25.0)\n",
      "Requirement already satisfied: pyparsing>=2.3.1 in /home/taguchi/.local/share/pipx/venvs/jupyterlab/lib/python3.12/site-packages (from matplotlib->wordcloud) (3.2.4)\n",
      "Requirement already satisfied: python-dateutil>=2.7 in /home/taguchi/.local/share/pipx/venvs/jupyterlab/lib/python3.12/site-packages (from matplotlib->wordcloud) (2.9.0.post0)\n",
      "Requirement already satisfied: six>=1.5 in /home/taguchi/.local/share/pipx/venvs/jupyterlab/lib/python3.12/site-packages (from python-dateutil>=2.7->matplotlib->wordcloud) (1.17.0)\n",
      "Downloading wordcloud-1.9.4-cp312-cp312-manylinux_2_17_x86_64.manylinux2014_x86_64.whl (539 kB)\n",
      "\u001b[2K   \u001b[38;2;114;156;31m━━━━━━━━━━━━━━━━━━━━━━━━━━━━━━━━━━━━━━━━\u001b[0m \u001b[32m539.2/539.2 kB\u001b[0m \u001b[31m8.8 MB/s\u001b[0m  \u001b[33m0:00:00\u001b[0m\n",
      "\u001b[?25hInstalling collected packages: wordcloud\n",
      "Successfully installed wordcloud-1.9.4\n",
      "Note: you may need to restart the kernel to use updated packages.\n"
     ]
    }
   ],
   "source": [
    "%pip install wordcloud"
   ]
  },
  {
   "cell_type": "code",
   "execution_count": 41,
   "metadata": {
    "id": "5eUJ3HxlpYkN"
   },
   "outputs": [
    {
     "data": {
      "image/png": "[encoded data removed]",
      "text/plain": [
       "<Figure size 1600x800 with 2 Axes>"
      ]
     },
     "metadata": {},
     "output_type": "display_data"
    }
   ],
   "source": [
    "from wordcloud import WordCloud\n",
    "import matplotlib.pyplot as plt\n",
    "\n",
    "# --- Create dictionaries of words and TF/IDF scores ---\n",
    "top_pos_words = {feature_names[i]: pos_tfidf[i] for i in top_pos_indices}\n",
    "top_neg_words = {feature_names[i]: neg_tfidf[i] for i in top_neg_indices}\n",
    "\n",
    "# --- Generate word clouds ---\n",
    "pos_wc = WordCloud(width=800, height=400, background_color='white')\n",
    "neg_wc = WordCloud(width=800, height=400, background_color='white')\n",
    "\n",
    "pos_wc.generate_from_frequencies(top_pos_words)\n",
    "neg_wc.generate_from_frequencies(top_neg_words)\n",
    "\n",
    "# --- Plot ---\n",
    "plt.figure(figsize=(16, 8))\n",
    "\n",
    "plt.subplot(1, 2, 1)\n",
    "plt.imshow(pos_wc, interpolation='bilinear')\n",
    "plt.axis('off')\n",
    "plt.title('Top Positive Words (TF/IDF)', fontsize=16)\n",
    "\n",
    "plt.subplot(1, 2, 2)\n",
    "plt.imshow(neg_wc, interpolation='bilinear')\n",
    "plt.axis('off')\n",
    "plt.title('Top Negative Words (TF/IDF)', fontsize=16)\n",
    "\n",
    "plt.show()\n"
   ]
  },
  {
   "cell_type": "markdown",
   "metadata": {
    "id": "c8-yzV5HpYkN"
   },
   "source": [
    "**Remember to submit your code on the MOOC platform. You can return this Jupyter notebook (.ipynb) or .py, .R, etc depending on your programming preferences.**"
   ]
  },
  {
   "cell_type": "markdown",
   "metadata": {
    "id": "h_Xd1n98pYkQ"
   },
   "source": [
    "## Exercise 4 | Junk charts\n",
    "\n",
    "There’s a thriving community of chart enthusiasts who keep looking for statistical graphics that they find inappropriate, and which they call “junk charts”, and who often also propose ways to improve them."
   ]
  },
  {
   "cell_type": "markdown",
   "metadata": {
    "id": "w78AogNWpYkQ"
   },
   "source": [
    "1. Find at least three statistical visualizations you think are not very good and identify their problems. Copying examples from various junk chart websites is not accepted – you should find your own junk charts, out in the wild. You should be able to find good (or rather, bad) examples quite easily since a significant fraction of charts can have at least *some* issues. The examples you choose should also have different problems, e.g., try to avoid collecting three bar charts, all with problematic axes. Instead, try to find as interesting and diverse examples as you can."
   ]
  },
  {
   "cell_type": "markdown",
   "metadata": {
    "id": "VJfbaQH2pYkQ"
   },
   "source": [
    "2. Try to produce improved versions of the charts you selected. The data is of course often not available, but perhaps you can try to extract it, at least approximately, from the chart. Or perhaps you can simulate data that looks similar enough to make the point.\n",
    "\n"
   ]
  },
  {
   "cell_type": "markdown",
   "metadata": {
    "id": "p-rwa7IrpYkQ"
   },
   "source": [
    "**Submit a PDF with all the charts (the ones you found and the ones you produced).**"
   ]
  },
  {
   "cell_type": "markdown",
   "metadata": {},
   "source": [
    "1. ![image1](./week2image1.png)\n",
    "\n",
    "Ruvinskiy 2025. Heavy use of red and green (bad for color blind i think). To granular and detailed pillars in the primary image. One axis title is sideways and hard to read. Some axes are too small to read and too detailed yet small."
   ]
  },
  {
   "cell_type": "markdown",
   "metadata": {},
   "source": [
    "2. ![image2](week2image2.png)\n",
    "\n",
    "Ayanfe 2025. The colors of the balls are too similar so they blend in. One axis title is sideways."
   ]
  },
  {
   "cell_type": "markdown",
   "metadata": {},
   "source": [
    "3. ![image3](week2image3.png)\n",
    "\n",
    "Nikinmaa 2025. Almost all text are sideways and for some reason something about the color blue or the tight knit pillars make my eyes hurt just by watching."
   ]
  },
  {
   "cell_type": "markdown",
   "metadata": {},
   "source": [
    "Fixes: Use a palette for the color blind. For example use yellow and blue in the first example. For sideways, hard to read axis titles you can \"rotate\" them in plotly by hiding the axis title and replacing it with an annotation (example below). Might not be the most optimal solution but its more readable this way. The last probelmatic chart has x axis labels sideways. The code example using plotly at the end of this document shows you can just set them as x axis labels instead of putting them on top of the bars."
   ]
  },
  {
   "cell_type": "code",
   "execution_count": 50,
   "metadata": {},
   "outputs": [
    {
     "data": {
      "application/vnd.plotly.v1+json": {
       "config": {
        "plotlyServerURL": "https://plot.ly"
       },
       "data": [
        {
         "name": "yaxis data",
         "type": "scatter",
         "x": [
          1,
          2,
          3
         ],
         "xaxis": "x",
         "y": [
          40,
          50,
          60
         ],
         "yaxis": "y"
        },
        {
         "name": "yaxis2 data",
         "type": "scatter",
         "x": [
          2,
          3,
          4
         ],
         "xaxis": "x",
         "y": [
          4,
          5,
          6
         ],
         "yaxis": "y2"
        }
       ],
       "layout": {
        "annotations": [
         {
          "showarrow": false,
          "text": "<b>primary</b> yaxis title",
          "textangle": 0,
          "x": -0.1,
          "xref": "paper",
          "y": 0.5,
          "yref": "paper"
         },
         {
          "showarrow": false,
          "text": "<b>secondary</b> yaxis title",
          "textangle": 0,
          "x": 1.1,
          "xref": "paper",
          "y": 0.5,
          "yref": "paper"
         }
        ],
        "template": {
         "data": {
          "bar": [
           {
            "error_x": {
             "color": "#2a3f5f"
            },
            "error_y": {
             "color": "#2a3f5f"
            },
            "marker": {
             "line": {
              "color": "#E5ECF6",
              "width": 0.5
             },
             "pattern": {
              "fillmode": "overlay",
              "size": 10,
              "solidity": 0.2
             }
            },
            "type": "bar"
           }
          ],
          "barpolar": [
           {
            "marker": {
             "line": {
              "color": "#E5ECF6",
              "width": 0.5
             },
             "pattern": {
              "fillmode": "overlay",
              "size": 10,
              "solidity": 0.2
             }
            },
            "type": "barpolar"
           }
          ],
          "carpet": [
           {
            "aaxis": {
             "endlinecolor": "#2a3f5f",
             "gridcolor": "white",
             "linecolor": "white",
             "minorgridcolor": "white",
             "startlinecolor": "#2a3f5f"
            },
            "baxis": {
             "endlinecolor": "#2a3f5f",
             "gridcolor": "white",
             "linecolor": "white",
             "minorgridcolor": "white",
             "startlinecolor": "#2a3f5f"
            },
            "type": "carpet"
           }
          ],
          "choropleth": [
           {
            "colorbar": {
             "outlinewidth": 0,
             "ticks": ""
            },
            "type": "choropleth"
           }
          ],
          "contour": [
           {
            "colorbar": {
             "outlinewidth": 0,
             "ticks": ""
            },
            "colorscale": [
             [
              0,
              "#0d0887"
             ],
             [
              0.1111111111111111,
              "#46039f"
             ],
             [
              0.2222222222222222,
              "#7201a8"
             ],
             [
              0.3333333333333333,
              "#9c179e"
             ],
             [
              0.4444444444444444,
              "#bd3786"
             ],
             [
              0.5555555555555556,
              "#d8576b"
             ],
             [
              0.6666666666666666,
              "#ed7953"
             ],
             [
              0.7777777777777778,
              "#fb9f3a"
             ],
             [
              0.8888888888888888,
              "#fdca26"
             ],
             [
              1,
              "#f0f921"
             ]
            ],
            "type": "contour"
           }
          ],
          "contourcarpet": [
           {
            "colorbar": {
             "outlinewidth": 0,
             "ticks": ""
            },
            "type": "contourcarpet"
           }
          ],
          "heatmap": [
           {
            "colorbar": {
             "outlinewidth": 0,
             "ticks": ""
            },
            "colorscale": [
             [
              0,
              "#0d0887"
             ],
             [
              0.1111111111111111,
              "#46039f"
             ],
             [
              0.2222222222222222,
              "#7201a8"
             ],
             [
              0.3333333333333333,
              "#9c179e"
             ],
             [
              0.4444444444444444,
              "#bd3786"
             ],
             [
              0.5555555555555556,
              "#d8576b"
             ],
             [
              0.6666666666666666,
              "#ed7953"
             ],
             [
              0.7777777777777778,
              "#fb9f3a"
             ],
             [
              0.8888888888888888,
              "#fdca26"
             ],
             [
              1,
              "#f0f921"
             ]
            ],
            "type": "heatmap"
           }
          ],
          "histogram": [
           {
            "marker": {
             "pattern": {
              "fillmode": "overlay",
              "size": 10,
              "solidity": 0.2
             }
            },
            "type": "histogram"
           }
          ],
          "histogram2d": [
           {
            "colorbar": {
             "outlinewidth": 0,
             "ticks": ""
            },
            "colorscale": [
             [
              0,
              "#0d0887"
             ],
             [
              0.1111111111111111,
              "#46039f"
             ],
             [
              0.2222222222222222,
              "#7201a8"
             ],
             [
              0.3333333333333333,
              "#9c179e"
             ],
             [
              0.4444444444444444,
              "#bd3786"
             ],
             [
              0.5555555555555556,
              "#d8576b"
             ],
             [
              0.6666666666666666,
              "#ed7953"
             ],
             [
              0.7777777777777778,
              "#fb9f3a"
             ],
             [
              0.8888888888888888,
              "#fdca26"
             ],
             [
              1,
              "#f0f921"
             ]
            ],
            "type": "histogram2d"
           }
          ],
          "histogram2dcontour": [
           {
            "colorbar": {
             "outlinewidth": 0,
             "ticks": ""
            },
            "colorscale": [
             [
              0,
              "#0d0887"
             ],
             [
              0.1111111111111111,
              "#46039f"
             ],
             [
              0.2222222222222222,
              "#7201a8"
             ],
             [
              0.3333333333333333,
              "#9c179e"
             ],
             [
              0.4444444444444444,
              "#bd3786"
             ],
             [
              0.5555555555555556,
              "#d8576b"
             ],
             [
              0.6666666666666666,
              "#ed7953"
             ],
             [
              0.7777777777777778,
              "#fb9f3a"
             ],
             [
              0.8888888888888888,
              "#fdca26"
             ],
             [
              1,
              "#f0f921"
             ]
            ],
            "type": "histogram2dcontour"
           }
          ],
          "mesh3d": [
           {
            "colorbar": {
             "outlinewidth": 0,
             "ticks": ""
            },
            "type": "mesh3d"
           }
          ],
          "parcoords": [
           {
            "line": {
             "colorbar": {
              "outlinewidth": 0,
              "ticks": ""
             }
            },
            "type": "parcoords"
           }
          ],
          "pie": [
           {
            "automargin": true,
            "type": "pie"
           }
          ],
          "scatter": [
           {
            "fillpattern": {
             "fillmode": "overlay",
             "size": 10,
             "solidity": 0.2
            },
            "type": "scatter"
           }
          ],
          "scatter3d": [
           {
            "line": {
             "colorbar": {
              "outlinewidth": 0,
              "ticks": ""
             }
            },
            "marker": {
             "colorbar": {
              "outlinewidth": 0,
              "ticks": ""
             }
            },
            "type": "scatter3d"
           }
          ],
          "scattercarpet": [
           {
            "marker": {
             "colorbar": {
              "outlinewidth": 0,
              "ticks": ""
             }
            },
            "type": "scattercarpet"
           }
          ],
          "scattergeo": [
           {
            "marker": {
             "colorbar": {
              "outlinewidth": 0,
              "ticks": ""
             }
            },
            "type": "scattergeo"
           }
          ],
          "scattergl": [
           {
            "marker": {
             "colorbar": {
              "outlinewidth": 0,
              "ticks": ""
             }
            },
            "type": "scattergl"
           }
          ],
          "scattermap": [
           {
            "marker": {
             "colorbar": {
              "outlinewidth": 0,
              "ticks": ""
             }
            },
            "type": "scattermap"
           }
          ],
          "scattermapbox": [
           {
            "marker": {
             "colorbar": {
              "outlinewidth": 0,
              "ticks": ""
             }
            },
            "type": "scattermapbox"
           }
          ],
          "scatterpolar": [
           {
            "marker": {
             "colorbar": {
              "outlinewidth": 0,
              "ticks": ""
             }
            },
            "type": "scatterpolar"
           }
          ],
          "scatterpolargl": [
           {
            "marker": {
             "colorbar": {
              "outlinewidth": 0,
              "ticks": ""
             }
            },
            "type": "scatterpolargl"
           }
          ],
          "scatterternary": [
           {
            "marker": {
             "colorbar": {
              "outlinewidth": 0,
              "ticks": ""
             }
            },
            "type": "scatterternary"
           }
          ],
          "surface": [
           {
            "colorbar": {
             "outlinewidth": 0,
             "ticks": ""
            },
            "colorscale": [
             [
              0,
              "#0d0887"
             ],
             [
              0.1111111111111111,
              "#46039f"
             ],
             [
              0.2222222222222222,
              "#7201a8"
             ],
             [
              0.3333333333333333,
              "#9c179e"
             ],
             [
              0.4444444444444444,
              "#bd3786"
             ],
             [
              0.5555555555555556,
              "#d8576b"
             ],
             [
              0.6666666666666666,
              "#ed7953"
             ],
             [
              0.7777777777777778,
              "#fb9f3a"
             ],
             [
              0.8888888888888888,
              "#fdca26"
             ],
             [
              1,
              "#f0f921"
             ]
            ],
            "type": "surface"
           }
          ],
          "table": [
           {
            "cells": {
             "fill": {
              "color": "#EBF0F8"
             },
             "line": {
              "color": "white"
             }
            },
            "header": {
             "fill": {
              "color": "#C8D4E3"
             },
             "line": {
              "color": "white"
             }
            },
            "type": "table"
           }
          ]
         },
         "layout": {
          "annotationdefaults": {
           "arrowcolor": "#2a3f5f",
           "arrowhead": 0,
           "arrowwidth": 1
          },
          "autotypenumbers": "strict",
          "coloraxis": {
           "colorbar": {
            "outlinewidth": 0,
            "ticks": ""
           }
          },
          "colorscale": {
           "diverging": [
            [
             0,
             "#8e0152"
            ],
            [
             0.1,
             "#c51b7d"
            ],
            [
             0.2,
             "#de77ae"
            ],
            [
             0.3,
             "#f1b6da"
            ],
            [
             0.4,
             "#fde0ef"
            ],
            [
             0.5,
             "#f7f7f7"
            ],
            [
             0.6,
             "#e6f5d0"
            ],
            [
             0.7,
             "#b8e186"
            ],
            [
             0.8,
             "#7fbc41"
            ],
            [
             0.9,
             "#4d9221"
            ],
            [
             1,
             "#276419"
            ]
           ],
           "sequential": [
            [
             0,
             "#0d0887"
            ],
            [
             0.1111111111111111,
             "#46039f"
            ],
            [
             0.2222222222222222,
             "#7201a8"
            ],
            [
             0.3333333333333333,
             "#9c179e"
            ],
            [
             0.4444444444444444,
             "#bd3786"
            ],
            [
             0.5555555555555556,
             "#d8576b"
            ],
            [
             0.6666666666666666,
             "#ed7953"
            ],
            [
             0.7777777777777778,
             "#fb9f3a"
            ],
            [
             0.8888888888888888,
             "#fdca26"
            ],
            [
             1,
             "#f0f921"
            ]
           ],
           "sequentialminus": [
            [
             0,
             "#0d0887"
            ],
            [
             0.1111111111111111,
             "#46039f"
            ],
            [
             0.2222222222222222,
             "#7201a8"
            ],
            [
             0.3333333333333333,
             "#9c179e"
            ],
            [
             0.4444444444444444,
             "#bd3786"
            ],
            [
             0.5555555555555556,
             "#d8576b"
            ],
            [
             0.6666666666666666,
             "#ed7953"
            ],
            [
             0.7777777777777778,
             "#fb9f3a"
            ],
            [
             0.8888888888888888,
             "#fdca26"
            ],
            [
             1,
             "#f0f921"
            ]
           ]
          },
          "colorway": [
           "#636efa",
           "#EF553B",
           "#00cc96",
           "#ab63fa",
           "#FFA15A",
           "#19d3f3",
           "#FF6692",
           "#B6E880",
           "#FF97FF",
           "#FECB52"
          ],
          "font": {
           "color": "#2a3f5f"
          },
          "geo": {
           "bgcolor": "white",
           "lakecolor": "white",
           "landcolor": "#E5ECF6",
           "showlakes": true,
           "showland": true,
           "subunitcolor": "white"
          },
          "hoverlabel": {
           "align": "left"
          },
          "hovermode": "closest",
          "mapbox": {
           "style": "light"
          },
          "paper_bgcolor": "white",
          "plot_bgcolor": "#E5ECF6",
          "polar": {
           "angularaxis": {
            "gridcolor": "white",
            "linecolor": "white",
            "ticks": ""
           },
           "bgcolor": "#E5ECF6",
           "radialaxis": {
            "gridcolor": "white",
            "linecolor": "white",
            "ticks": ""
           }
          },
          "scene": {
           "xaxis": {
            "backgroundcolor": "#E5ECF6",
            "gridcolor": "white",
            "gridwidth": 2,
            "linecolor": "white",
            "showbackground": true,
            "ticks": "",
            "zerolinecolor": "white"
           },
           "yaxis": {
            "backgroundcolor": "#E5ECF6",
            "gridcolor": "white",
            "gridwidth": 2,
            "linecolor": "white",
            "showbackground": true,
            "ticks": "",
            "zerolinecolor": "white"
           },
           "zaxis": {
            "backgroundcolor": "#E5ECF6",
            "gridcolor": "white",
            "gridwidth": 2,
            "linecolor": "white",
            "showbackground": true,
            "ticks": "",
            "zerolinecolor": "white"
           }
          },
          "shapedefaults": {
           "line": {
            "color": "#2a3f5f"
           }
          },
          "ternary": {
           "aaxis": {
            "gridcolor": "white",
            "linecolor": "white",
            "ticks": ""
           },
           "baxis": {
            "gridcolor": "white",
            "linecolor": "white",
            "ticks": ""
           },
           "bgcolor": "#E5ECF6",
           "caxis": {
            "gridcolor": "white",
            "linecolor": "white",
            "ticks": ""
           }
          },
          "title": {
           "x": 0.05
          },
          "xaxis": {
           "automargin": true,
           "gridcolor": "white",
           "linecolor": "white",
           "ticks": "",
           "title": {
            "standoff": 15
           },
           "zerolinecolor": "white",
           "zerolinewidth": 2
          },
          "yaxis": {
           "automargin": true,
           "gridcolor": "white",
           "linecolor": "white",
           "ticks": "",
           "title": {
            "standoff": 15
           },
           "zerolinecolor": "white",
           "zerolinewidth": 2
          }
         }
        },
        "title": {
         "text": "Double Y Axis Example"
        },
        "xaxis": {
         "anchor": "y",
         "domain": [
          0,
          0.94
         ],
         "title": {
          "text": "xaxis title"
         }
        },
        "yaxis": {
         "anchor": "x",
         "domain": [
          0,
          1
         ],
         "title": {
          "text": ""
         }
        },
        "yaxis2": {
         "anchor": "x",
         "overlaying": "y",
         "side": "right",
         "title": {
          "text": ""
         }
        }
       }
      },
      "image/png": "[encoded data removed]"
     },
     "metadata": {},
     "output_type": "display_data"
    }
   ],
   "source": [
    "import plotly.graph_objects as go\n",
    "from plotly.subplots import make_subplots\n",
    "\n",
    "# Create figure with secondary y-axis\n",
    "fig = make_subplots(specs=[[{\"secondary_y\": True}]])\n",
    "\n",
    "# Add traces\n",
    "fig.add_trace(\n",
    "    go.Scatter(x=[1, 2, 3], y=[40, 50, 60], name=\"yaxis data\"),\n",
    "    secondary_y=False,\n",
    ")\n",
    "\n",
    "fig.add_trace(\n",
    "    go.Scatter(x=[2, 3, 4], y=[4, 5, 6], name=\"yaxis2 data\"),\n",
    "    secondary_y=True,\n",
    ")\n",
    "\n",
    "# Add figure title\n",
    "fig.update_layout(title_text=\"Double Y Axis Example\")\n",
    "\n",
    "# Set x-axis title\n",
    "fig.update_xaxes(title_text=\"xaxis title\")\n",
    "\n",
    "# Hide default y-axis titles\n",
    "fig.update_yaxes(title_text=\"\", secondary_y=False)\n",
    "fig.update_yaxes(title_text=\"\", secondary_y=True)\n",
    "\n",
    "# Primary y-axis title (horizontal)\n",
    "fig.add_annotation(\n",
    "    x=-0.1,    # left of the plot\n",
    "    y=0.5,     # middle of y-axis\n",
    "    text=\"<b>primary</b> yaxis title\",\n",
    "    showarrow=False,\n",
    "    xref=\"paper\",\n",
    "    yref=\"paper\",\n",
    "    textangle=0\n",
    ")\n",
    "\n",
    "# Secondary y-axis title (horizontal, flipped)\n",
    "fig.add_annotation(\n",
    "    x=1.1,     # right of the plot\n",
    "    y=0.5,\n",
    "    text=\"<b>secondary</b> yaxis title\",\n",
    "    showarrow=False,\n",
    "    xref=\"paper\",\n",
    "    yref=\"paper\",\n",
    "    textangle=0\n",
    ")\n",
    "\n",
    "fig.show()\n"
   ]
  },
  {
   "cell_type": "code",
   "execution_count": 51,
   "metadata": {},
   "outputs": [
    {
     "data": {
      "application/vnd.plotly.v1+json": {
       "config": {
        "plotlyServerURL": "https://plot.ly"
       },
       "data": [
        {
         "hovertemplate": "variable=gold<br>nation=%{x}<br>value=%{y}<extra></extra>",
         "legendgroup": "gold",
         "marker": {
          "color": "#636efa",
          "pattern": {
           "shape": ""
          }
         },
         "name": "gold",
         "orientation": "v",
         "showlegend": true,
         "textposition": "auto",
         "type": "bar",
         "x": [
          "South Korea",
          "China",
          "Canada"
         ],
         "xaxis": "x",
         "y": {
          "bdata": "GAoJ",
          "dtype": "i1"
         },
         "yaxis": "y"
        },
        {
         "hovertemplate": "variable=silver<br>nation=%{x}<br>value=%{y}<extra></extra>",
         "legendgroup": "silver",
         "marker": {
          "color": "#EF553B",
          "pattern": {
           "shape": ""
          }
         },
         "name": "silver",
         "orientation": "v",
         "showlegend": true,
         "textposition": "auto",
         "type": "bar",
         "x": [
          "South Korea",
          "China",
          "Canada"
         ],
         "xaxis": "x",
         "y": {
          "bdata": "DQ8M",
          "dtype": "i1"
         },
         "yaxis": "y"
        },
        {
         "hovertemplate": "variable=bronze<br>nation=%{x}<br>value=%{y}<extra></extra>",
         "legendgroup": "bronze",
         "marker": {
          "color": "#00cc96",
          "pattern": {
           "shape": ""
          }
         },
         "name": "bronze",
         "orientation": "v",
         "showlegend": true,
         "textposition": "auto",
         "type": "bar",
         "x": [
          "South Korea",
          "China",
          "Canada"
         ],
         "xaxis": "x",
         "y": {
          "bdata": "CwgM",
          "dtype": "i1"
         },
         "yaxis": "y"
        }
       ],
       "layout": {
        "barmode": "relative",
        "legend": {
         "title": {
          "text": "variable"
         },
         "tracegroupgap": 0
        },
        "template": {
         "data": {
          "bar": [
           {
            "error_x": {
             "color": "#2a3f5f"
            },
            "error_y": {
             "color": "#2a3f5f"
            },
            "marker": {
             "line": {
              "color": "#E5ECF6",
              "width": 0.5
             },
             "pattern": {
              "fillmode": "overlay",
              "size": 10,
              "solidity": 0.2
             }
            },
            "type": "bar"
           }
          ],
          "barpolar": [
           {
            "marker": {
             "line": {
              "color": "#E5ECF6",
              "width": 0.5
             },
             "pattern": {
              "fillmode": "overlay",
              "size": 10,
              "solidity": 0.2
             }
            },
            "type": "barpolar"
           }
          ],
          "carpet": [
           {
            "aaxis": {
             "endlinecolor": "#2a3f5f",
             "gridcolor": "white",
             "linecolor": "white",
             "minorgridcolor": "white",
             "startlinecolor": "#2a3f5f"
            },
            "baxis": {
             "endlinecolor": "#2a3f5f",
             "gridcolor": "white",
             "linecolor": "white",
             "minorgridcolor": "white",
             "startlinecolor": "#2a3f5f"
            },
            "type": "carpet"
           }
          ],
          "choropleth": [
           {
            "colorbar": {
             "outlinewidth": 0,
             "ticks": ""
            },
            "type": "choropleth"
           }
          ],
          "contour": [
           {
            "colorbar": {
             "outlinewidth": 0,
             "ticks": ""
            },
            "colorscale": [
             [
              0,
              "#0d0887"
             ],
             [
              0.1111111111111111,
              "#46039f"
             ],
             [
              0.2222222222222222,
              "#7201a8"
             ],
             [
              0.3333333333333333,
              "#9c179e"
             ],
             [
              0.4444444444444444,
              "#bd3786"
             ],
             [
              0.5555555555555556,
              "#d8576b"
             ],
             [
              0.6666666666666666,
              "#ed7953"
             ],
             [
              0.7777777777777778,
              "#fb9f3a"
             ],
             [
              0.8888888888888888,
              "#fdca26"
             ],
             [
              1,
              "#f0f921"
             ]
            ],
            "type": "contour"
           }
          ],
          "contourcarpet": [
           {
            "colorbar": {
             "outlinewidth": 0,
             "ticks": ""
            },
            "type": "contourcarpet"
           }
          ],
          "heatmap": [
           {
            "colorbar": {
             "outlinewidth": 0,
             "ticks": ""
            },
            "colorscale": [
             [
              0,
              "#0d0887"
             ],
             [
              0.1111111111111111,
              "#46039f"
             ],
             [
              0.2222222222222222,
              "#7201a8"
             ],
             [
              0.3333333333333333,
              "#9c179e"
             ],
             [
              0.4444444444444444,
              "#bd3786"
             ],
             [
              0.5555555555555556,
              "#d8576b"
             ],
             [
              0.6666666666666666,
              "#ed7953"
             ],
             [
              0.7777777777777778,
              "#fb9f3a"
             ],
             [
              0.8888888888888888,
              "#fdca26"
             ],
             [
              1,
              "#f0f921"
             ]
            ],
            "type": "heatmap"
           }
          ],
          "histogram": [
           {
            "marker": {
             "pattern": {
              "fillmode": "overlay",
              "size": 10,
              "solidity": 0.2
             }
            },
            "type": "histogram"
           }
          ],
          "histogram2d": [
           {
            "colorbar": {
             "outlinewidth": 0,
             "ticks": ""
            },
            "colorscale": [
             [
              0,
              "#0d0887"
             ],
             [
              0.1111111111111111,
              "#46039f"
             ],
             [
              0.2222222222222222,
              "#7201a8"
             ],
             [
              0.3333333333333333,
              "#9c179e"
             ],
             [
              0.4444444444444444,
              "#bd3786"
             ],
             [
              0.5555555555555556,
              "#d8576b"
             ],
             [
              0.6666666666666666,
              "#ed7953"
             ],
             [
              0.7777777777777778,
              "#fb9f3a"
             ],
             [
              0.8888888888888888,
              "#fdca26"
             ],
             [
              1,
              "#f0f921"
             ]
            ],
            "type": "histogram2d"
           }
          ],
          "histogram2dcontour": [
           {
            "colorbar": {
             "outlinewidth": 0,
             "ticks": ""
            },
            "colorscale": [
             [
              0,
              "#0d0887"
             ],
             [
              0.1111111111111111,
              "#46039f"
             ],
             [
              0.2222222222222222,
              "#7201a8"
             ],
             [
              0.3333333333333333,
              "#9c179e"
             ],
             [
              0.4444444444444444,
              "#bd3786"
             ],
             [
              0.5555555555555556,
              "#d8576b"
             ],
             [
              0.6666666666666666,
              "#ed7953"
             ],
             [
              0.7777777777777778,
              "#fb9f3a"
             ],
             [
              0.8888888888888888,
              "#fdca26"
             ],
             [
              1,
              "#f0f921"
             ]
            ],
            "type": "histogram2dcontour"
           }
          ],
          "mesh3d": [
           {
            "colorbar": {
             "outlinewidth": 0,
             "ticks": ""
            },
            "type": "mesh3d"
           }
          ],
          "parcoords": [
           {
            "line": {
             "colorbar": {
              "outlinewidth": 0,
              "ticks": ""
             }
            },
            "type": "parcoords"
           }
          ],
          "pie": [
           {
            "automargin": true,
            "type": "pie"
           }
          ],
          "scatter": [
           {
            "fillpattern": {
             "fillmode": "overlay",
             "size": 10,
             "solidity": 0.2
            },
            "type": "scatter"
           }
          ],
          "scatter3d": [
           {
            "line": {
             "colorbar": {
              "outlinewidth": 0,
              "ticks": ""
             }
            },
            "marker": {
             "colorbar": {
              "outlinewidth": 0,
              "ticks": ""
             }
            },
            "type": "scatter3d"
           }
          ],
          "scattercarpet": [
           {
            "marker": {
             "colorbar": {
              "outlinewidth": 0,
              "ticks": ""
             }
            },
            "type": "scattercarpet"
           }
          ],
          "scattergeo": [
           {
            "marker": {
             "colorbar": {
              "outlinewidth": 0,
              "ticks": ""
             }
            },
            "type": "scattergeo"
           }
          ],
          "scattergl": [
           {
            "marker": {
             "colorbar": {
              "outlinewidth": 0,
              "ticks": ""
             }
            },
            "type": "scattergl"
           }
          ],
          "scattermap": [
           {
            "marker": {
             "colorbar": {
              "outlinewidth": 0,
              "ticks": ""
             }
            },
            "type": "scattermap"
           }
          ],
          "scattermapbox": [
           {
            "marker": {
             "colorbar": {
              "outlinewidth": 0,
              "ticks": ""
             }
            },
            "type": "scattermapbox"
           }
          ],
          "scatterpolar": [
           {
            "marker": {
             "colorbar": {
              "outlinewidth": 0,
              "ticks": ""
             }
            },
            "type": "scatterpolar"
           }
          ],
          "scatterpolargl": [
           {
            "marker": {
             "colorbar": {
              "outlinewidth": 0,
              "ticks": ""
             }
            },
            "type": "scatterpolargl"
           }
          ],
          "scatterternary": [
           {
            "marker": {
             "colorbar": {
              "outlinewidth": 0,
              "ticks": ""
             }
            },
            "type": "scatterternary"
           }
          ],
          "surface": [
           {
            "colorbar": {
             "outlinewidth": 0,
             "ticks": ""
            },
            "colorscale": [
             [
              0,
              "#0d0887"
             ],
             [
              0.1111111111111111,
              "#46039f"
             ],
             [
              0.2222222222222222,
              "#7201a8"
             ],
             [
              0.3333333333333333,
              "#9c179e"
             ],
             [
              0.4444444444444444,
              "#bd3786"
             ],
             [
              0.5555555555555556,
              "#d8576b"
             ],
             [
              0.6666666666666666,
              "#ed7953"
             ],
             [
              0.7777777777777778,
              "#fb9f3a"
             ],
             [
              0.8888888888888888,
              "#fdca26"
             ],
             [
              1,
              "#f0f921"
             ]
            ],
            "type": "surface"
           }
          ],
          "table": [
           {
            "cells": {
             "fill": {
              "color": "#EBF0F8"
             },
             "line": {
              "color": "white"
             }
            },
            "header": {
             "fill": {
              "color": "#C8D4E3"
             },
             "line": {
              "color": "white"
             }
            },
            "type": "table"
           }
          ]
         },
         "layout": {
          "annotationdefaults": {
           "arrowcolor": "#2a3f5f",
           "arrowhead": 0,
           "arrowwidth": 1
          },
          "autotypenumbers": "strict",
          "coloraxis": {
           "colorbar": {
            "outlinewidth": 0,
            "ticks": ""
           }
          },
          "colorscale": {
           "diverging": [
            [
             0,
             "#8e0152"
            ],
            [
             0.1,
             "#c51b7d"
            ],
            [
             0.2,
             "#de77ae"
            ],
            [
             0.3,
             "#f1b6da"
            ],
            [
             0.4,
             "#fde0ef"
            ],
            [
             0.5,
             "#f7f7f7"
            ],
            [
             0.6,
             "#e6f5d0"
            ],
            [
             0.7,
             "#b8e186"
            ],
            [
             0.8,
             "#7fbc41"
            ],
            [
             0.9,
             "#4d9221"
            ],
            [
             1,
             "#276419"
            ]
           ],
           "sequential": [
            [
             0,
             "#0d0887"
            ],
            [
             0.1111111111111111,
             "#46039f"
            ],
            [
             0.2222222222222222,
             "#7201a8"
            ],
            [
             0.3333333333333333,
             "#9c179e"
            ],
            [
             0.4444444444444444,
             "#bd3786"
            ],
            [
             0.5555555555555556,
             "#d8576b"
            ],
            [
             0.6666666666666666,
             "#ed7953"
            ],
            [
             0.7777777777777778,
             "#fb9f3a"
            ],
            [
             0.8888888888888888,
             "#fdca26"
            ],
            [
             1,
             "#f0f921"
            ]
           ],
           "sequentialminus": [
            [
             0,
             "#0d0887"
            ],
            [
             0.1111111111111111,
             "#46039f"
            ],
            [
             0.2222222222222222,
             "#7201a8"
            ],
            [
             0.3333333333333333,
             "#9c179e"
            ],
            [
             0.4444444444444444,
             "#bd3786"
            ],
            [
             0.5555555555555556,
             "#d8576b"
            ],
            [
             0.6666666666666666,
             "#ed7953"
            ],
            [
             0.7777777777777778,
             "#fb9f3a"
            ],
            [
             0.8888888888888888,
             "#fdca26"
            ],
            [
             1,
             "#f0f921"
            ]
           ]
          },
          "colorway": [
           "#636efa",
           "#EF553B",
           "#00cc96",
           "#ab63fa",
           "#FFA15A",
           "#19d3f3",
           "#FF6692",
           "#B6E880",
           "#FF97FF",
           "#FECB52"
          ],
          "font": {
           "color": "#2a3f5f"
          },
          "geo": {
           "bgcolor": "white",
           "lakecolor": "white",
           "landcolor": "#E5ECF6",
           "showlakes": true,
           "showland": true,
           "subunitcolor": "white"
          },
          "hoverlabel": {
           "align": "left"
          },
          "hovermode": "closest",
          "mapbox": {
           "style": "light"
          },
          "paper_bgcolor": "white",
          "plot_bgcolor": "#E5ECF6",
          "polar": {
           "angularaxis": {
            "gridcolor": "white",
            "linecolor": "white",
            "ticks": ""
           },
           "bgcolor": "#E5ECF6",
           "radialaxis": {
            "gridcolor": "white",
            "linecolor": "white",
            "ticks": ""
           }
          },
          "scene": {
           "xaxis": {
            "backgroundcolor": "#E5ECF6",
            "gridcolor": "white",
            "gridwidth": 2,
            "linecolor": "white",
            "showbackground": true,
            "ticks": "",
            "zerolinecolor": "white"
           },
           "yaxis": {
            "backgroundcolor": "#E5ECF6",
            "gridcolor": "white",
            "gridwidth": 2,
            "linecolor": "white",
            "showbackground": true,
            "ticks": "",
            "zerolinecolor": "white"
           },
           "zaxis": {
            "backgroundcolor": "#E5ECF6",
            "gridcolor": "white",
            "gridwidth": 2,
            "linecolor": "white",
            "showbackground": true,
            "ticks": "",
            "zerolinecolor": "white"
           }
          },
          "shapedefaults": {
           "line": {
            "color": "#2a3f5f"
           }
          },
          "ternary": {
           "aaxis": {
            "gridcolor": "white",
            "linecolor": "white",
            "ticks": ""
           },
           "baxis": {
            "gridcolor": "white",
            "linecolor": "white",
            "ticks": ""
           },
           "bgcolor": "#E5ECF6",
           "caxis": {
            "gridcolor": "white",
            "linecolor": "white",
            "ticks": ""
           }
          },
          "title": {
           "x": 0.05
          },
          "xaxis": {
           "automargin": true,
           "gridcolor": "white",
           "linecolor": "white",
           "ticks": "",
           "title": {
            "standoff": 15
           },
           "zerolinecolor": "white",
           "zerolinewidth": 2
          },
          "yaxis": {
           "automargin": true,
           "gridcolor": "white",
           "linecolor": "white",
           "ticks": "",
           "title": {
            "standoff": 15
           },
           "zerolinecolor": "white",
           "zerolinewidth": 2
          }
         }
        },
        "title": {
         "text": "Wide-Form Input"
        },
        "xaxis": {
         "anchor": "y",
         "domain": [
          0,
          1
         ],
         "title": {
          "text": "nation"
         }
        },
        "yaxis": {
         "anchor": "x",
         "domain": [
          0,
          1
         ],
         "title": {
          "text": "value"
         }
        }
       }
      },
      "image/png": "[encoded data removed]"
     },
     "metadata": {},
     "output_type": "display_data"
    }
   ],
   "source": [
    "import plotly.express as px\n",
    "\n",
    "wide_df = px.data.medals_wide()\n",
    "\n",
    "fig = px.bar(wide_df, x=\"nation\", y=[\"gold\", \"silver\", \"bronze\"], title=\"Wide-Form Input\")\n",
    "fig.show()"
   ]
  }
 ],
 "metadata": {
  "colab": {
   "provenance": []
  },
  "kernelspec": {
   "display_name": "Python 3 (ipykernel)",
   "language": "python",
   "name": "python3"
  },
  "language_info": {
   "codemirror_mode": {
    "name": "ipython",
    "version": 3
   },
   "file_extension": ".py",
   "mimetype": "text/x-python",
   "name": "python",
   "nbconvert_exporter": "python",
   "pygments_lexer": "ipython3",
   "version": "3.12.3"
  }
 },
 "nbformat": 4,
 "nbformat_minor": 4
}
