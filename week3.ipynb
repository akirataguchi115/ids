{
 "cells": [
  {
   "cell_type": "markdown",
   "metadata": {
    "id": "3vbzALNyvRq4"
   },
   "source": [
    "# Introduction to Data Science 2025\n",
    "\n",
    "# Week 3"
   ]
  },
  {
   "cell_type": "markdown",
   "metadata": {
    "id": "Gf5yrH3ivRq8"
   },
   "source": [
    "## Exercise 1 | Working with geospatial data (GIS)"
   ]
  },
  {
   "cell_type": "markdown",
   "metadata": {
    "id": "L8n5AKgIvRq8"
   },
   "source": [
    "To get at least a bit familiar with [GIS](https://en.wikipedia.org/wiki/Geographic_information_system) data and the concept of map projections, we’ll do a simple task of plotting two data sets that are given in different coordinate systems.\n",
    "\n",
    "1. Download the [world_m.zip](https://github.com/HY-TKTL/intro-to-data-science-2017/blob/master/world_m.zip) and [cities.zip](https://github.com/HY-TKTL/intro-to-data-science-2017/blob/master/cities.zip) files that each include a set of GIS files. Most notably, the <span style=\"font-weight: bold\">shp</span> files are [Shapefile-files](https://en.wikipedia.org/wiki/Shapefile) with coordinates (don’t look, it’s binary!). The <span style=\"font-weight: bold\">prj</span> files contain information (in plain text, so okay to look) about the coordinate systems. Open the files using your favorite programming environment and packages.  \n",
    "\n",
    "    <span style=\"font-weight: 500\"> *Hint: We warmly recommend [Geopandas](http://geopandas.org/) for pythonistas.*</span>"
   ]
  },
  {
   "cell_type": "code",
   "execution_count": null,
   "metadata": {
    "id": "eNBmwJWIvRq9"
   },
   "outputs": [],
   "source": [
    "%pip install geopandas geodatasets"
   ]
  },
  {
   "cell_type": "code",
   "execution_count": 8,
   "metadata": {},
   "outputs": [
    {
     "data": {
      "text/html": [
       "<div>\n",
       "<style scoped>\n",
       "    .dataframe tbody tr th:only-of-type {\n",
       "        vertical-align: middle;\n",
       "    }\n",
       "\n",
       "    .dataframe tbody tr th {\n",
       "        vertical-align: top;\n",
       "    }\n",
       "\n",
       "    .dataframe thead th {\n",
       "        text-align: right;\n",
       "    }\n",
       "</style>\n",
       "<table border=\"1\" class=\"dataframe\">\n",
       "  <thead>\n",
       "    <tr style=\"text-align: right;\">\n",
       "      <th></th>\n",
       "      <th>name</th>\n",
       "      <th>geometry</th>\n",
       "    </tr>\n",
       "  </thead>\n",
       "  <tbody>\n",
       "    <tr>\n",
       "      <th>0</th>\n",
       "      <td>Vatican City</td>\n",
       "      <td>POINT (12.45339 41.90328)</td>\n",
       "    </tr>\n",
       "    <tr>\n",
       "      <th>1</th>\n",
       "      <td>San Marino</td>\n",
       "      <td>POINT (12.44177 43.9361)</td>\n",
       "    </tr>\n",
       "    <tr>\n",
       "      <th>2</th>\n",
       "      <td>Vaduz</td>\n",
       "      <td>POINT (9.51667 47.13372)</td>\n",
       "    </tr>\n",
       "    <tr>\n",
       "      <th>3</th>\n",
       "      <td>Luxembourg</td>\n",
       "      <td>POINT (6.13 49.61166)</td>\n",
       "    </tr>\n",
       "    <tr>\n",
       "      <th>4</th>\n",
       "      <td>Palikir</td>\n",
       "      <td>POINT (158.14997 6.91664)</td>\n",
       "    </tr>\n",
       "    <tr>\n",
       "      <th>...</th>\n",
       "      <td>...</td>\n",
       "      <td>...</td>\n",
       "    </tr>\n",
       "    <tr>\n",
       "      <th>197</th>\n",
       "      <td>Cairo</td>\n",
       "      <td>POINT (31.24802 30.05191)</td>\n",
       "    </tr>\n",
       "    <tr>\n",
       "      <th>198</th>\n",
       "      <td>Tokyo</td>\n",
       "      <td>POINT (139.74946 35.68696)</td>\n",
       "    </tr>\n",
       "    <tr>\n",
       "      <th>199</th>\n",
       "      <td>Paris</td>\n",
       "      <td>POINT (2.33139 48.86864)</td>\n",
       "    </tr>\n",
       "    <tr>\n",
       "      <th>200</th>\n",
       "      <td>Santiago</td>\n",
       "      <td>POINT (-70.66899 -33.44807)</td>\n",
       "    </tr>\n",
       "    <tr>\n",
       "      <th>201</th>\n",
       "      <td>Singapore</td>\n",
       "      <td>POINT (103.85387 1.29498)</td>\n",
       "    </tr>\n",
       "  </tbody>\n",
       "</table>\n",
       "<p>202 rows × 2 columns</p>\n",
       "</div>"
      ],
      "text/plain": [
       "             name                     geometry\n",
       "0    Vatican City    POINT (12.45339 41.90328)\n",
       "1      San Marino     POINT (12.44177 43.9361)\n",
       "2           Vaduz     POINT (9.51667 47.13372)\n",
       "3      Luxembourg        POINT (6.13 49.61166)\n",
       "4         Palikir    POINT (158.14997 6.91664)\n",
       "..            ...                          ...\n",
       "197         Cairo    POINT (31.24802 30.05191)\n",
       "198         Tokyo   POINT (139.74946 35.68696)\n",
       "199         Paris     POINT (2.33139 48.86864)\n",
       "200      Santiago  POINT (-70.66899 -33.44807)\n",
       "201     Singapore    POINT (103.85387 1.29498)\n",
       "\n",
       "[202 rows x 2 columns]"
      ]
     },
     "execution_count": 8,
     "metadata": {},
     "output_type": "execute_result"
    }
   ],
   "source": [
    "import geopandas\n",
    "\n",
    "gdf = geopandas.read_file(\"cities\")\n",
    "gdf"
   ]
  },
  {
   "cell_type": "markdown",
   "metadata": {
    "id": "SDVMTE5OvRq9"
   },
   "source": [
    "2. The <span style=\"font-weight: bold\">world_m</span> file contains borders of almost all countries in the world. Plot the world."
   ]
  },
  {
   "cell_type": "code",
   "execution_count": null,
   "metadata": {
    "id": "6InHn-CBvRq-"
   },
   "outputs": [],
   "source": [
    "# Use this cell for your code"
   ]
  },
  {
   "cell_type": "markdown",
   "metadata": {
    "id": "aelVUwlhvRq-"
   },
   "source": [
    "3. On top of the countries that you just plotted, plot another layer of information, namely the capital cities of each country from the <span style=\"font-weight: bold\">cities</span> dataset. However, depending on how clever your programming environment is, the cities will probably all appear to be in the Gulf of Guinea, near the coordinates (0°, 0°)."
   ]
  },
  {
   "cell_type": "code",
   "execution_count": null,
   "metadata": {
    "id": "AvfOO_ikvRq-"
   },
   "outputs": [],
   "source": [
    "# Use this cell for your code"
   ]
  },
  {
   "cell_type": "markdown",
   "metadata": {
    "id": "lFGsoGT4vRq_"
   },
   "source": [
    "4. Perform a map projection to bring the two data-sets into a shared coordinate system. (You can choose which one.) Now plot the two layers together to make sure the capital cities are where they are supposed to be."
   ]
  },
  {
   "cell_type": "code",
   "execution_count": null,
   "metadata": {
    "id": "KyT4S1dAvRq_"
   },
   "outputs": [],
   "source": [
    "# Use this cell for your code"
   ]
  },
  {
   "cell_type": "markdown",
   "metadata": {
    "id": "-6xpgZlYvRq_"
   },
   "source": [
    "**Remember to submit your code on the MOOC platform. You can return this Jupyter notebook (.ipynb) or .py, .R, etc depending on your programming preferences.**"
   ]
  },
  {
   "cell_type": "markdown",
   "metadata": {
    "id": "szhdrpLKvRq_"
   },
   "source": [
    "## Exercise 2 | Symbol classification\n",
    "\n",
    "We’ll be looking into machine learning by checking out the [HASYv2](https://zenodo.org/record/259444#.Wb7efZ8xDhZ) dataset that contains hand written mathematical symbols as images. The whole dataset is quite big, so we’ll restrict ourselves to doing 10-class classification on some of the symbols. Download the data and complete the following tasks."
   ]
  },
  {
   "cell_type": "markdown",
   "metadata": {
    "id": "d0QQVXIPvRq_"
   },
   "source": [
    "1. Extract the data and find inside a file called <span style=\"font-weight: bold\">hasy-data-labels.csv</span>. This file contains the labels for each of the images in the <span style=\"font-weight: bold\">hasy_data</span> folder. Read the labels in and only keep the rows where the <span style=\"font-weight: bold\">symbol_id</span> is within the inclusive range <span style=\"font-weight: bold\">[70, 79]</span>. Read the corresponding images as black-and-white images and flatten them so that each image is a single vector of shape <span style=\"font-weight: bold\">32x32 = 1024</span>. Your dataset should now consist of your input data of shape <span style=\"font-weight: bold\">(1020, 1024)</span> and your labels of shape <span style=\"font-weight: bold\">(1020, )</span>. That is, a matrix of shape <span style=\"font-weight: bold\">1020 x 1024</span> and a vector of size <span style=\"font-weight: bold\">1020</span>."
   ]
  },
  {
   "cell_type": "code",
   "execution_count": null,
   "metadata": {
    "id": "QQkiE2ecvRq_"
   },
   "outputs": [],
   "source": [
    "# Use this cell for your code"
   ]
  },
  {
   "cell_type": "markdown",
   "metadata": {
    "id": "5sZQ5m5lvRrA"
   },
   "source": [
    "2. Randomly shuffle the data, and then split it into training and test sets, using the first 80% of the data for training and the rest for evaluation."
   ]
  },
  {
   "cell_type": "code",
   "execution_count": null,
   "metadata": {
    "id": "XJ7yRem-vRrA"
   },
   "outputs": [],
   "source": [
    "# Use this cell for your code"
   ]
  },
  {
   "cell_type": "markdown",
   "metadata": {
    "id": "iu7qCqqpvRrA"
   },
   "source": [
    "3. Fit a logistic regression classifier on the data. Note that we have a multi-class classification problem, but logistic regression is a binary classifier. For this reason, you will find useful <span style=\"font-weight: bold\">[Sklearn's \"multi_class\" attribute](https://scikit-learn.org/stable/modules/generated/sklearn.linear_model.LogisticRegression.html)</span>. Use a multinomial loss and the softmax function to predict the probability of each class as the outcome.  The classifier should select the class with the highest probability. Most library implementations will do this for you - feel free to use one."
   ]
  },
  {
   "cell_type": "code",
   "execution_count": null,
   "metadata": {
    "id": "IalbaG5JvRrA"
   },
   "outputs": [],
   "source": [
    "# Use this cell for your code"
   ]
  },
  {
   "cell_type": "markdown",
   "metadata": {
    "id": "8YSdkvVqvRrA"
   },
   "source": [
    "4. In order to evaluate the model, let’s create our own dummy classifier that simply guesses the most common class in the training set (looking at the test set here would be cheating!). Then, evaluate your logistic regression model on the test data, and compare it to the majority class classifier. The logistic regression model should have significantly better accuracy as the dummy model is merely making a guess.\n",
    "\n",
    "    <span style=\"font-weight: 500\"> *Hint: Sklearn's DummyClassifier( ) might save you a bit of time.*</span>"
   ]
  },
  {
   "cell_type": "code",
   "execution_count": null,
   "metadata": {
    "id": "3T-_cfYIvRrA"
   },
   "outputs": [],
   "source": [
    "# Use this cell for your code"
   ]
  },
  {
   "cell_type": "markdown",
   "metadata": {
    "id": "59WsDIEZvRrA"
   },
   "source": [
    "5. Plot some of the images that the logistic classifier misclassified. Can you think of an explanation why they were misclassified? Would you have gotten them right?\n",
    "    \n",
    "    <span style=\"font-weight: 500\">*Hint: Matplotlib has a [function](https://matplotlib.org/stable/api/_as_gen/matplotlib.pyplot.imshow.html) that can help you with plotting.*</span>"
   ]
  },
  {
   "cell_type": "markdown",
   "metadata": {
    "id": "6QK_c3BtvRrA"
   },
   "source": [
    "Here are some examples of the syntax used to fit a logistic regression classifier (using Sklearn or statsmodel with Python, or GLM with R):"
   ]
  },
  {
   "cell_type": "code",
   "execution_count": null,
   "metadata": {
    "id": "5j6uqp_xvRrA"
   },
   "outputs": [],
   "source": [
    "#Sklearn (python)\n",
    "\n",
    "#from sklearn.linear_model import LogisticRegression\n",
    "\n",
    "#Fit on the training data set, with:\n",
    "#X : {array-like, sparse matrix}, shape (n_samples, n_features) , n_samples rows x n_features columns\n",
    "#with attributes that describe each sample.\n",
    "#y : array-like, shape (n_samples,) , n_samples target values for each sample.\n",
    "\n",
    "#model = LogisticRegression()\n",
    "#model.fit(X, y)"
   ]
  },
  {
   "cell_type": "code",
   "execution_count": null,
   "metadata": {
    "id": "W2bLFxM5vRrB"
   },
   "outputs": [],
   "source": [
    "#Statsmodels (python)\n",
    "\n",
    "#import statsmodels.api as sm\n",
    "#model = sm.Logit(y, X)"
   ]
  },
  {
   "cell_type": "code",
   "execution_count": null,
   "metadata": {
    "id": "bAguOrDzvRrB"
   },
   "outputs": [],
   "source": [
    "#GLM (R)\n",
    "\n",
    "#model <- glm(y ~.,family=binomial(link='logit'), data=X)"
   ]
  },
  {
   "cell_type": "code",
   "execution_count": null,
   "metadata": {
    "id": "oJuyAVmtvRrB"
   },
   "outputs": [],
   "source": [
    "# Use this cell for your code"
   ]
  },
  {
   "cell_type": "markdown",
   "metadata": {
    "id": "_-I7ERLhvRrB"
   },
   "source": [
    "**Remember to submit your code on the MOOC platform. You can return this Jupyter notebook (.ipynb) or .py, .R, etc depending on your programming preferences.**"
   ]
  }
 ],
 "metadata": {
  "colab": {
   "provenance": []
  },
  "kernelspec": {
   "display_name": "Python 3 (ipykernel)",
   "language": "python",
   "name": "python3"
  },
  "language_info": {
   "codemirror_mode": {
    "name": "ipython",
    "version": 3
   },
   "file_extension": ".py",
   "mimetype": "text/x-python",
   "name": "python",
   "nbconvert_exporter": "python",
   "pygments_lexer": "ipython3",
   "version": "3.12.3"
  }
 },
 "nbformat": 4,
 "nbformat_minor": 4
}
