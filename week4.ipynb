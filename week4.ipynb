{
 "cells": [
  {
   "cell_type": "markdown",
   "metadata": {},
   "source": [
    "# Introduction to Data Science 2025\n",
    "\n",
    "# Week 4"
   ]
  },
  {
   "cell_type": "markdown",
   "metadata": {},
   "source": [
    "In this week's exercise, we look at prompting and zero- and few-shot task settings. Below is a text generation example from https://github.com/TurkuNLP/intro-to-nlp/blob/master/text_generation_pipeline_example.ipynb demonstrating how to load a text generation pipeline with a pre-trained model and generate text with a given prompt. Your task is to load a similar pre-trained generative model and assess whether the model succeeds at a set of tasks in zero-shot, one-shot, and two-shot settings.\n",
    "\n",
    "**Note: Downloading and running the pre-trained model locally may take some time. Alternatively, you can open and run this notebook on [Google Colab](https://colab.research.google.com/), as assumed in the following example.**"
   ]
  },
  {
   "cell_type": "markdown",
   "metadata": {
    "id": "tIQ1s96UCcJW"
   },
   "source": [
    "## Text generation example\n",
    "\n",
    "This is a brief example of how to run text generation with a causal language model and `pipeline`.\n",
    "\n",
    "Install [transformers](https://huggingface.co/docs/transformers/index) python package. This will be used to load the model and tokenizer and to run generation."
   ]
  },
  {
   "cell_type": "code",
   "execution_count": 19,
   "metadata": {
    "id": "4fUBJmXHCHw-"
   },
   "outputs": [],
   "source": [
    "!pip install --quiet transformers"
   ]
  },
  {
   "cell_type": "markdown",
   "metadata": {
    "id": "5ZRNZgRJCt6Q"
   },
   "source": [
    "Import the `AutoTokenizer`, `AutoModelForCausalLM`, and `pipeline` classes. The first two support loading tokenizers and generative models from the [Hugging Face repository](https://huggingface.co/models), and the last wraps a tokenizer and a model for convenience."
   ]
  },
  {
   "cell_type": "code",
   "execution_count": 20,
   "metadata": {
    "id": "jwyK005xCFSF"
   },
   "outputs": [],
   "source": [
    "from transformers import AutoTokenizer, AutoModelForCausalLM, pipeline"
   ]
  },
  {
   "cell_type": "markdown",
   "metadata": {
    "id": "6QJPDe3ZC_sL"
   },
   "source": [
    "Load a generative model and its tokenizer. You can substitute any other generative model name here (e.g. [other TurkuNLP GPT-3 models](https://huggingface.co/models?sort=downloads&search=turkunlp%2Fgpt3)), but note that Colab may have issues running larger models. "
   ]
  },
  {
   "cell_type": "code",
   "execution_count": 21,
   "metadata": {
    "id": "wqTxn_QaCNjZ"
   },
   "outputs": [],
   "source": [
    "MODEL_NAME = 'TurkuNLP/gpt3-finnish-large'\n",
    "\n",
    "tokenizer = AutoTokenizer.from_pretrained(MODEL_NAME)\n",
    "model = AutoModelForCausalLM.from_pretrained(MODEL_NAME)"
   ]
  },
  {
   "cell_type": "markdown",
   "metadata": {
    "id": "9ADWWb77e1sY"
   },
   "source": [
    "Instantiate a text generation pipeline using the tokenizer and model."
   ]
  },
  {
   "cell_type": "code",
   "execution_count": 22,
   "metadata": {
    "id": "0IIJzNrEe5qx"
   },
   "outputs": [],
   "source": [
    "pipe = pipeline(\n",
    "    'text-generation',\n",
    "    model=model,\n",
    "    tokenizer=tokenizer,\n",
    "    device=model.device\n",
    ")"
   ]
  },
  {
   "cell_type": "markdown",
   "metadata": {
    "id": "eAohNr1ciwaU"
   },
   "source": [
    "We can now call the pipeline with a text prompt; it will take care of tokenizing, encoding, generation, and decoding:"
   ]
  },
  {
   "cell_type": "code",
   "execution_count": 23,
   "metadata": {
    "colab": {
     "base_uri": "https://localhost:8080/"
    },
    "id": "jWcOJkiKi5vr",
    "outputId": "11cb09ab-310d-438e-e372-ef8d7f8f66a2"
   },
   "outputs": [
    {
     "name": "stdout",
     "output_type": "stream",
     "text": [
      "[{'generated_text': 'Terve, miten menee?”\\n”Hyvin, kiitos.”\\n”Kiva kuulla.”\\n”Kuule, minulla on sinulle asiaa.”\\n'}]\n"
     ]
    }
   ],
   "source": [
    "output = pipe('Terve, miten menee?', max_new_tokens=25)\n",
    "\n",
    "print(output)"
   ]
  },
  {
   "cell_type": "markdown",
   "metadata": {
    "id": "SNRMsxXOjSo0"
   },
   "source": [
    "Just print the text"
   ]
  },
  {
   "cell_type": "code",
   "execution_count": 24,
   "metadata": {
    "colab": {
     "base_uri": "https://localhost:8080/"
    },
    "id": "9Op7MJ6XjahG",
    "outputId": "5d9e26dd-3e80-4663-a712-d85093fad073"
   },
   "outputs": [
    {
     "name": "stdout",
     "output_type": "stream",
     "text": [
      "Terve, miten menee?”\n",
      "”Hyvin, kiitos.”\n",
      "”Kiva kuulla.”\n",
      "”Kuule, minulla on sinulle asiaa.”\n",
      "\n"
     ]
    }
   ],
   "source": [
    "print(output[0]['generated_text'])"
   ]
  },
  {
   "cell_type": "markdown",
   "metadata": {
    "id": "YROp3hyikXPO"
   },
   "source": [
    "We can also call the pipeline with any arguments that the model `generate` function supports. For details on text generation using `transformers`, see e.g. [this tutorial](https://huggingface.co/blog/how-to-generate).\n",
    "\n",
    "Example with sampling and a high `temperature` parameter to generate more chaotic output:"
   ]
  },
  {
   "cell_type": "code",
   "execution_count": 26,
   "metadata": {
    "colab": {
     "base_uri": "https://localhost:8080/"
    },
    "id": "22QjXE88jkim",
    "outputId": "372a4fc2-e305-4034-cea3-a52b6103c24f"
   },
   "outputs": [
    {
     "name": "stdout",
     "output_type": "stream",
     "text": [
      "Terve, miten menee? kysyi Heikki yhtäkkiä astuessaan taloon sisään kantaen kahvipöytä-tarvikkeita käsissään sisään tultuaan.\n",
      "(Ryökäle luuli varmasti hänen tulevan meille istumaan)\n",
      "\n",
      "\n"
     ]
    }
   ],
   "source": [
    "output = pipe(\n",
    "    'Terve, miten menee?',\n",
    "    do_sample=True,\n",
    "    temperature=10.0,\n",
    "    max_new_tokens=25\n",
    ")\n",
    "\n",
    "print(output[0]['generated_text'])"
   ]
  },
  {
   "cell_type": "markdown",
   "metadata": {},
   "source": [
    "## Exercise 1\n",
    "\n",
    "Your task is to assess whether a generative model succeeds in the following tasks in zero-shot, one-shot, and two-shot settings:\n",
    "\n",
    "- binary sentiment classification (positive / negative)\n",
    "\n",
    "- person name recognition\n",
    "\n",
    "- two-digit addition (e.g. 11 + 22 = 33)\n",
    "\n",
    "For example, for assessing whether a generative model can name capital cities, we could use the following prompts:\n",
    "\n",
    "- zero-shot:\n",
    "\t>\"\"\"\\\n",
    "\t>Identify the capital cities of countries.\n",
    "\t>\n",
    "\t>Question: What is the capital of Finland?\\\n",
    "\t>Answer:\\\n",
    "\t>\"\"\"\n",
    "- one-shot:\n",
    "\t>\"\"\"\\\n",
    "\t>Identify the capital cities of countries.\n",
    "\t>\n",
    "\t>Question: What is the capital of Sweden?\\\n",
    "\t>Answer: Stockholm\n",
    "\t>\n",
    "\t>Question: What is the capital of Finland?\\\n",
    "\t>Answer:\\\n",
    "\t>\"\"\"\n",
    "- two-shot:\n",
    "\t>\"\"\"\\\n",
    "\t>Identify the capital cities of countries.\n",
    "\t>\n",
    "\t>Question: What is the capital of Sweden?\\\n",
    "\t>Answer: Stockholm\n",
    "\t>\n",
    "\t>Question: What is the capital of Denmark?\\\n",
    "\t>Answer: Copenhagen\n",
    "\t>\n",
    "\t>Question: What is the capital of Finland?\\\n",
    "\t>Answer:\\\n",
    "\t>\"\"\"\n",
    "\n",
    "You can do the tasks either in English or Finnish and use a generative model of your choice from the Hugging Face models repository, for example the following models:\n",
    "\n",
    "- English: `gpt2-large`\n",
    "- Finnish: `TurkuNLP/gpt3-finnish-large`\n",
    "\n",
    "You can either come up with your own instructions for the tasks or use the following:\n",
    "\n",
    "- English:\n",
    "\t- binary sentiment classification: \"Do the following texts express a positive or negative sentiment?\"\n",
    "\t- person name recognition: \"List the person names occurring in the following texts.\"\n",
    "\t- two-digit addition: \"This is a first grade math exam.\"\n",
    "- Finnish:\n",
    "\t- binary sentiment classification: \"Ilmaisevatko seuraavat tekstit positiivista vai negatiivista tunnetta?\"\n",
    "\t- person name recognition: \"Listaa seuraavissa teksteissä mainitut henkilönnimet.\"\n",
    "\t- two-digit addition: \"Tämä on ensimmäisen luokan matematiikan koe.\"\n",
    "\n",
    "Come up with at least two test cases for each of the three tasks, and come up with your own one- and two-shot examples."
   ]
  },
  {
   "cell_type": "code",
   "execution_count": null,
   "metadata": {},
   "outputs": [],
   "source": [
    "output_zero_shot = pipe('Ilmaiseeko seuraava teksti positiivista vai negatiivista tunnetta?\\nTeksti: Olen raivoissani\\nVastaus:', max_new_tokens=2)\n",
    "print(output_zero_shot[0]['generated_text'])\n",
    "\n",
    "output_one_shot = pipe('Ilmaisevatko seuraavat tekstit positiivista vai negatiivista tunnetta?\\nTeksti: Toivottomuuden tunne on poissa\\nVastaus: Positiivisia\\nTeksti: Olen raivoissani\\nVastaus:', max_new_tokens=2)\n",
    "print(output_one_shot[0]['generated_text'])\n",
    "\n",
    "output_two_shot = pipe('Ilmaisevatko seuraavat tekstit positiivista vai negatiivista tunnetta?\\nTeksti: Olen raivoissani\\nVastaus: Negatiivisia\\nTeksti:Toivottomuuden tunne on poissa\\nVastaus: Positiivisia\\nTeksti: Olen raivoissani\\nVastaus:', max_new_tokens=2)\n",
    "print(output_two_shot[0]['generated_text'])\n",
    "\n",
    "output_zero_shot_names = pipe('Listaa seuraavissa teksteissä mainitut henkilönnimet.\\nTeksti: Maija ja Juho menivät elokuviin.\\nVastaus:', max_new_tokens=2)\n",
    "print(output_zero_shot_names[0]['generated_text'])\n",
    "\n",
    "output_one_shot_names = pipe('Listaa seuraavissa teksteissä mainitut henkilönnimet.\\nTeksti: Pekka ja Maija menivät kauppaan.\\nVastaus: Pekka Maija\\nTeksti: Juho ja Liisa ovat ystäviä.\\nVastaus:', max_new_tokens=2)\n",
    "print(output_one_shot_names[0]['generated_text'])\n",
    "\n",
    "output_two_shot_names = pipe('Listaa seuraavissa teksteissä mainitut henkilönnimet.\\nTeksti: Pekka ja Maija menivät kauppaan.\\nVastaus: Pekka Maija\\nTeksti: Juha on opettaja.\\nVastaus: Juha\\nTeksti: Sanna ja Antti ovat naimisissa.\\nVastaus:', max_new_tokens=2)\n",
    "print(output_two_shot_names[0]['generated_text'])\n",
    "\n",
    "output_zero_shot_addition = pipe('Tämä on ensimmäisen luokan matematiikan koe.\\nLaske seuraava summa:\\n23 + 45 =\\nVastaus:', max_new_tokens=2)\n",
    "print(output_zero_shot_addition[0]['generated_text'])\n",
    "\n",
    "output_one_shot_addition = pipe('Tämä on ensimmäisen luokan matematiikan koe.\\nLaske seuraava summa:\\n12 + 34 =\\nVastaus: 46\\nLaske seuraava summa:\\n23 + 45 =\\nVastaus:', max_new_tokens=2)\n",
    "print(output_one_shot_addition[0]['generated_text'])\n",
    "\n",
    "output_two_shot_addition = pipe('Tämä on ensimmäisen luokan matematiikan koe.\\nLaske seuraava summa:\\n12 + 34 =\\nVastaus: 46\\nLaske seuraava summa:\\n50 + 10 =\\nVastaus: 60\\nLaske seuraava summa:\\n23 + 45 =\\nVastaus:', max_new_tokens=2)\n",
    "print(output_two_shot_addition[0]['generated_text'])"
   ]
  },
  {
   "cell_type": "markdown",
   "metadata": {},
   "source": [
    "Ilmaiseeko seuraava teksti positiivista vai negatiivista tunnetta?\n",
    "Teksti: Olen raivoissani\n",
    "Vastaus: Voi kuulostaa\n",
    "\n",
    "Ilmaisevatko seuraavat tekstit positiivista vai negatiivista tunnetta?\n",
    "Teksti: Toivottomuuden tunne on poissa\n",
    "Vastaus: Positiivisia\n",
    "Teksti: Olen raivoissani\n",
    "Vastaus: Positiivisia\n",
    "\n",
    "Ilmaisevatko seuraavat tekstit positiivista vai negatiivista tunnetta?\n",
    "Teksti: Olen raivoissani\n",
    "Vastaus: Negatiivisia\n",
    "Teksti:Toivottomuuden tunne on poissa\n",
    "Vastaus: Positiivisia\n",
    "Teksti: Olen raivoissani\n",
    "Vastaus: Positiivisia\n"
   ]
  },
  {
   "cell_type": "markdown",
   "metadata": {},
   "source": [
    "Listaa seuraavissa teksteissä mainitut henkilönnimet.\n",
    "Teksti: Maija ja Juho menivät elokuviin.\n",
    "Vastaus:\n",
    "Maija\n",
    "\n",
    "Listaa seuraavissa teksteissä mainitut henkilönnimet.\n",
    "Teksti: Pekka ja Maija menivät kauppaan.\n",
    "Vastaus: Pekka Maija\n",
    "Teksti: Juho ja Liisa ovat ystäviä.\n",
    "Vastaus: Juho Liisa\n",
    "\n",
    "Listaa seuraavissa teksteissä mainitut henkilönnimet.\n",
    "Teksti: Pekka ja Maija menivät kauppaan.\n",
    "Vastaus: Pekka Maija\n",
    "Teksti: Juha on opettaja.\n",
    "Vastaus: Juha\n",
    "Teksti: Sanna ja Antti ovat naimisissa.\n",
    "Vastaus: Sanna ja"
   ]
  },
  {
   "cell_type": "markdown",
   "metadata": {},
   "source": [
    "Tämä on ensimmäisen luokan matematiikan koe.\n",
    "Laske seuraava summa:\n",
    "23 + 45 =\n",
    "Vastaus:\n",
    "Oikea\n",
    "\n",
    "Laske seuraava summa:\n",
    "12 + 34 =\n",
    "Vastaus: 46\n",
    "Laske seuraava summa:\n",
    "23 + 45 =\n",
    "Vastaus: 40\n",
    "\n",
    "Laske seuraava summa:\n",
    "12 + 34 =\n",
    "Vastaus: 46\n",
    "Laske seuraava summa:\n",
    "50 + 10 =\n",
    "Vastaus: 60\n",
    "Laske seuraava summa:\n",
    "23 + 45 =\n",
    "Vastaus: 65"
   ]
  },
  {
   "cell_type": "markdown",
   "metadata": {},
   "source": [
    "The feeling task required two tokens instead of two but that might be related to the expected words being a tad longer than usual. The model failed the feeling task generally speaking.\n",
    "\n",
    "Detecting names from texts worked fine with one-shot but failed in different ways in zero-shot and two-shot.\n",
    "\n",
    "Math task failed in zero-shot probably due to trying to form a sentence rather than a number. The other few-shots got the number format right but failed in calculating it. No hard feelings since it was mainly a finnish-specific GPT."
   ]
  },
  {
   "cell_type": "markdown",
   "metadata": {},
   "source": [
    "**Submit this exercise by submitting your code and your answers to the above questions as comments on the MOOC platform. You can return this Jupyter notebook (.ipynb) or .py, .R, etc depending on your programming preferences.**"
   ]
  }
 ],
 "metadata": {
  "colab": {
   "authorship_tag": "ABX9TyMPTKW2dgboQJpXpHYIBCHp",
   "include_colab_link": true,
   "provenance": []
  },
  "kernelspec": {
   "display_name": "Python 3 (ipykernel)",
   "language": "python",
   "name": "python3"
  },
  "language_info": {
   "codemirror_mode": {
    "name": "ipython",
    "version": 3
   },
   "file_extension": ".py",
   "mimetype": "text/x-python",
   "name": "python",
   "nbconvert_exporter": "python",
   "pygments_lexer": "ipython3",
   "version": "3.12.3"
  }
 },
 "nbformat": 4,
 "nbformat_minor": 4
}
